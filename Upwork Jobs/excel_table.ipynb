{
 "cells": [
  {
   "attachments": {},
   "cell_type": "markdown",
   "metadata": {},
   "source": [
    "I need the script/formula to pull the following information.\n",
    "\n",
    "Formula Script1\n",
    "\n",
    "If TABLE1  D2 = 2 then find all instances of 2 in TABLE2 Column G and list in TABLE1 cell E2 all references from Column B seperated by a comma.\n",
    "\n",
    "Example below:\n",
    "\n",
    "So if Table1 D2 = 2\n",
    "TABLE2 Column G contains 3 instances = 2.\n",
    "Reference from Column B are \"Apple\" \"Orange\" \"Banana\" then the result in TABLE1 cell E2 = Apple,Orange,Banana\n",
    "\n",
    "----\n",
    "\n",
    "Formula 2\n",
    "\n",
    "In TABLE1 there are 10 columns with headers.\n",
    "\n",
    "If TABLE1 Row B, Column H to AG, whichever columns have data within them then list header data from Row A in TABLE1 cell F2 seperated by commas.\n",
    "\n",
    "Example Below:\n",
    "\n",
    "TABLE1 Row B has data in Column X,Y & Z.\n",
    "The headers in row X, Y, Z are \"Fruit\" \"Cheese\" \"Bread\"\n",
    "Then in cell B2 the result would = Fruit, Cheese, Bread\n",
    "\n",
    "If Row C has data from Column G,Y & Z\n",
    "The headers in row G & Y are \"Shoes\" \"Cheese\"\n",
    "Then in cell C2 the result would = Shoes, Cheese\n",
    "\n",
    "Hope that makes sense. Any questions let me know.\n",
    "\n",
    "Required quickly.  Prefer formula over script but ok either way."
   ]
  },
  {
   "cell_type": "code",
   "execution_count": 21,
   "metadata": {},
   "outputs": [],
   "source": [
    "import pandas as pd\n",
    "import tabulate\n",
    "from prettytable import PrettyTable"
   ]
  },
  {
   "cell_type": "code",
   "execution_count": 29,
   "metadata": {},
   "outputs": [],
   "source": [
    "myTable = PrettyTable(['Name', 'Class', 'Section'])\n",
    "\n",
    "myTable.add_row(['Colin', 'Data Science', 'Computer Engineering'])"
   ]
  },
  {
   "cell_type": "code",
   "execution_count": 30,
   "metadata": {},
   "outputs": [
    {
     "data": {
      "text/html": [
       "<table>\n",
       "    <thead>\n",
       "        <tr>\n",
       "            <th>Name</th>\n",
       "            <th>Class</th>\n",
       "            <th>Section</th>\n",
       "        </tr>\n",
       "    </thead>\n",
       "    <tbody>\n",
       "        <tr>\n",
       "            <td>Colin</td>\n",
       "            <td>Data Science</td>\n",
       "            <td>Computer Engineering</td>\n",
       "        </tr>\n",
       "    </tbody>\n",
       "</table>"
      ],
      "text/plain": [
       "+-------+--------------+----------------------+\n",
       "|  Name |    Class     |       Section        |\n",
       "+-------+--------------+----------------------+\n",
       "| Colin | Data Science | Computer Engineering |\n",
       "+-------+--------------+----------------------+"
      ]
     },
     "execution_count": 30,
     "metadata": {},
     "output_type": "execute_result"
    }
   ],
   "source": [
    "myTable"
   ]
  },
  {
   "cell_type": "code",
   "execution_count": null,
   "metadata": {},
   "outputs": [],
   "source": []
  }
 ],
 "metadata": {
  "kernelspec": {
   "display_name": "base",
   "language": "python",
   "name": "python3"
  },
  "language_info": {
   "codemirror_mode": {
    "name": "ipython",
    "version": 3
   },
   "file_extension": ".py",
   "mimetype": "text/x-python",
   "name": "python",
   "nbconvert_exporter": "python",
   "pygments_lexer": "ipython3",
   "version": "3.9.13"
  },
  "orig_nbformat": 4,
  "vscode": {
   "interpreter": {
    "hash": "74b8b5550d9a4bd47312fc4925b474308703c02b5070beca2150cc39634b882e"
   }
  }
 },
 "nbformat": 4,
 "nbformat_minor": 2
}
