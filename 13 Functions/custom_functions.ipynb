{
 "cells": [
  {
   "cell_type": "code",
   "execution_count": 131,
   "metadata": {},
   "outputs": [],
   "source": [
    "def say_hello():\n",
    "    return 'hello!'"
   ]
  },
  {
   "cell_type": "code",
   "execution_count": 132,
   "metadata": {},
   "outputs": [
    {
     "data": {
      "text/plain": [
       "{'__name__': '__main__',\n",
       " '__doc__': 'Automatically created module for IPython interactive environment',\n",
       " '__package__': None,\n",
       " '__loader__': None,\n",
       " '__spec__': None,\n",
       " '__builtin__': <module 'builtins' (built-in)>,\n",
       " '__builtins__': <module 'builtins' (built-in)>,\n",
       " '_ih': ['',\n",
       "  \"def say_hello():\\n    return 'hello!'\",\n",
       "  'globals()',\n",
       "  'a = 100',\n",
       "  'a',\n",
       "  'type(say_hello)',\n",
       "  'result = say_hello',\n",
       "  'result',\n",
       "  'result = say_hello()',\n",
       "  'result',\n",
       "  'f is say_hello',\n",
       "  'say_hello()',\n",
       "  'f()',\n",
       "  'f is say_hello()',\n",
       "  'f is say_hello',\n",
       "  'f = say_hello',\n",
       "  'f is say_hello',\n",
       "  'f()',\n",
       "  'l1 = [1, 2, 3]',\n",
       "  'globals()',\n",
       "  'say_hello.__name__',\n",
       "  'f.__name__',\n",
       "  \"def add(a, b, c):\\n    print(f'a = {a}')\\n    print(f'b = {b}')\\n    print(f'c = {c}')\\n    return a + b + c\",\n",
       "  'result = add(1, 2, 3)',\n",
       "  'result',\n",
       "  'def num_avg(numb):\\n    num = 0\\n    for n in numb:\\n        num = num + n\\n\\n    avg = num / len(num)\\n    return avg',\n",
       "  \"def num_avg(numb):\\n    num = 0\\n    for n in numb:\\n        num = num + n\\n\\n    avg = num / len(num)\\n    return avg\\n\\nprint('The average is:', num_avg(1, 2, 2, 3, 3, 4, 5, 6, 7, 8))\",\n",
       "  \"def num_avg(numb):\\n    num = 0\\n    for n in numb:\\n        num = num + n\\n\\n    avg = num / len(numb)\\n    return avg\\n\\nprint('The average is:', num_avg(1, 2, 2, 3, 3, 4, 5, 6, 7, 8))\",\n",
       "  \"def num_avg(numb):\\n    num = 0\\n    for n in numb:\\n        num = num + n\\n        avg = num / len(numb)\\n        return avg\\n\\nprint('The average is:', num_avg(1, 2, 2, 3, 3, 4, 5, 6, 7, 8))\",\n",
       "  \"def num_avg(numb):\\n    num = 0\\n    for n in numb:\\n        num = num + n\\n        avg = num / len(numb)\\n        return avg\\n\\nprint('The average is:', num_avg(1, 2, 2, 3, 3, 4, 5, 6, 7, 8))\",\n",
       "  \"def num_avg(numb):\\n    num = 0\\n    for n in numb:\\n        num = num + n\\n        avg = num / len(numb)\\n        return avg\\n\\nnumbers = [1, 2, 2, 3, 3, 4, 5, 6, 7, 7, 9]\\nprint('The average is:', num_avg(1, 2, 2, 3, 3, 4, 5, 6, 7, 8))\",\n",
       "  \"def num_avg(numb):\\n    num = 0\\n    for n in numb:\\n        num = num + n\\n        avg = num / len(numb)\\n        return avg\\n\\nnumbers = [1, 2, 2, 3, 3, 4, 5, 6, 7, 7, 9]\\nprint('The average is:', num_avg(numbers))\",\n",
       "  \"def num_avg(numb):\\n    num = 0\\n    for n in numb:\\n        print('iteration')\\n        num = num + n\\n        avg = num / len(numb)\\n        return avg\\n\\nnumbers = [1, 2, 2, 3, 3, 4, 5, 6, 7, 7, 9]\\nprint('The average is:', num_avg(numbers))\",\n",
       "  'numbers',\n",
       "  \"def num_avg(numb):\\n    num = 0\\n    for n in numb:\\n        print('iteration')\\n        num = num + n\\n    \\n    avg = num / len(numb)\\n    return avg\\n\\nnumbers = [1, 2, 2, 3, 3, 4, 5, 6, 7, 7, 9]\\nprint('The average is:', num_avg(numbers))\",\n",
       "  \"def num_avg(numb):\\n    num = 0\\n    for n in numb:\\n        print('iteration')\\n        num = num + n\\n    \\n    avg = num / len(numb)\\n    return avg\\n\\nnumbers = [1234,567,321,6314,654134,667134,5414324,5641,4316,43153]\\nprint('The average is:', num_avg(numbers))\",\n",
       "  \"def num_avg(numb):\\n    num = 0\\n    for n in numb:\\n        print('iteration')\\n        num = num + n\\n    \\n    avg = num / len(numb)\\n    return avg\\n\\nnumbers = [6,6,6,7,7,7,7,7,7,7,7,7,7,8,9,9,9,9,9,0,0,0,0]\\nprint('The average is:', num_avg(numbers))\",\n",
       "  \"def num_avg(num):\\n    numbers = 0\\n    for n in num:\\n        numbers = n + numbers\\n\\n    avg = numbers/len(num)\\n    return avg\\n\\nprint(f'The average of numbers is', num_avg(1, 2, 3, 4, 5)) \",\n",
       "  \"def num_avg(num):\\n    numbers = 0\\n    for n in num:\\n        numbers = n + numbers\\n\\n    avg = numbers/len(num)\\n    return avg\\n\\ntest_num = [1, 2, 3, 4, 5, 6, 7, 9]\\nprint(f'The average of numbers is', num_avg(test_num)) \",\n",
       "  \"def num_avg(num):\\n    numbers = 0\\n    for n in num:\\n        numbers = n + numbers\\n\\n    avg = numbers/len(num) + 1\\n    return avg\\n\\ntest_num = [1, 2, 3, 4, 5, 6, 7, 9]\\nprint(f'The average of numbers is', num_avg(test_num)) \",\n",
       "  \"def num_avg(num):\\n    numbers = 0\\n    for n in num:\\n        numbers = numbers + n\\n\\n    avg = numbers/len(num)\\n    return avg\\n\\ntest_num = [1, 2, 3, 4, 5, 6, 7, 9]\\nprint(f'The average of numbers is', num_avg(test_num)) \",\n",
       "  'result',\n",
       "  \"def say_hello():\\n    return 'hello!'\",\n",
       "  'globals()',\n",
       "  'a = 100',\n",
       "  'a',\n",
       "  'type(say_hello)',\n",
       "  'result = say_hello()',\n",
       "  'result',\n",
       "  'f = say_hello',\n",
       "  'f is say_hello',\n",
       "  'f()',\n",
       "  'l1 = [1, 2, 3]',\n",
       "  'say_hello.__name__',\n",
       "  'f.__name__',\n",
       "  \"def add(a, b, c):\\n    print(f'a = {a}')\\n    print(f'b = {b}')\\n    print(f'c = {c}')\\n    return a + b + c\",\n",
       "  'result = add(1, 2, 3)',\n",
       "  'result',\n",
       "  \"def add(a, b, c):\\n    print('Initial namespace:', locals())\\n    sum_ = a + b + c\\n    print('after sum_ namespace:', locals())\\n    return a + b + c\",\n",
       "  'add(1, 2, 3)',\n",
       "  'add(10, 20 , 30)',\n",
       "  'def find_max(a, b, c):\\n    max_ = a\\n    if b > max_:\\n        max_ = b\\n    if c > max_:\\n        max_ = c\\n    return max_\\n    ',\n",
       "  'find_max(10, 20, 30)',\n",
       "  'from datetime import datetime',\n",
       "  \"def log(message):\\n    curr_time = datetime.utcnow().isoformat()\\n    print(f'{curr_time} - [{message}]')\",\n",
       "  \"log('log 1')\",\n",
       "  \"result = log('log 1')\",\n",
       "  'type(result)',\n",
       "  \"log('log 2')\",\n",
       "  \"get_ipython().run_line_magic('pinfo', ' log')\",\n",
       "  'log.__init__',\n",
       "  'data = [1, 2, 3, 4, 5, 6]',\n",
       "  \"data = [1, 2, 3, 4, 5, 6]\\n\\nfor element in data:\\n    if element < 0:\\n        break\\nelse:\\n    print('processing all positive elements')\",\n",
       "  'def is_all_positive(data):\\n    for element in data:\\n        if element < 0:\\n            return False\\n    else:\\n        return True',\n",
       "  'is_all_positive([1, 2, 3, 4])',\n",
       "  'is_all_positive({1, -2, 3, 4, 5, 6})',\n",
       "  'is_all_positive(1, -2, 3, 4, 5, 6)',\n",
       "  'is_all_positive([1, -2, 3, 4, 5, 6])',\n",
       "  'is_all_positive(range(1, 10))',\n",
       "  'is_all_positive(range(10, -20, -2))',\n",
       "  \"d = {'a': 1, 'b': 2, 'c': -10}\",\n",
       "  'is_all_positive(d.values())',\n",
       "  'def gen_matrix(m, n, default_value):\\n    return [[default_value for i in range(n)] for j in range(m)]',\n",
       "  'gen_matrix(2, 2, 1)',\n",
       "  'gen_matrix(4, 8, 1)',\n",
       "  'def gen_matrix(m, n, default_value):\\n    # m: number of rows\\n    # n: number of columns\\n    return [[default_value for i in range(n)] for j in range(m)]',\n",
       "  'def gen_matrix(rows, cols, default_value):\\n    # m: number of rows\\n    # n: number of columns\\n    return [[default_value for i in range(cols)] for j in range(rows)]',\n",
       "  'gen_matrix(4, 8, 1)',\n",
       "  'gen_matrix(5, 10, 2)',\n",
       "  \"def say_hello():\\n    return 'hello!'\",\n",
       "  'globals()',\n",
       "  'a = 100',\n",
       "  'a',\n",
       "  'type(say_hello)',\n",
       "  'result = say_hello()',\n",
       "  'result',\n",
       "  'f = say_hello',\n",
       "  'f is say_hello',\n",
       "  'f()',\n",
       "  'l1 = [1, 2, 3]',\n",
       "  'say_hello.__name__',\n",
       "  'f.__name__',\n",
       "  \"def add(a, b, c):\\n    print(f'a = {a}')\\n    print(f'b = {b}')\\n    print(f'c = {c}')\\n    return a + b + c\",\n",
       "  'result = add(1, 2, 3)',\n",
       "  'result',\n",
       "  \"def add(a, b, c):\\n    print('Initial namespace:', locals())\\n    sum_ = a + b + c\\n    print('after sum_ namespace:', locals())\\n    return a + b + c\",\n",
       "  'add(1, 2, 3)',\n",
       "  'add(10, 20 , 30)',\n",
       "  'def find_max(a, b, c):\\n    max_ = a\\n    if b > max_:\\n        max_ = b\\n    if c > max_:\\n        max_ = c\\n    return max_\\n    ',\n",
       "  'find_max(10, 20, 30)',\n",
       "  'from datetime import datetime',\n",
       "  \"def log(message):\\n    curr_time = datetime.utcnow().isoformat()\\n    print(f'{curr_time} - [{message}]')\",\n",
       "  \"log('log 1')\",\n",
       "  \"result = log('log 1')\",\n",
       "  'type(result)',\n",
       "  \"log('log 2')\",\n",
       "  \"data = [1, 2, 3, 4, 5, 6]\\n\\nfor element in data:\\n    if element < 0:\\n        break\\nelse:\\n    print('processing all positive elements')\",\n",
       "  'def is_all_positive(data):\\n    for element in data:\\n        if element < 0:\\n            return False\\n    else:\\n        return True',\n",
       "  'is_all_positive([1, 2, 3, 4])',\n",
       "  'is_all_positive([1, -2, 3, 4, 5, 6])',\n",
       "  'is_all_positive(range(10, -20, -2))',\n",
       "  \"d = {'a': 1, 'b': 2, 'c': -10}\",\n",
       "  'is_all_positive(d.values())',\n",
       "  'def gen_matrix(m, n, default_value):\\n    # m: number of rows\\n    # n: number of columns\\n    return [[default_value for i in range(n)] for j in range(m)]',\n",
       "  'gen_matrix(2, 2, 1)',\n",
       "  'gen_matrix(4, 8, 1)',\n",
       "  'def gen_matrix(rows, cols, default_value):\\n    # m: number of rows\\n    # n: number of columns\\n    return [[default_value for i in range(cols)] for j in range(rows)]',\n",
       "  'gen_matrix(4, 8, 1)',\n",
       "  'gen_matrix(5, 10, 2)',\n",
       "  'gen_matrix(row=4, cols=8, default_value==1)',\n",
       "  'gen_matrix(row=4, cols=8, default_value=1)',\n",
       "  \"def say_hello():\\n    return 'hello!'\",\n",
       "  'globals()'],\n",
       " '_oh': {2: {...},\n",
       "  4: 100,\n",
       "  5: function,\n",
       "  7: <function __main__.say_hello()>,\n",
       "  9: 'hello!',\n",
       "  11: 'hello!',\n",
       "  16: True,\n",
       "  17: 'hello!',\n",
       "  19: {...},\n",
       "  20: 'say_hello',\n",
       "  21: 'say_hello',\n",
       "  24: 6,\n",
       "  33: [1, 2, 2, 3, 3, 4, 5, 6, 7, 7, 9],\n",
       "  41: 6,\n",
       "  43: {...},\n",
       "  45: 100,\n",
       "  46: function,\n",
       "  48: 'hello!',\n",
       "  50: True,\n",
       "  51: 'hello!',\n",
       "  53: 'say_hello',\n",
       "  54: 'say_hello',\n",
       "  57: 6,\n",
       "  59: 6,\n",
       "  60: 60,\n",
       "  62: 30,\n",
       "  67: NoneType,\n",
       "  70: <method-wrapper '__init__' of function object at 0x000002086EA7BE50>,\n",
       "  74: True,\n",
       "  75: False,\n",
       "  77: False,\n",
       "  78: True,\n",
       "  79: False,\n",
       "  81: False,\n",
       "  83: [[1, 1], [1, 1]],\n",
       "  84: [[1, 1, 1, 1, 1, 1, 1, 1],\n",
       "   [1, 1, 1, 1, 1, 1, 1, 1],\n",
       "   [1, 1, 1, 1, 1, 1, 1, 1],\n",
       "   [1, 1, 1, 1, 1, 1, 1, 1]],\n",
       "  87: [[1, 1, 1, 1, 1, 1, 1, 1],\n",
       "   [1, 1, 1, 1, 1, 1, 1, 1],\n",
       "   [1, 1, 1, 1, 1, 1, 1, 1],\n",
       "   [1, 1, 1, 1, 1, 1, 1, 1]],\n",
       "  88: [[2, 2, 2, 2, 2, 2, 2, 2, 2, 2],\n",
       "   [2, 2, 2, 2, 2, 2, 2, 2, 2, 2],\n",
       "   [2, 2, 2, 2, 2, 2, 2, 2, 2, 2],\n",
       "   [2, 2, 2, 2, 2, 2, 2, 2, 2, 2],\n",
       "   [2, 2, 2, 2, 2, 2, 2, 2, 2, 2]],\n",
       "  90: {...},\n",
       "  92: 100,\n",
       "  93: function,\n",
       "  95: 'hello!',\n",
       "  97: True,\n",
       "  98: 'hello!',\n",
       "  100: 'say_hello',\n",
       "  101: 'say_hello',\n",
       "  104: 6,\n",
       "  106: 6,\n",
       "  107: 60,\n",
       "  109: 30,\n",
       "  114: NoneType,\n",
       "  118: True,\n",
       "  119: False,\n",
       "  120: False,\n",
       "  122: False,\n",
       "  124: [[1, 1], [1, 1]],\n",
       "  125: [[1, 1, 1, 1, 1, 1, 1, 1],\n",
       "   [1, 1, 1, 1, 1, 1, 1, 1],\n",
       "   [1, 1, 1, 1, 1, 1, 1, 1],\n",
       "   [1, 1, 1, 1, 1, 1, 1, 1]],\n",
       "  127: [[1, 1, 1, 1, 1, 1, 1, 1],\n",
       "   [1, 1, 1, 1, 1, 1, 1, 1],\n",
       "   [1, 1, 1, 1, 1, 1, 1, 1],\n",
       "   [1, 1, 1, 1, 1, 1, 1, 1]],\n",
       "  128: [[2, 2, 2, 2, 2, 2, 2, 2, 2, 2],\n",
       "   [2, 2, 2, 2, 2, 2, 2, 2, 2, 2],\n",
       "   [2, 2, 2, 2, 2, 2, 2, 2, 2, 2],\n",
       "   [2, 2, 2, 2, 2, 2, 2, 2, 2, 2],\n",
       "   [2, 2, 2, 2, 2, 2, 2, 2, 2, 2]]},\n",
       " '_dh': ['c:\\\\Users\\\\light\\\\Dropbox\\\\Lightspeed Delivery, LLC\\\\Python\\\\Python Course\\\\13 Functions'],\n",
       " 'In': ['',\n",
       "  \"def say_hello():\\n    return 'hello!'\",\n",
       "  'globals()',\n",
       "  'a = 100',\n",
       "  'a',\n",
       "  'type(say_hello)',\n",
       "  'result = say_hello',\n",
       "  'result',\n",
       "  'result = say_hello()',\n",
       "  'result',\n",
       "  'f is say_hello',\n",
       "  'say_hello()',\n",
       "  'f()',\n",
       "  'f is say_hello()',\n",
       "  'f is say_hello',\n",
       "  'f = say_hello',\n",
       "  'f is say_hello',\n",
       "  'f()',\n",
       "  'l1 = [1, 2, 3]',\n",
       "  'globals()',\n",
       "  'say_hello.__name__',\n",
       "  'f.__name__',\n",
       "  \"def add(a, b, c):\\n    print(f'a = {a}')\\n    print(f'b = {b}')\\n    print(f'c = {c}')\\n    return a + b + c\",\n",
       "  'result = add(1, 2, 3)',\n",
       "  'result',\n",
       "  'def num_avg(numb):\\n    num = 0\\n    for n in numb:\\n        num = num + n\\n\\n    avg = num / len(num)\\n    return avg',\n",
       "  \"def num_avg(numb):\\n    num = 0\\n    for n in numb:\\n        num = num + n\\n\\n    avg = num / len(num)\\n    return avg\\n\\nprint('The average is:', num_avg(1, 2, 2, 3, 3, 4, 5, 6, 7, 8))\",\n",
       "  \"def num_avg(numb):\\n    num = 0\\n    for n in numb:\\n        num = num + n\\n\\n    avg = num / len(numb)\\n    return avg\\n\\nprint('The average is:', num_avg(1, 2, 2, 3, 3, 4, 5, 6, 7, 8))\",\n",
       "  \"def num_avg(numb):\\n    num = 0\\n    for n in numb:\\n        num = num + n\\n        avg = num / len(numb)\\n        return avg\\n\\nprint('The average is:', num_avg(1, 2, 2, 3, 3, 4, 5, 6, 7, 8))\",\n",
       "  \"def num_avg(numb):\\n    num = 0\\n    for n in numb:\\n        num = num + n\\n        avg = num / len(numb)\\n        return avg\\n\\nprint('The average is:', num_avg(1, 2, 2, 3, 3, 4, 5, 6, 7, 8))\",\n",
       "  \"def num_avg(numb):\\n    num = 0\\n    for n in numb:\\n        num = num + n\\n        avg = num / len(numb)\\n        return avg\\n\\nnumbers = [1, 2, 2, 3, 3, 4, 5, 6, 7, 7, 9]\\nprint('The average is:', num_avg(1, 2, 2, 3, 3, 4, 5, 6, 7, 8))\",\n",
       "  \"def num_avg(numb):\\n    num = 0\\n    for n in numb:\\n        num = num + n\\n        avg = num / len(numb)\\n        return avg\\n\\nnumbers = [1, 2, 2, 3, 3, 4, 5, 6, 7, 7, 9]\\nprint('The average is:', num_avg(numbers))\",\n",
       "  \"def num_avg(numb):\\n    num = 0\\n    for n in numb:\\n        print('iteration')\\n        num = num + n\\n        avg = num / len(numb)\\n        return avg\\n\\nnumbers = [1, 2, 2, 3, 3, 4, 5, 6, 7, 7, 9]\\nprint('The average is:', num_avg(numbers))\",\n",
       "  'numbers',\n",
       "  \"def num_avg(numb):\\n    num = 0\\n    for n in numb:\\n        print('iteration')\\n        num = num + n\\n    \\n    avg = num / len(numb)\\n    return avg\\n\\nnumbers = [1, 2, 2, 3, 3, 4, 5, 6, 7, 7, 9]\\nprint('The average is:', num_avg(numbers))\",\n",
       "  \"def num_avg(numb):\\n    num = 0\\n    for n in numb:\\n        print('iteration')\\n        num = num + n\\n    \\n    avg = num / len(numb)\\n    return avg\\n\\nnumbers = [1234,567,321,6314,654134,667134,5414324,5641,4316,43153]\\nprint('The average is:', num_avg(numbers))\",\n",
       "  \"def num_avg(numb):\\n    num = 0\\n    for n in numb:\\n        print('iteration')\\n        num = num + n\\n    \\n    avg = num / len(numb)\\n    return avg\\n\\nnumbers = [6,6,6,7,7,7,7,7,7,7,7,7,7,8,9,9,9,9,9,0,0,0,0]\\nprint('The average is:', num_avg(numbers))\",\n",
       "  \"def num_avg(num):\\n    numbers = 0\\n    for n in num:\\n        numbers = n + numbers\\n\\n    avg = numbers/len(num)\\n    return avg\\n\\nprint(f'The average of numbers is', num_avg(1, 2, 3, 4, 5)) \",\n",
       "  \"def num_avg(num):\\n    numbers = 0\\n    for n in num:\\n        numbers = n + numbers\\n\\n    avg = numbers/len(num)\\n    return avg\\n\\ntest_num = [1, 2, 3, 4, 5, 6, 7, 9]\\nprint(f'The average of numbers is', num_avg(test_num)) \",\n",
       "  \"def num_avg(num):\\n    numbers = 0\\n    for n in num:\\n        numbers = n + numbers\\n\\n    avg = numbers/len(num) + 1\\n    return avg\\n\\ntest_num = [1, 2, 3, 4, 5, 6, 7, 9]\\nprint(f'The average of numbers is', num_avg(test_num)) \",\n",
       "  \"def num_avg(num):\\n    numbers = 0\\n    for n in num:\\n        numbers = numbers + n\\n\\n    avg = numbers/len(num)\\n    return avg\\n\\ntest_num = [1, 2, 3, 4, 5, 6, 7, 9]\\nprint(f'The average of numbers is', num_avg(test_num)) \",\n",
       "  'result',\n",
       "  \"def say_hello():\\n    return 'hello!'\",\n",
       "  'globals()',\n",
       "  'a = 100',\n",
       "  'a',\n",
       "  'type(say_hello)',\n",
       "  'result = say_hello()',\n",
       "  'result',\n",
       "  'f = say_hello',\n",
       "  'f is say_hello',\n",
       "  'f()',\n",
       "  'l1 = [1, 2, 3]',\n",
       "  'say_hello.__name__',\n",
       "  'f.__name__',\n",
       "  \"def add(a, b, c):\\n    print(f'a = {a}')\\n    print(f'b = {b}')\\n    print(f'c = {c}')\\n    return a + b + c\",\n",
       "  'result = add(1, 2, 3)',\n",
       "  'result',\n",
       "  \"def add(a, b, c):\\n    print('Initial namespace:', locals())\\n    sum_ = a + b + c\\n    print('after sum_ namespace:', locals())\\n    return a + b + c\",\n",
       "  'add(1, 2, 3)',\n",
       "  'add(10, 20 , 30)',\n",
       "  'def find_max(a, b, c):\\n    max_ = a\\n    if b > max_:\\n        max_ = b\\n    if c > max_:\\n        max_ = c\\n    return max_\\n    ',\n",
       "  'find_max(10, 20, 30)',\n",
       "  'from datetime import datetime',\n",
       "  \"def log(message):\\n    curr_time = datetime.utcnow().isoformat()\\n    print(f'{curr_time} - [{message}]')\",\n",
       "  \"log('log 1')\",\n",
       "  \"result = log('log 1')\",\n",
       "  'type(result)',\n",
       "  \"log('log 2')\",\n",
       "  \"get_ipython().run_line_magic('pinfo', ' log')\",\n",
       "  'log.__init__',\n",
       "  'data = [1, 2, 3, 4, 5, 6]',\n",
       "  \"data = [1, 2, 3, 4, 5, 6]\\n\\nfor element in data:\\n    if element < 0:\\n        break\\nelse:\\n    print('processing all positive elements')\",\n",
       "  'def is_all_positive(data):\\n    for element in data:\\n        if element < 0:\\n            return False\\n    else:\\n        return True',\n",
       "  'is_all_positive([1, 2, 3, 4])',\n",
       "  'is_all_positive({1, -2, 3, 4, 5, 6})',\n",
       "  'is_all_positive(1, -2, 3, 4, 5, 6)',\n",
       "  'is_all_positive([1, -2, 3, 4, 5, 6])',\n",
       "  'is_all_positive(range(1, 10))',\n",
       "  'is_all_positive(range(10, -20, -2))',\n",
       "  \"d = {'a': 1, 'b': 2, 'c': -10}\",\n",
       "  'is_all_positive(d.values())',\n",
       "  'def gen_matrix(m, n, default_value):\\n    return [[default_value for i in range(n)] for j in range(m)]',\n",
       "  'gen_matrix(2, 2, 1)',\n",
       "  'gen_matrix(4, 8, 1)',\n",
       "  'def gen_matrix(m, n, default_value):\\n    # m: number of rows\\n    # n: number of columns\\n    return [[default_value for i in range(n)] for j in range(m)]',\n",
       "  'def gen_matrix(rows, cols, default_value):\\n    # m: number of rows\\n    # n: number of columns\\n    return [[default_value for i in range(cols)] for j in range(rows)]',\n",
       "  'gen_matrix(4, 8, 1)',\n",
       "  'gen_matrix(5, 10, 2)',\n",
       "  \"def say_hello():\\n    return 'hello!'\",\n",
       "  'globals()',\n",
       "  'a = 100',\n",
       "  'a',\n",
       "  'type(say_hello)',\n",
       "  'result = say_hello()',\n",
       "  'result',\n",
       "  'f = say_hello',\n",
       "  'f is say_hello',\n",
       "  'f()',\n",
       "  'l1 = [1, 2, 3]',\n",
       "  'say_hello.__name__',\n",
       "  'f.__name__',\n",
       "  \"def add(a, b, c):\\n    print(f'a = {a}')\\n    print(f'b = {b}')\\n    print(f'c = {c}')\\n    return a + b + c\",\n",
       "  'result = add(1, 2, 3)',\n",
       "  'result',\n",
       "  \"def add(a, b, c):\\n    print('Initial namespace:', locals())\\n    sum_ = a + b + c\\n    print('after sum_ namespace:', locals())\\n    return a + b + c\",\n",
       "  'add(1, 2, 3)',\n",
       "  'add(10, 20 , 30)',\n",
       "  'def find_max(a, b, c):\\n    max_ = a\\n    if b > max_:\\n        max_ = b\\n    if c > max_:\\n        max_ = c\\n    return max_\\n    ',\n",
       "  'find_max(10, 20, 30)',\n",
       "  'from datetime import datetime',\n",
       "  \"def log(message):\\n    curr_time = datetime.utcnow().isoformat()\\n    print(f'{curr_time} - [{message}]')\",\n",
       "  \"log('log 1')\",\n",
       "  \"result = log('log 1')\",\n",
       "  'type(result)',\n",
       "  \"log('log 2')\",\n",
       "  \"data = [1, 2, 3, 4, 5, 6]\\n\\nfor element in data:\\n    if element < 0:\\n        break\\nelse:\\n    print('processing all positive elements')\",\n",
       "  'def is_all_positive(data):\\n    for element in data:\\n        if element < 0:\\n            return False\\n    else:\\n        return True',\n",
       "  'is_all_positive([1, 2, 3, 4])',\n",
       "  'is_all_positive([1, -2, 3, 4, 5, 6])',\n",
       "  'is_all_positive(range(10, -20, -2))',\n",
       "  \"d = {'a': 1, 'b': 2, 'c': -10}\",\n",
       "  'is_all_positive(d.values())',\n",
       "  'def gen_matrix(m, n, default_value):\\n    # m: number of rows\\n    # n: number of columns\\n    return [[default_value for i in range(n)] for j in range(m)]',\n",
       "  'gen_matrix(2, 2, 1)',\n",
       "  'gen_matrix(4, 8, 1)',\n",
       "  'def gen_matrix(rows, cols, default_value):\\n    # m: number of rows\\n    # n: number of columns\\n    return [[default_value for i in range(cols)] for j in range(rows)]',\n",
       "  'gen_matrix(4, 8, 1)',\n",
       "  'gen_matrix(5, 10, 2)',\n",
       "  'gen_matrix(row=4, cols=8, default_value==1)',\n",
       "  'gen_matrix(row=4, cols=8, default_value=1)',\n",
       "  \"def say_hello():\\n    return 'hello!'\",\n",
       "  'globals()'],\n",
       " 'Out': {2: {...},\n",
       "  4: 100,\n",
       "  5: function,\n",
       "  7: <function __main__.say_hello()>,\n",
       "  9: 'hello!',\n",
       "  11: 'hello!',\n",
       "  16: True,\n",
       "  17: 'hello!',\n",
       "  19: {...},\n",
       "  20: 'say_hello',\n",
       "  21: 'say_hello',\n",
       "  24: 6,\n",
       "  33: [1, 2, 2, 3, 3, 4, 5, 6, 7, 7, 9],\n",
       "  41: 6,\n",
       "  43: {...},\n",
       "  45: 100,\n",
       "  46: function,\n",
       "  48: 'hello!',\n",
       "  50: True,\n",
       "  51: 'hello!',\n",
       "  53: 'say_hello',\n",
       "  54: 'say_hello',\n",
       "  57: 6,\n",
       "  59: 6,\n",
       "  60: 60,\n",
       "  62: 30,\n",
       "  67: NoneType,\n",
       "  70: <method-wrapper '__init__' of function object at 0x000002086EA7BE50>,\n",
       "  74: True,\n",
       "  75: False,\n",
       "  77: False,\n",
       "  78: True,\n",
       "  79: False,\n",
       "  81: False,\n",
       "  83: [[1, 1], [1, 1]],\n",
       "  84: [[1, 1, 1, 1, 1, 1, 1, 1],\n",
       "   [1, 1, 1, 1, 1, 1, 1, 1],\n",
       "   [1, 1, 1, 1, 1, 1, 1, 1],\n",
       "   [1, 1, 1, 1, 1, 1, 1, 1]],\n",
       "  87: [[1, 1, 1, 1, 1, 1, 1, 1],\n",
       "   [1, 1, 1, 1, 1, 1, 1, 1],\n",
       "   [1, 1, 1, 1, 1, 1, 1, 1],\n",
       "   [1, 1, 1, 1, 1, 1, 1, 1]],\n",
       "  88: [[2, 2, 2, 2, 2, 2, 2, 2, 2, 2],\n",
       "   [2, 2, 2, 2, 2, 2, 2, 2, 2, 2],\n",
       "   [2, 2, 2, 2, 2, 2, 2, 2, 2, 2],\n",
       "   [2, 2, 2, 2, 2, 2, 2, 2, 2, 2],\n",
       "   [2, 2, 2, 2, 2, 2, 2, 2, 2, 2]],\n",
       "  90: {...},\n",
       "  92: 100,\n",
       "  93: function,\n",
       "  95: 'hello!',\n",
       "  97: True,\n",
       "  98: 'hello!',\n",
       "  100: 'say_hello',\n",
       "  101: 'say_hello',\n",
       "  104: 6,\n",
       "  106: 6,\n",
       "  107: 60,\n",
       "  109: 30,\n",
       "  114: NoneType,\n",
       "  118: True,\n",
       "  119: False,\n",
       "  120: False,\n",
       "  122: False,\n",
       "  124: [[1, 1], [1, 1]],\n",
       "  125: [[1, 1, 1, 1, 1, 1, 1, 1],\n",
       "   [1, 1, 1, 1, 1, 1, 1, 1],\n",
       "   [1, 1, 1, 1, 1, 1, 1, 1],\n",
       "   [1, 1, 1, 1, 1, 1, 1, 1]],\n",
       "  127: [[1, 1, 1, 1, 1, 1, 1, 1],\n",
       "   [1, 1, 1, 1, 1, 1, 1, 1],\n",
       "   [1, 1, 1, 1, 1, 1, 1, 1],\n",
       "   [1, 1, 1, 1, 1, 1, 1, 1]],\n",
       "  128: [[2, 2, 2, 2, 2, 2, 2, 2, 2, 2],\n",
       "   [2, 2, 2, 2, 2, 2, 2, 2, 2, 2],\n",
       "   [2, 2, 2, 2, 2, 2, 2, 2, 2, 2],\n",
       "   [2, 2, 2, 2, 2, 2, 2, 2, 2, 2],\n",
       "   [2, 2, 2, 2, 2, 2, 2, 2, 2, 2]]},\n",
       " 'get_ipython': <bound method InteractiveShell.get_ipython of <ipykernel.zmqshell.ZMQInteractiveShell object at 0x000002086C8E9D90>>,\n",
       " 'exit': <IPython.core.autocall.ZMQExitAutocall at 0x2086c9c90a0>,\n",
       " 'quit': <IPython.core.autocall.ZMQExitAutocall at 0x2086c9c90a0>,\n",
       " '_': [[2, 2, 2, 2, 2, 2, 2, 2, 2, 2],\n",
       "  [2, 2, 2, 2, 2, 2, 2, 2, 2, 2],\n",
       "  [2, 2, 2, 2, 2, 2, 2, 2, 2, 2],\n",
       "  [2, 2, 2, 2, 2, 2, 2, 2, 2, 2],\n",
       "  [2, 2, 2, 2, 2, 2, 2, 2, 2, 2]],\n",
       " '__': [[1, 1, 1, 1, 1, 1, 1, 1],\n",
       "  [1, 1, 1, 1, 1, 1, 1, 1],\n",
       "  [1, 1, 1, 1, 1, 1, 1, 1],\n",
       "  [1, 1, 1, 1, 1, 1, 1, 1]],\n",
       " '___': [[1, 1, 1, 1, 1, 1, 1, 1],\n",
       "  [1, 1, 1, 1, 1, 1, 1, 1],\n",
       "  [1, 1, 1, 1, 1, 1, 1, 1],\n",
       "  [1, 1, 1, 1, 1, 1, 1, 1]],\n",
       " 'os': <module 'os' from 'c:\\\\Users\\\\light\\\\anaconda3\\\\lib\\\\os.py'>,\n",
       " 'sys': <module 'sys' (built-in)>,\n",
       " '__vsc_ipynb_file__': 'c:\\\\Users\\\\light\\\\Dropbox\\\\Lightspeed Delivery, LLC\\\\Python\\\\Python Course\\\\13 Functions\\\\custom_functions.ipynb',\n",
       " '_i': \"def say_hello():\\n    return 'hello!'\",\n",
       " '_ii': 'gen_matrix(row=4, cols=8, default_value=1)',\n",
       " '_iii': 'gen_matrix(row=4, cols=8, default_value==1)',\n",
       " '_i1': \"def say_hello():\\n    return 'hello!'\",\n",
       " 'say_hello': <function __main__.say_hello()>,\n",
       " '_i2': 'globals()',\n",
       " '_2': {...},\n",
       " '_i3': 'a = 100',\n",
       " 'a': 100,\n",
       " '_i4': 'a',\n",
       " '_4': 100,\n",
       " '_i5': 'type(say_hello)',\n",
       " '_5': function,\n",
       " '_i6': 'result = say_hello',\n",
       " 'result': None,\n",
       " '_i7': 'result',\n",
       " '_7': <function __main__.say_hello()>,\n",
       " '_i8': 'result = say_hello()',\n",
       " '_i9': 'result',\n",
       " '_9': 'hello!',\n",
       " '_i10': 'f is say_hello',\n",
       " '_i11': 'say_hello()',\n",
       " '_11': 'hello!',\n",
       " '_i12': 'f()',\n",
       " '_i13': 'f is say_hello()',\n",
       " '_i14': 'f is say_hello',\n",
       " '_i15': 'f = say_hello',\n",
       " 'f': <function __main__.say_hello()>,\n",
       " '_i16': 'f is say_hello',\n",
       " '_16': True,\n",
       " '_i17': 'f()',\n",
       " '_17': 'hello!',\n",
       " '_i18': 'l1 = [1, 2, 3]',\n",
       " 'l1': [1, 2, 3],\n",
       " '_i19': 'globals()',\n",
       " '_19': {...},\n",
       " '_i20': 'say_hello.__name__',\n",
       " '_20': 'say_hello',\n",
       " '_i21': 'f.__name__',\n",
       " '_21': 'say_hello',\n",
       " '_i22': \"def add(a, b, c):\\n    print(f'a = {a}')\\n    print(f'b = {b}')\\n    print(f'c = {c}')\\n    return a + b + c\",\n",
       " 'add': <function __main__.add(a, b, c)>,\n",
       " '_i23': 'result = add(1, 2, 3)',\n",
       " '_i24': 'result',\n",
       " '_24': 6,\n",
       " '_i25': 'def num_avg(numb):\\n    num = 0\\n    for n in numb:\\n        num = num + n\\n\\n    avg = num / len(num)\\n    return avg',\n",
       " 'num_avg': <function __main__.num_avg(num)>,\n",
       " '_i26': \"def num_avg(numb):\\n    num = 0\\n    for n in numb:\\n        num = num + n\\n\\n    avg = num / len(num)\\n    return avg\\n\\nprint('The average is:', num_avg(1, 2, 2, 3, 3, 4, 5, 6, 7, 8))\",\n",
       " '_i27': \"def num_avg(numb):\\n    num = 0\\n    for n in numb:\\n        num = num + n\\n\\n    avg = num / len(numb)\\n    return avg\\n\\nprint('The average is:', num_avg(1, 2, 2, 3, 3, 4, 5, 6, 7, 8))\",\n",
       " '_i28': \"def num_avg(numb):\\n    num = 0\\n    for n in numb:\\n        num = num + n\\n        avg = num / len(numb)\\n        return avg\\n\\nprint('The average is:', num_avg(1, 2, 2, 3, 3, 4, 5, 6, 7, 8))\",\n",
       " '_i29': \"def num_avg(numb):\\n    num = 0\\n    for n in numb:\\n        num = num + n\\n        avg = num / len(numb)\\n        return avg\\n\\nprint('The average is:', num_avg(1, 2, 2, 3, 3, 4, 5, 6, 7, 8))\",\n",
       " '_i30': \"def num_avg(numb):\\n    num = 0\\n    for n in numb:\\n        num = num + n\\n        avg = num / len(numb)\\n        return avg\\n\\nnumbers = [1, 2, 2, 3, 3, 4, 5, 6, 7, 7, 9]\\nprint('The average is:', num_avg(1, 2, 2, 3, 3, 4, 5, 6, 7, 8))\",\n",
       " 'numbers': [6,\n",
       "  6,\n",
       "  6,\n",
       "  7,\n",
       "  7,\n",
       "  7,\n",
       "  7,\n",
       "  7,\n",
       "  7,\n",
       "  7,\n",
       "  7,\n",
       "  7,\n",
       "  7,\n",
       "  8,\n",
       "  9,\n",
       "  9,\n",
       "  9,\n",
       "  9,\n",
       "  9,\n",
       "  0,\n",
       "  0,\n",
       "  0,\n",
       "  0],\n",
       " '_i31': \"def num_avg(numb):\\n    num = 0\\n    for n in numb:\\n        num = num + n\\n        avg = num / len(numb)\\n        return avg\\n\\nnumbers = [1, 2, 2, 3, 3, 4, 5, 6, 7, 7, 9]\\nprint('The average is:', num_avg(numbers))\",\n",
       " '_i32': \"def num_avg(numb):\\n    num = 0\\n    for n in numb:\\n        print('iteration')\\n        num = num + n\\n        avg = num / len(numb)\\n        return avg\\n\\nnumbers = [1, 2, 2, 3, 3, 4, 5, 6, 7, 7, 9]\\nprint('The average is:', num_avg(numbers))\",\n",
       " '_i33': 'numbers',\n",
       " '_33': [1, 2, 2, 3, 3, 4, 5, 6, 7, 7, 9],\n",
       " '_i34': \"def num_avg(numb):\\n    num = 0\\n    for n in numb:\\n        print('iteration')\\n        num = num + n\\n    \\n    avg = num / len(numb)\\n    return avg\\n\\nnumbers = [1, 2, 2, 3, 3, 4, 5, 6, 7, 7, 9]\\nprint('The average is:', num_avg(numbers))\",\n",
       " '_i35': \"def num_avg(numb):\\n    num = 0\\n    for n in numb:\\n        print('iteration')\\n        num = num + n\\n    \\n    avg = num / len(numb)\\n    return avg\\n\\nnumbers = [1234,567,321,6314,654134,667134,5414324,5641,4316,43153]\\nprint('The average is:', num_avg(numbers))\",\n",
       " '_i36': \"def num_avg(numb):\\n    num = 0\\n    for n in numb:\\n        print('iteration')\\n        num = num + n\\n    \\n    avg = num / len(numb)\\n    return avg\\n\\nnumbers = [6,6,6,7,7,7,7,7,7,7,7,7,7,8,9,9,9,9,9,0,0,0,0]\\nprint('The average is:', num_avg(numbers))\",\n",
       " '_i37': \"def num_avg(num):\\n    numbers = 0\\n    for n in num:\\n        numbers = n + numbers\\n\\n    avg = numbers/len(num)\\n    return avg\\n\\nprint(f'The average of numbers is', num_avg(1, 2, 3, 4, 5)) \",\n",
       " '_i38': \"def num_avg(num):\\n    numbers = 0\\n    for n in num:\\n        numbers = n + numbers\\n\\n    avg = numbers/len(num)\\n    return avg\\n\\ntest_num = [1, 2, 3, 4, 5, 6, 7, 9]\\nprint(f'The average of numbers is', num_avg(test_num)) \",\n",
       " 'test_num': [1, 2, 3, 4, 5, 6, 7, 9],\n",
       " '_i39': \"def num_avg(num):\\n    numbers = 0\\n    for n in num:\\n        numbers = n + numbers\\n\\n    avg = numbers/len(num) + 1\\n    return avg\\n\\ntest_num = [1, 2, 3, 4, 5, 6, 7, 9]\\nprint(f'The average of numbers is', num_avg(test_num)) \",\n",
       " '_i40': \"def num_avg(num):\\n    numbers = 0\\n    for n in num:\\n        numbers = numbers + n\\n\\n    avg = numbers/len(num)\\n    return avg\\n\\ntest_num = [1, 2, 3, 4, 5, 6, 7, 9]\\nprint(f'The average of numbers is', num_avg(test_num)) \",\n",
       " '_i41': 'result',\n",
       " '_41': 6,\n",
       " '_i42': \"def say_hello():\\n    return 'hello!'\",\n",
       " '_i43': 'globals()',\n",
       " '_43': {...},\n",
       " '_i44': 'a = 100',\n",
       " '_i45': 'a',\n",
       " '_45': 100,\n",
       " '_i46': 'type(say_hello)',\n",
       " '_46': function,\n",
       " '_i47': 'result = say_hello()',\n",
       " '_i48': 'result',\n",
       " '_48': 'hello!',\n",
       " '_i49': 'f = say_hello',\n",
       " '_i50': 'f is say_hello',\n",
       " '_50': True,\n",
       " '_i51': 'f()',\n",
       " '_51': 'hello!',\n",
       " '_i52': 'l1 = [1, 2, 3]',\n",
       " '_i53': 'say_hello.__name__',\n",
       " '_53': 'say_hello',\n",
       " '_i54': 'f.__name__',\n",
       " '_54': 'say_hello',\n",
       " '_i55': \"def add(a, b, c):\\n    print(f'a = {a}')\\n    print(f'b = {b}')\\n    print(f'c = {c}')\\n    return a + b + c\",\n",
       " '_i56': 'result = add(1, 2, 3)',\n",
       " '_i57': 'result',\n",
       " '_57': 6,\n",
       " '_i58': \"def add(a, b, c):\\n    print('Initial namespace:', locals())\\n    sum_ = a + b + c\\n    print('after sum_ namespace:', locals())\\n    return a + b + c\",\n",
       " '_i59': 'add(1, 2, 3)',\n",
       " '_59': 6,\n",
       " '_i60': 'add(10, 20 , 30)',\n",
       " '_60': 60,\n",
       " '_i61': 'def find_max(a, b, c):\\n    max_ = a\\n    if b > max_:\\n        max_ = b\\n    if c > max_:\\n        max_ = c\\n    return max_\\n    ',\n",
       " 'find_max': <function __main__.find_max(a, b, c)>,\n",
       " '_i62': 'find_max(10, 20, 30)',\n",
       " '_62': 30,\n",
       " '_i63': 'from datetime import datetime',\n",
       " 'datetime': datetime.datetime,\n",
       " '_i64': \"def log(message):\\n    curr_time = datetime.utcnow().isoformat()\\n    print(f'{curr_time} - [{message}]')\",\n",
       " 'log': <function __main__.log(message)>,\n",
       " '_i65': \"log('log 1')\",\n",
       " '_i66': \"result = log('log 1')\",\n",
       " '_i67': 'type(result)',\n",
       " '_67': NoneType,\n",
       " '_i68': \"log('log 2')\",\n",
       " '_i69': '? log',\n",
       " '_i70': 'log.__init__',\n",
       " '_70': <method-wrapper '__init__' of function object at 0x000002086EA7BE50>,\n",
       " '_i71': 'data = [1, 2, 3, 4, 5, 6]',\n",
       " 'data': [1, 2, 3, 4, 5, 6],\n",
       " '_i72': \"data = [1, 2, 3, 4, 5, 6]\\n\\nfor element in data:\\n    if element < 0:\\n        break\\nelse:\\n    print('processing all positive elements')\",\n",
       " 'element': 6,\n",
       " '_i73': 'def is_all_positive(data):\\n    for element in data:\\n        if element < 0:\\n            return False\\n    else:\\n        return True',\n",
       " 'is_all_positive': <function __main__.is_all_positive(data)>,\n",
       " '_i74': 'is_all_positive([1, 2, 3, 4])',\n",
       " '_74': True,\n",
       " '_i75': 'is_all_positive({1, -2, 3, 4, 5, 6})',\n",
       " '_75': False,\n",
       " '_i76': 'is_all_positive(1, -2, 3, 4, 5, 6)',\n",
       " '_i77': 'is_all_positive([1, -2, 3, 4, 5, 6])',\n",
       " '_77': False,\n",
       " '_i78': 'is_all_positive(range(1, 10))',\n",
       " '_78': True,\n",
       " '_i79': 'is_all_positive(range(10, -20, -2))',\n",
       " '_79': False,\n",
       " '_i80': \"d = {'a': 1, 'b': 2, 'c': -10}\",\n",
       " 'd': {'a': 1, 'b': 2, 'c': -10},\n",
       " '_i81': 'is_all_positive(d.values())',\n",
       " '_81': False,\n",
       " '_i82': 'def gen_matrix(m, n, default_value):\\n    return [[default_value for i in range(n)] for j in range(m)]',\n",
       " 'gen_matrix': <function __main__.gen_matrix(rows, cols, default_value)>,\n",
       " '_i83': 'gen_matrix(2, 2, 1)',\n",
       " '_83': [[1, 1], [1, 1]],\n",
       " '_i84': 'gen_matrix(4, 8, 1)',\n",
       " '_84': [[1, 1, 1, 1, 1, 1, 1, 1],\n",
       "  [1, 1, 1, 1, 1, 1, 1, 1],\n",
       "  [1, 1, 1, 1, 1, 1, 1, 1],\n",
       "  [1, 1, 1, 1, 1, 1, 1, 1]],\n",
       " '_i85': 'def gen_matrix(m, n, default_value):\\n    # m: number of rows\\n    # n: number of columns\\n    return [[default_value for i in range(n)] for j in range(m)]',\n",
       " '_i86': 'def gen_matrix(rows, cols, default_value):\\n    # m: number of rows\\n    # n: number of columns\\n    return [[default_value for i in range(cols)] for j in range(rows)]',\n",
       " '_i87': 'gen_matrix(4, 8, 1)',\n",
       " '_87': [[1, 1, 1, 1, 1, 1, 1, 1],\n",
       "  [1, 1, 1, 1, 1, 1, 1, 1],\n",
       "  [1, 1, 1, 1, 1, 1, 1, 1],\n",
       "  [1, 1, 1, 1, 1, 1, 1, 1]],\n",
       " '_i88': 'gen_matrix(5, 10, 2)',\n",
       " '_88': [[2, 2, 2, 2, 2, 2, 2, 2, 2, 2],\n",
       "  [2, 2, 2, 2, 2, 2, 2, 2, 2, 2],\n",
       "  [2, 2, 2, 2, 2, 2, 2, 2, 2, 2],\n",
       "  [2, 2, 2, 2, 2, 2, 2, 2, 2, 2],\n",
       "  [2, 2, 2, 2, 2, 2, 2, 2, 2, 2]],\n",
       " '_i89': \"def say_hello():\\n    return 'hello!'\",\n",
       " '_i90': 'globals()',\n",
       " '_90': {...},\n",
       " '_i91': 'a = 100',\n",
       " '_i92': 'a',\n",
       " '_92': 100,\n",
       " '_i93': 'type(say_hello)',\n",
       " '_93': function,\n",
       " '_i94': 'result = say_hello()',\n",
       " '_i95': 'result',\n",
       " '_95': 'hello!',\n",
       " '_i96': 'f = say_hello',\n",
       " '_i97': 'f is say_hello',\n",
       " '_97': True,\n",
       " '_i98': 'f()',\n",
       " '_98': 'hello!',\n",
       " '_i99': 'l1 = [1, 2, 3]',\n",
       " '_i100': 'say_hello.__name__',\n",
       " '_100': 'say_hello',\n",
       " '_i101': 'f.__name__',\n",
       " '_101': 'say_hello',\n",
       " '_i102': \"def add(a, b, c):\\n    print(f'a = {a}')\\n    print(f'b = {b}')\\n    print(f'c = {c}')\\n    return a + b + c\",\n",
       " '_i103': 'result = add(1, 2, 3)',\n",
       " '_i104': 'result',\n",
       " '_104': 6,\n",
       " '_i105': \"def add(a, b, c):\\n    print('Initial namespace:', locals())\\n    sum_ = a + b + c\\n    print('after sum_ namespace:', locals())\\n    return a + b + c\",\n",
       " '_i106': 'add(1, 2, 3)',\n",
       " '_106': 6,\n",
       " '_i107': 'add(10, 20 , 30)',\n",
       " '_107': 60,\n",
       " '_i108': 'def find_max(a, b, c):\\n    max_ = a\\n    if b > max_:\\n        max_ = b\\n    if c > max_:\\n        max_ = c\\n    return max_\\n    ',\n",
       " '_i109': 'find_max(10, 20, 30)',\n",
       " '_109': 30,\n",
       " '_i110': 'from datetime import datetime',\n",
       " '_i111': \"def log(message):\\n    curr_time = datetime.utcnow().isoformat()\\n    print(f'{curr_time} - [{message}]')\",\n",
       " '_i112': \"log('log 1')\",\n",
       " '_i113': \"result = log('log 1')\",\n",
       " '_i114': 'type(result)',\n",
       " '_114': NoneType,\n",
       " '_i115': \"log('log 2')\",\n",
       " '_i116': \"data = [1, 2, 3, 4, 5, 6]\\n\\nfor element in data:\\n    if element < 0:\\n        break\\nelse:\\n    print('processing all positive elements')\",\n",
       " '_i117': 'def is_all_positive(data):\\n    for element in data:\\n        if element < 0:\\n            return False\\n    else:\\n        return True',\n",
       " '_i118': 'is_all_positive([1, 2, 3, 4])',\n",
       " '_118': True,\n",
       " '_i119': 'is_all_positive([1, -2, 3, 4, 5, 6])',\n",
       " '_119': False,\n",
       " '_i120': 'is_all_positive(range(10, -20, -2))',\n",
       " '_120': False,\n",
       " '_i121': \"d = {'a': 1, 'b': 2, 'c': -10}\",\n",
       " '_i122': 'is_all_positive(d.values())',\n",
       " '_122': False,\n",
       " '_i123': 'def gen_matrix(m, n, default_value):\\n    # m: number of rows\\n    # n: number of columns\\n    return [[default_value for i in range(n)] for j in range(m)]',\n",
       " '_i124': 'gen_matrix(2, 2, 1)',\n",
       " '_124': [[1, 1], [1, 1]],\n",
       " '_i125': 'gen_matrix(4, 8, 1)',\n",
       " '_125': [[1, 1, 1, 1, 1, 1, 1, 1],\n",
       "  [1, 1, 1, 1, 1, 1, 1, 1],\n",
       "  [1, 1, 1, 1, 1, 1, 1, 1],\n",
       "  [1, 1, 1, 1, 1, 1, 1, 1]],\n",
       " '_i126': 'def gen_matrix(rows, cols, default_value):\\n    # m: number of rows\\n    # n: number of columns\\n    return [[default_value for i in range(cols)] for j in range(rows)]',\n",
       " '_i127': 'gen_matrix(4, 8, 1)',\n",
       " '_127': [[1, 1, 1, 1, 1, 1, 1, 1],\n",
       "  [1, 1, 1, 1, 1, 1, 1, 1],\n",
       "  [1, 1, 1, 1, 1, 1, 1, 1],\n",
       "  [1, 1, 1, 1, 1, 1, 1, 1]],\n",
       " '_i128': 'gen_matrix(5, 10, 2)',\n",
       " '_128': [[2, 2, 2, 2, 2, 2, 2, 2, 2, 2],\n",
       "  [2, 2, 2, 2, 2, 2, 2, 2, 2, 2],\n",
       "  [2, 2, 2, 2, 2, 2, 2, 2, 2, 2],\n",
       "  [2, 2, 2, 2, 2, 2, 2, 2, 2, 2],\n",
       "  [2, 2, 2, 2, 2, 2, 2, 2, 2, 2]],\n",
       " '_i129': 'gen_matrix(row=4, cols=8, default_value==1)',\n",
       " '_i130': 'gen_matrix(row=4, cols=8, default_value=1)',\n",
       " '_i131': \"def say_hello():\\n    return 'hello!'\",\n",
       " '_i132': 'globals()'}"
      ]
     },
     "execution_count": 132,
     "metadata": {},
     "output_type": "execute_result"
    }
   ],
   "source": [
    "globals()"
   ]
  },
  {
   "cell_type": "code",
   "execution_count": 133,
   "metadata": {},
   "outputs": [],
   "source": [
    "a = 100"
   ]
  },
  {
   "cell_type": "code",
   "execution_count": 134,
   "metadata": {},
   "outputs": [
    {
     "data": {
      "text/plain": [
       "100"
      ]
     },
     "execution_count": 134,
     "metadata": {},
     "output_type": "execute_result"
    }
   ],
   "source": [
    "a"
   ]
  },
  {
   "cell_type": "code",
   "execution_count": 135,
   "metadata": {},
   "outputs": [
    {
     "data": {
      "text/plain": [
       "function"
      ]
     },
     "execution_count": 135,
     "metadata": {},
     "output_type": "execute_result"
    }
   ],
   "source": [
    "type(say_hello)"
   ]
  },
  {
   "cell_type": "code",
   "execution_count": 136,
   "metadata": {},
   "outputs": [],
   "source": [
    "result = say_hello()"
   ]
  },
  {
   "cell_type": "code",
   "execution_count": 137,
   "metadata": {},
   "outputs": [
    {
     "data": {
      "text/plain": [
       "'hello!'"
      ]
     },
     "execution_count": 137,
     "metadata": {},
     "output_type": "execute_result"
    }
   ],
   "source": [
    "result"
   ]
  },
  {
   "cell_type": "code",
   "execution_count": 138,
   "metadata": {},
   "outputs": [],
   "source": [
    "f = say_hello"
   ]
  },
  {
   "cell_type": "code",
   "execution_count": 139,
   "metadata": {},
   "outputs": [
    {
     "data": {
      "text/plain": [
       "True"
      ]
     },
     "execution_count": 139,
     "metadata": {},
     "output_type": "execute_result"
    }
   ],
   "source": [
    "f is say_hello"
   ]
  },
  {
   "cell_type": "code",
   "execution_count": 140,
   "metadata": {},
   "outputs": [
    {
     "data": {
      "text/plain": [
       "'hello!'"
      ]
     },
     "execution_count": 140,
     "metadata": {},
     "output_type": "execute_result"
    }
   ],
   "source": [
    "f()"
   ]
  },
  {
   "cell_type": "code",
   "execution_count": 141,
   "metadata": {},
   "outputs": [],
   "source": [
    "l1 = [1, 2, 3]"
   ]
  },
  {
   "cell_type": "code",
   "execution_count": 142,
   "metadata": {},
   "outputs": [
    {
     "data": {
      "text/plain": [
       "'say_hello'"
      ]
     },
     "execution_count": 142,
     "metadata": {},
     "output_type": "execute_result"
    }
   ],
   "source": [
    "say_hello.__name__"
   ]
  },
  {
   "cell_type": "code",
   "execution_count": 143,
   "metadata": {},
   "outputs": [
    {
     "data": {
      "text/plain": [
       "'say_hello'"
      ]
     },
     "execution_count": 143,
     "metadata": {},
     "output_type": "execute_result"
    }
   ],
   "source": [
    "f.__name__"
   ]
  },
  {
   "cell_type": "code",
   "execution_count": 144,
   "metadata": {},
   "outputs": [],
   "source": [
    "def add(a, b, c):\n",
    "    print(f'a = {a}')\n",
    "    print(f'b = {b}')\n",
    "    print(f'c = {c}')\n",
    "    return a + b + c"
   ]
  },
  {
   "cell_type": "code",
   "execution_count": 145,
   "metadata": {},
   "outputs": [
    {
     "name": "stdout",
     "output_type": "stream",
     "text": [
      "a = 1\n",
      "b = 2\n",
      "c = 3\n"
     ]
    }
   ],
   "source": [
    "result = add(1, 2, 3)"
   ]
  },
  {
   "cell_type": "code",
   "execution_count": 146,
   "metadata": {},
   "outputs": [
    {
     "data": {
      "text/plain": [
       "6"
      ]
     },
     "execution_count": 146,
     "metadata": {},
     "output_type": "execute_result"
    }
   ],
   "source": [
    "result"
   ]
  },
  {
   "cell_type": "code",
   "execution_count": 147,
   "metadata": {},
   "outputs": [],
   "source": [
    "def add(a, b, c):\n",
    "    print('Initial namespace:', locals())\n",
    "    sum_ = a + b + c\n",
    "    print('after sum_ namespace:', locals())\n",
    "    return a + b + c"
   ]
  },
  {
   "cell_type": "code",
   "execution_count": 148,
   "metadata": {},
   "outputs": [
    {
     "name": "stdout",
     "output_type": "stream",
     "text": [
      "Initial namespace: {'a': 1, 'b': 2, 'c': 3}\n",
      "after sum_ namespace: {'a': 1, 'b': 2, 'c': 3, 'sum_': 6}\n"
     ]
    },
    {
     "data": {
      "text/plain": [
       "6"
      ]
     },
     "execution_count": 148,
     "metadata": {},
     "output_type": "execute_result"
    }
   ],
   "source": [
    "add(1, 2, 3)"
   ]
  },
  {
   "cell_type": "code",
   "execution_count": 149,
   "metadata": {},
   "outputs": [
    {
     "name": "stdout",
     "output_type": "stream",
     "text": [
      "Initial namespace: {'a': 10, 'b': 20, 'c': 30}\n",
      "after sum_ namespace: {'a': 10, 'b': 20, 'c': 30, 'sum_': 60}\n"
     ]
    },
    {
     "data": {
      "text/plain": [
       "60"
      ]
     },
     "execution_count": 149,
     "metadata": {},
     "output_type": "execute_result"
    }
   ],
   "source": [
    "add(10, 20 , 30)"
   ]
  },
  {
   "cell_type": "code",
   "execution_count": 150,
   "metadata": {},
   "outputs": [],
   "source": [
    "def find_max(a, b, c):\n",
    "    max_ = a\n",
    "    if b > max_:\n",
    "        max_ = b\n",
    "    if c > max_:\n",
    "        max_ = c\n",
    "    return max_\n",
    "    "
   ]
  },
  {
   "cell_type": "code",
   "execution_count": 151,
   "metadata": {},
   "outputs": [
    {
     "data": {
      "text/plain": [
       "30"
      ]
     },
     "execution_count": 151,
     "metadata": {},
     "output_type": "execute_result"
    }
   ],
   "source": [
    "find_max(10, 20, 30)"
   ]
  },
  {
   "cell_type": "code",
   "execution_count": 152,
   "metadata": {},
   "outputs": [],
   "source": [
    "from datetime import datetime"
   ]
  },
  {
   "cell_type": "code",
   "execution_count": 153,
   "metadata": {},
   "outputs": [],
   "source": [
    "def log(message):\n",
    "    curr_time = datetime.utcnow().isoformat()\n",
    "    print(f'{curr_time} - [{message}]')"
   ]
  },
  {
   "cell_type": "code",
   "execution_count": 154,
   "metadata": {},
   "outputs": [
    {
     "name": "stdout",
     "output_type": "stream",
     "text": [
      "2023-02-01T20:41:51.983696 - [log 1]\n"
     ]
    }
   ],
   "source": [
    "log('log 1')"
   ]
  },
  {
   "cell_type": "code",
   "execution_count": 155,
   "metadata": {},
   "outputs": [
    {
     "name": "stdout",
     "output_type": "stream",
     "text": [
      "2023-02-01T20:41:52.012934 - [log 1]\n"
     ]
    }
   ],
   "source": [
    "result = log('log 1')"
   ]
  },
  {
   "cell_type": "code",
   "execution_count": 156,
   "metadata": {},
   "outputs": [
    {
     "data": {
      "text/plain": [
       "NoneType"
      ]
     },
     "execution_count": 156,
     "metadata": {},
     "output_type": "execute_result"
    }
   ],
   "source": [
    "type(result)"
   ]
  },
  {
   "cell_type": "code",
   "execution_count": 157,
   "metadata": {},
   "outputs": [
    {
     "name": "stdout",
     "output_type": "stream",
     "text": [
      "2023-02-01T20:41:52.077330 - [log 2]\n"
     ]
    }
   ],
   "source": [
    "log('log 2')"
   ]
  },
  {
   "cell_type": "code",
   "execution_count": 158,
   "metadata": {},
   "outputs": [
    {
     "name": "stdout",
     "output_type": "stream",
     "text": [
      "processing all positive elements\n"
     ]
    }
   ],
   "source": [
    "data = [1, 2, 3, 4, 5, 6]\n",
    "\n",
    "for element in data:\n",
    "    if element < 0:\n",
    "        break\n",
    "else:\n",
    "    print('processing all positive elements')"
   ]
  },
  {
   "cell_type": "code",
   "execution_count": 159,
   "metadata": {},
   "outputs": [],
   "source": [
    "def is_all_positive(data):\n",
    "    for element in data:\n",
    "        if element < 0:\n",
    "            return False\n",
    "    else:\n",
    "        return True"
   ]
  },
  {
   "cell_type": "code",
   "execution_count": 160,
   "metadata": {},
   "outputs": [
    {
     "data": {
      "text/plain": [
       "True"
      ]
     },
     "execution_count": 160,
     "metadata": {},
     "output_type": "execute_result"
    }
   ],
   "source": [
    "is_all_positive([1, 2, 3, 4])"
   ]
  },
  {
   "cell_type": "code",
   "execution_count": 161,
   "metadata": {},
   "outputs": [
    {
     "data": {
      "text/plain": [
       "False"
      ]
     },
     "execution_count": 161,
     "metadata": {},
     "output_type": "execute_result"
    }
   ],
   "source": [
    "is_all_positive([1, -2, 3, 4, 5, 6])"
   ]
  },
  {
   "cell_type": "code",
   "execution_count": 162,
   "metadata": {},
   "outputs": [
    {
     "data": {
      "text/plain": [
       "False"
      ]
     },
     "execution_count": 162,
     "metadata": {},
     "output_type": "execute_result"
    }
   ],
   "source": [
    "is_all_positive(range(10, -20, -2))"
   ]
  },
  {
   "cell_type": "code",
   "execution_count": 163,
   "metadata": {},
   "outputs": [],
   "source": [
    "d = {'a': 1, 'b': 2, 'c': -10}"
   ]
  },
  {
   "cell_type": "code",
   "execution_count": 164,
   "metadata": {},
   "outputs": [
    {
     "data": {
      "text/plain": [
       "False"
      ]
     },
     "execution_count": 164,
     "metadata": {},
     "output_type": "execute_result"
    }
   ],
   "source": [
    "is_all_positive(d.values())"
   ]
  },
  {
   "cell_type": "code",
   "execution_count": 165,
   "metadata": {},
   "outputs": [],
   "source": [
    "def gen_matrix(m, n, default_value):\n",
    "    # m: number of rows\n",
    "    # n: number of columns\n",
    "    return [[default_value for i in range(n)] for j in range(m)]"
   ]
  },
  {
   "cell_type": "code",
   "execution_count": 166,
   "metadata": {},
   "outputs": [
    {
     "data": {
      "text/plain": [
       "[[1, 1], [1, 1]]"
      ]
     },
     "execution_count": 166,
     "metadata": {},
     "output_type": "execute_result"
    }
   ],
   "source": [
    "gen_matrix(2, 2, 1)"
   ]
  },
  {
   "cell_type": "code",
   "execution_count": 167,
   "metadata": {},
   "outputs": [
    {
     "data": {
      "text/plain": [
       "[[1, 1, 1, 1, 1, 1, 1, 1],\n",
       " [1, 1, 1, 1, 1, 1, 1, 1],\n",
       " [1, 1, 1, 1, 1, 1, 1, 1],\n",
       " [1, 1, 1, 1, 1, 1, 1, 1]]"
      ]
     },
     "execution_count": 167,
     "metadata": {},
     "output_type": "execute_result"
    }
   ],
   "source": [
    "gen_matrix(4, 8, 1)"
   ]
  },
  {
   "cell_type": "code",
   "execution_count": 168,
   "metadata": {},
   "outputs": [],
   "source": [
    "def gen_matrix(rows, cols, default_value):\n",
    "    # m: number of rows\n",
    "    # n: number of columns\n",
    "    return [[default_value for i in range(cols)] for j in range(rows)]"
   ]
  },
  {
   "cell_type": "code",
   "execution_count": 169,
   "metadata": {},
   "outputs": [
    {
     "data": {
      "text/plain": [
       "[[1, 1, 1, 1, 1, 1, 1, 1],\n",
       " [1, 1, 1, 1, 1, 1, 1, 1],\n",
       " [1, 1, 1, 1, 1, 1, 1, 1],\n",
       " [1, 1, 1, 1, 1, 1, 1, 1]]"
      ]
     },
     "execution_count": 169,
     "metadata": {},
     "output_type": "execute_result"
    }
   ],
   "source": [
    "gen_matrix(4, 8, 1)"
   ]
  },
  {
   "cell_type": "code",
   "execution_count": 170,
   "metadata": {},
   "outputs": [
    {
     "data": {
      "text/plain": [
       "[[2, 2, 2, 2, 2, 2, 2, 2, 2, 2],\n",
       " [2, 2, 2, 2, 2, 2, 2, 2, 2, 2],\n",
       " [2, 2, 2, 2, 2, 2, 2, 2, 2, 2],\n",
       " [2, 2, 2, 2, 2, 2, 2, 2, 2, 2],\n",
       " [2, 2, 2, 2, 2, 2, 2, 2, 2, 2]]"
      ]
     },
     "execution_count": 170,
     "metadata": {},
     "output_type": "execute_result"
    }
   ],
   "source": [
    "gen_matrix(5, 10, 2)"
   ]
  },
  {
   "cell_type": "code",
   "execution_count": 172,
   "metadata": {},
   "outputs": [
    {
     "data": {
      "text/plain": [
       "[[1, 1, 1, 1, 1, 1, 1, 1],\n",
       " [1, 1, 1, 1, 1, 1, 1, 1],\n",
       " [1, 1, 1, 1, 1, 1, 1, 1],\n",
       " [1, 1, 1, 1, 1, 1, 1, 1]]"
      ]
     },
     "execution_count": 172,
     "metadata": {},
     "output_type": "execute_result"
    }
   ],
   "source": [
    "gen_matrix(rows=4, cols=8, default_value=1)"
   ]
  },
  {
   "cell_type": "code",
   "execution_count": 173,
   "metadata": {},
   "outputs": [
    {
     "data": {
      "text/plain": [
       "[[1, 1, 1, 1, 1, 1, 1, 1],\n",
       " [1, 1, 1, 1, 1, 1, 1, 1],\n",
       " [1, 1, 1, 1, 1, 1, 1, 1],\n",
       " [1, 1, 1, 1, 1, 1, 1, 1]]"
      ]
     },
     "execution_count": 173,
     "metadata": {},
     "output_type": "execute_result"
    }
   ],
   "source": [
    "gen_matrix(cols=8, rows=4, default_value=1)"
   ]
  },
  {
   "cell_type": "code",
   "execution_count": 174,
   "metadata": {},
   "outputs": [
    {
     "data": {
      "text/plain": [
       "[[10, 10, 10, 10],\n",
       " [10, 10, 10, 10],\n",
       " [10, 10, 10, 10],\n",
       " [10, 10, 10, 10],\n",
       " [10, 10, 10, 10]]"
      ]
     },
     "execution_count": 174,
     "metadata": {},
     "output_type": "execute_result"
    }
   ],
   "source": [
    "gen_matrix(5, 4, 10) # 5 x 4 matrix with 10s\n"
   ]
  },
  {
   "cell_type": "code",
   "execution_count": 176,
   "metadata": {},
   "outputs": [
    {
     "data": {
      "text/plain": [
       "[[10, 10, 10, 10],\n",
       " [10, 10, 10, 10],\n",
       " [10, 10, 10, 10],\n",
       " [10, 10, 10, 10],\n",
       " [10, 10, 10, 10]]"
      ]
     },
     "execution_count": 176,
     "metadata": {},
     "output_type": "execute_result"
    }
   ],
   "source": [
    "gen_matrix(5, cols=4, default_value=10)"
   ]
  },
  {
   "cell_type": "code",
   "execution_count": null,
   "metadata": {},
   "outputs": [],
   "source": []
  }
 ],
 "metadata": {
  "kernelspec": {
   "display_name": "base",
   "language": "python",
   "name": "python3"
  },
  "language_info": {
   "codemirror_mode": {
    "name": "ipython",
    "version": 3
   },
   "file_extension": ".py",
   "mimetype": "text/x-python",
   "name": "python",
   "nbconvert_exporter": "python",
   "pygments_lexer": "ipython3",
   "version": "3.9.13"
  },
  "orig_nbformat": 4,
  "vscode": {
   "interpreter": {
    "hash": "74b8b5550d9a4bd47312fc4925b474308703c02b5070beca2150cc39634b882e"
   }
  }
 },
 "nbformat": 4,
 "nbformat_minor": 2
}
