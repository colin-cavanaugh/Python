{
 "cells": [
  {
   "attachments": {},
   "cell_type": "markdown",
   "metadata": {},
   "source": [
    "### List Comprehensions"
   ]
  },
  {
   "cell_type": "code",
   "execution_count": 68,
   "metadata": {},
   "outputs": [],
   "source": [
    "vectors = [(0,0), (0,1), (1,0), (1,1)]"
   ]
  },
  {
   "cell_type": "code",
   "execution_count": 69,
   "metadata": {},
   "outputs": [],
   "source": [
    "from math import sqrt"
   ]
  },
  {
   "cell_type": "code",
   "execution_count": 70,
   "metadata": {},
   "outputs": [],
   "source": [
    "magnitudes = []\n",
    "\n",
    "for vector in vectors:\n",
    "    magnitude = sqrt(vector[0] ** 2 + vector[1] ** 2)\n",
    "    magnitudes.append(magnitude)"
   ]
  },
  {
   "cell_type": "code",
   "execution_count": 71,
   "metadata": {},
   "outputs": [
    {
     "data": {
      "text/plain": [
       "[0.0, 1.0, 1.0, 1.4142135623730951]"
      ]
     },
     "execution_count": 71,
     "metadata": {},
     "output_type": "execute_result"
    }
   ],
   "source": [
    "magnitudes"
   ]
  },
  {
   "cell_type": "code",
   "execution_count": 72,
   "metadata": {},
   "outputs": [],
   "source": [
    "magnitudes= [sqrt(vector[0] ** 2 + vector[1] ** 2) for vector in vectors]"
   ]
  },
  {
   "cell_type": "code",
   "execution_count": 73,
   "metadata": {},
   "outputs": [
    {
     "data": {
      "text/plain": [
       "[0.0, 1.0, 1.0, 1.4142135623730951]"
      ]
     },
     "execution_count": 73,
     "metadata": {},
     "output_type": "execute_result"
    }
   ],
   "source": [
    "magnitudes"
   ]
  },
  {
   "cell_type": "code",
   "execution_count": 74,
   "metadata": {},
   "outputs": [],
   "source": [
    "from time import perf_counter"
   ]
  },
  {
   "cell_type": "code",
   "execution_count": 75,
   "metadata": {},
   "outputs": [
    {
     "data": {
      "text/plain": [
       "0.24747989999968922"
      ]
     },
     "execution_count": 75,
     "metadata": {},
     "output_type": "execute_result"
    }
   ],
   "source": [
    "start = perf_counter()\n",
    "for i in range(100_000):\n",
    "    magnitudes = []\n",
    "    for vector in vectors:\n",
    "        magnitude = sqrt(vector[0] ** 2 + vector[1] ** 2)\n",
    "        magnitudes.append(magnitude)\n",
    "end = perf_counter()\n",
    "\n",
    "elapsed_time = end - start\n",
    "elapsed_time"
   ]
  },
  {
   "cell_type": "code",
   "execution_count": 76,
   "metadata": {},
   "outputs": [
    {
     "data": {
      "text/plain": [
       "0.20356439999977738"
      ]
     },
     "execution_count": 76,
     "metadata": {},
     "output_type": "execute_result"
    }
   ],
   "source": [
    "start = perf_counter()\n",
    "for i in range(100_000):\n",
    "    magnitudes= [sqrt(vector[0] ** 2 + vector[1] ** 2) for vector in vectors]\n",
    "end = perf_counter()\n",
    "\n",
    "elapsed_time = end - start\n",
    "elapsed_time"
   ]
  },
  {
   "cell_type": "code",
   "execution_count": 77,
   "metadata": {},
   "outputs": [],
   "source": [
    "s = {'a', 'b', 'c'}"
   ]
  },
  {
   "cell_type": "code",
   "execution_count": 78,
   "metadata": {},
   "outputs": [
    {
     "data": {
      "text/plain": [
       "set"
      ]
     },
     "execution_count": 78,
     "metadata": {},
     "output_type": "execute_result"
    }
   ],
   "source": [
    "type(s)"
   ]
  },
  {
   "cell_type": "code",
   "execution_count": 79,
   "metadata": {},
   "outputs": [],
   "source": [
    "s = set(['a', 'b', 'c'])"
   ]
  },
  {
   "cell_type": "code",
   "execution_count": 80,
   "metadata": {},
   "outputs": [
    {
     "data": {
      "text/plain": [
       "{'a', 'b', 'c'}"
      ]
     },
     "execution_count": 80,
     "metadata": {},
     "output_type": "execute_result"
    }
   ],
   "source": [
    "s"
   ]
  },
  {
   "cell_type": "code",
   "execution_count": 81,
   "metadata": {},
   "outputs": [],
   "source": [
    "s = set('python')"
   ]
  },
  {
   "cell_type": "code",
   "execution_count": 82,
   "metadata": {},
   "outputs": [
    {
     "data": {
      "text/plain": [
       "{'h', 'n', 'o', 'p', 't', 'y'}"
      ]
     },
     "execution_count": 82,
     "metadata": {},
     "output_type": "execute_result"
    }
   ],
   "source": [
    "s"
   ]
  },
  {
   "cell_type": "code",
   "execution_count": 83,
   "metadata": {},
   "outputs": [],
   "source": [
    "s = set(['a', 'a', 'b', 'b'])"
   ]
  },
  {
   "cell_type": "code",
   "execution_count": 84,
   "metadata": {},
   "outputs": [
    {
     "data": {
      "text/plain": [
       "{'a', 'b'}"
      ]
     },
     "execution_count": 84,
     "metadata": {},
     "output_type": "execute_result"
    }
   ],
   "source": [
    "s"
   ]
  },
  {
   "cell_type": "code",
   "execution_count": 85,
   "metadata": {},
   "outputs": [],
   "source": [
    "s = set('banana')"
   ]
  },
  {
   "cell_type": "code",
   "execution_count": 86,
   "metadata": {},
   "outputs": [
    {
     "data": {
      "text/plain": [
       "{'a', 'b', 'n'}"
      ]
     },
     "execution_count": 86,
     "metadata": {},
     "output_type": "execute_result"
    }
   ],
   "source": [
    "s"
   ]
  },
  {
   "cell_type": "code",
   "execution_count": 87,
   "metadata": {},
   "outputs": [],
   "source": [
    "s = {}"
   ]
  },
  {
   "cell_type": "code",
   "execution_count": 88,
   "metadata": {},
   "outputs": [
    {
     "data": {
      "text/plain": [
       "dict"
      ]
     },
     "execution_count": 88,
     "metadata": {},
     "output_type": "execute_result"
    }
   ],
   "source": [
    "type(s)"
   ]
  },
  {
   "cell_type": "code",
   "execution_count": 89,
   "metadata": {},
   "outputs": [],
   "source": [
    "s = set()"
   ]
  },
  {
   "cell_type": "code",
   "execution_count": 90,
   "metadata": {},
   "outputs": [
    {
     "data": {
      "text/plain": [
       "(set, 0)"
      ]
     },
     "execution_count": 90,
     "metadata": {},
     "output_type": "execute_result"
    }
   ],
   "source": [
    "type(s), len(s)"
   ]
  },
  {
   "cell_type": "code",
   "execution_count": 91,
   "metadata": {},
   "outputs": [],
   "source": [
    "strings = 'Python is an awesome language'.split(' ')"
   ]
  },
  {
   "cell_type": "code",
   "execution_count": 92,
   "metadata": {},
   "outputs": [
    {
     "data": {
      "text/plain": [
       "['Python', 'is', 'an', 'awesome', 'language']"
      ]
     },
     "execution_count": 92,
     "metadata": {},
     "output_type": "execute_result"
    }
   ],
   "source": [
    "strings"
   ]
  },
  {
   "cell_type": "code",
   "execution_count": 93,
   "metadata": {},
   "outputs": [
    {
     "data": {
      "text/plain": [
       "['Python', 'awesome', 'language']"
      ]
     },
     "execution_count": 93,
     "metadata": {},
     "output_type": "execute_result"
    }
   ],
   "source": [
    "filtered = []\n",
    "for item in strings:\n",
    "    if len(item) >= 5:\n",
    "        filtered.append(item)\n",
    "filtered"
   ]
  },
  {
   "cell_type": "code",
   "execution_count": 94,
   "metadata": {},
   "outputs": [],
   "source": [
    "filtered = [item for item in strings if len(item) >=5]"
   ]
  },
  {
   "cell_type": "code",
   "execution_count": 95,
   "metadata": {},
   "outputs": [
    {
     "data": {
      "text/plain": [
       "['Python', 'awesome', 'language']"
      ]
     },
     "execution_count": 95,
     "metadata": {},
     "output_type": "execute_result"
    }
   ],
   "source": [
    "filtered"
   ]
  },
  {
   "cell_type": "code",
   "execution_count": 96,
   "metadata": {},
   "outputs": [],
   "source": [
    "sales = {\n",
    "    'widget 1': 0,\n",
    "    'widget 2': 5,\n",
    "    'widget 3': 10,\n",
    "    'widget 4': 2,\n",
    "}"
   ]
  },
  {
   "cell_type": "code",
   "execution_count": 97,
   "metadata": {},
   "outputs": [],
   "source": [
    "high_sales = []\n",
    "for key, value in sales.items():\n",
    "    if value >= 5:\n",
    "        high_sales.append(key)"
   ]
  },
  {
   "cell_type": "code",
   "execution_count": 98,
   "metadata": {},
   "outputs": [
    {
     "data": {
      "text/plain": [
       "['widget 2', 'widget 3']"
      ]
     },
     "execution_count": 98,
     "metadata": {},
     "output_type": "execute_result"
    }
   ],
   "source": [
    "high_sales"
   ]
  },
  {
   "cell_type": "code",
   "execution_count": 99,
   "metadata": {},
   "outputs": [],
   "source": [
    "high_sales = [key for key, value in sales.items() if value >=5]"
   ]
  },
  {
   "cell_type": "code",
   "execution_count": 100,
   "metadata": {},
   "outputs": [
    {
     "data": {
      "text/plain": [
       "['widget 2', 'widget 3']"
      ]
     },
     "execution_count": 100,
     "metadata": {},
     "output_type": "execute_result"
    }
   ],
   "source": [
    "high_sales"
   ]
  },
  {
   "cell_type": "code",
   "execution_count": 101,
   "metadata": {},
   "outputs": [],
   "source": [
    "m = [[0] * 3] * 3"
   ]
  },
  {
   "cell_type": "code",
   "execution_count": 102,
   "metadata": {},
   "outputs": [
    {
     "data": {
      "text/plain": [
       "[[0, 0, 0], [0, 0, 0], [0, 0, 0]]"
      ]
     },
     "execution_count": 102,
     "metadata": {},
     "output_type": "execute_result"
    }
   ],
   "source": [
    "m"
   ]
  },
  {
   "cell_type": "code",
   "execution_count": 103,
   "metadata": {},
   "outputs": [],
   "source": [
    "m = [[0, 0, 0] for row in range(3)]"
   ]
  },
  {
   "cell_type": "code",
   "execution_count": 104,
   "metadata": {},
   "outputs": [
    {
     "data": {
      "text/plain": [
       "[[0, 0, 0], [0, 0, 0], [0, 0, 0]]"
      ]
     },
     "execution_count": 104,
     "metadata": {},
     "output_type": "execute_result"
    }
   ],
   "source": [
    "m"
   ]
  },
  {
   "cell_type": "code",
   "execution_count": 105,
   "metadata": {},
   "outputs": [],
   "source": [
    "m[0][0] = 100"
   ]
  },
  {
   "cell_type": "code",
   "execution_count": 106,
   "metadata": {},
   "outputs": [
    {
     "data": {
      "text/plain": [
       "[[100, 0, 0], [0, 0, 0], [0, 0, 0]]"
      ]
     },
     "execution_count": 106,
     "metadata": {},
     "output_type": "execute_result"
    }
   ],
   "source": [
    "m"
   ]
  },
  {
   "cell_type": "code",
   "execution_count": 107,
   "metadata": {},
   "outputs": [],
   "source": [
    "m = [[0] * 3 for _ in range(3)]\n",
    "\n",
    "for row in range(3):\n",
    "    for col in range(3):\n",
    "        if row == col:\n",
    "            m[row][col] = 1"
   ]
  },
  {
   "cell_type": "code",
   "execution_count": 108,
   "metadata": {},
   "outputs": [
    {
     "data": {
      "text/plain": [
       "[[1, 0, 0], [0, 1, 0], [0, 0, 1]]"
      ]
     },
     "execution_count": 108,
     "metadata": {},
     "output_type": "execute_result"
    }
   ],
   "source": [
    "m"
   ]
  },
  {
   "cell_type": "code",
   "execution_count": 109,
   "metadata": {},
   "outputs": [],
   "source": [
    "m = [[1 if row == col else 0 for col in range(3)] for row in range(3)]"
   ]
  },
  {
   "cell_type": "code",
   "execution_count": 110,
   "metadata": {},
   "outputs": [
    {
     "data": {
      "text/plain": [
       "[[1, 0, 0], [0, 1, 0], [0, 0, 1]]"
      ]
     },
     "execution_count": 110,
     "metadata": {},
     "output_type": "execute_result"
    }
   ],
   "source": [
    "m"
   ]
  },
  {
   "attachments": {},
   "cell_type": "markdown",
   "metadata": {},
   "source": [
    "### Dictionary & Set Comprehensions"
   ]
  },
  {
   "cell_type": "code",
   "execution_count": 111,
   "metadata": {},
   "outputs": [],
   "source": [
    "widget_sales = [\n",
    "    {'name': 'widget 1', 'sales': 10},\n",
    "    {'name': 'widget 2', 'sales': 5},\n",
    "    {'name': 'widget 3', 'sales': 0},\n",
    "]"
   ]
  },
  {
   "cell_type": "code",
   "execution_count": 112,
   "metadata": {},
   "outputs": [
    {
     "data": {
      "text/plain": [
       "{'widget 1': 10, 'widget 2': 5, 'widget 3': 0}"
      ]
     },
     "execution_count": 112,
     "metadata": {},
     "output_type": "execute_result"
    }
   ],
   "source": [
    "sales_by_widget = {}\n",
    "for d in widget_sales:\n",
    "    widget_name = d['name']\n",
    "    sales = d['sales']\n",
    "    sales_by_widget[widget_name] = sales\n",
    "\n",
    "sales_by_widget"
   ]
  },
  {
   "cell_type": "code",
   "execution_count": 113,
   "metadata": {},
   "outputs": [],
   "source": [
    "sales_by_widget = {}\n",
    "for d in widget_sales:\n",
    "    sales_by_widget[d['name']] = d['sales']"
   ]
  },
  {
   "cell_type": "code",
   "execution_count": 114,
   "metadata": {},
   "outputs": [],
   "source": [
    "sales_by_widget = {d['name']:d['sales'] for d in widget_sales}"
   ]
  },
  {
   "cell_type": "code",
   "execution_count": 115,
   "metadata": {},
   "outputs": [
    {
     "data": {
      "text/plain": [
       "{'widget 1': 10, 'widget 2': 5, 'widget 3': 0}"
      ]
     },
     "execution_count": 115,
     "metadata": {},
     "output_type": "execute_result"
    }
   ],
   "source": [
    "sales_by_widget"
   ]
  },
  {
   "cell_type": "markdown",
   "metadata": {},
   "source": [
    "For simplicity, we'll assume that the paragraph only contains alphanumeric characters as well as these punctuation marks: `,`, `.`, `!`, `?`, `:`, `-`, `--`, `\\n`"
   ]
  },
  {
   "cell_type": "code",
   "execution_count": 116,
   "metadata": {},
   "outputs": [],
   "source": [
    "paragraph = \"\"\"\n",
    "To be, or not to be--that is the question:\n",
    "Whether 'tis nobler in the mind to suffer\n",
    "The slings and arrows of outrageous fortune\n",
    "Or to take arms against a sea of troubles\n",
    "And by opposing end them. To die, to sleep--\n",
    "No more--and by a sleep to say we end\n",
    "The heartache, and the thousand natural shocks\n",
    "That flesh is heir to.\n",
    "\"\"\""
   ]
  },
  {
   "cell_type": "code",
   "execution_count": 117,
   "metadata": {},
   "outputs": [],
   "source": [
    "punctuation = \",.!:-\\n\""
   ]
  },
  {
   "cell_type": "code",
   "execution_count": 118,
   "metadata": {},
   "outputs": [],
   "source": [
    "for char in punctuation:\n",
    "    paragraph = paragraph.replace(char, ' ')"
   ]
  },
  {
   "cell_type": "code",
   "execution_count": 119,
   "metadata": {},
   "outputs": [
    {
     "data": {
      "text/plain": [
       "\" To be  or not to be  that is the question  Whether 'tis nobler in the mind to suffer The slings and arrows of outrageous fortune Or to take arms against a sea of troubles And by opposing end them  To die  to sleep   No more  and by a sleep to say we end The heartache  and the thousand natural shocks That flesh is heir to  \""
      ]
     },
     "execution_count": 119,
     "metadata": {},
     "output_type": "execute_result"
    }
   ],
   "source": [
    "paragraph"
   ]
  },
  {
   "cell_type": "code",
   "execution_count": 120,
   "metadata": {},
   "outputs": [],
   "source": [
    "all_words = paragraph.split()"
   ]
  },
  {
   "cell_type": "code",
   "execution_count": 121,
   "metadata": {},
   "outputs": [
    {
     "data": {
      "text/plain": [
       "['To',\n",
       " 'be',\n",
       " 'or',\n",
       " 'not',\n",
       " 'to',\n",
       " 'be',\n",
       " 'that',\n",
       " 'is',\n",
       " 'the',\n",
       " 'question',\n",
       " 'Whether',\n",
       " \"'tis\",\n",
       " 'nobler',\n",
       " 'in',\n",
       " 'the',\n",
       " 'mind',\n",
       " 'to',\n",
       " 'suffer',\n",
       " 'The',\n",
       " 'slings',\n",
       " 'and',\n",
       " 'arrows',\n",
       " 'of',\n",
       " 'outrageous',\n",
       " 'fortune',\n",
       " 'Or',\n",
       " 'to',\n",
       " 'take',\n",
       " 'arms',\n",
       " 'against',\n",
       " 'a',\n",
       " 'sea',\n",
       " 'of',\n",
       " 'troubles',\n",
       " 'And',\n",
       " 'by',\n",
       " 'opposing',\n",
       " 'end',\n",
       " 'them',\n",
       " 'To',\n",
       " 'die',\n",
       " 'to',\n",
       " 'sleep',\n",
       " 'No',\n",
       " 'more',\n",
       " 'and',\n",
       " 'by',\n",
       " 'a',\n",
       " 'sleep',\n",
       " 'to',\n",
       " 'say',\n",
       " 'we',\n",
       " 'end',\n",
       " 'The',\n",
       " 'heartache',\n",
       " 'and',\n",
       " 'the',\n",
       " 'thousand',\n",
       " 'natural',\n",
       " 'shocks',\n",
       " 'That',\n",
       " 'flesh',\n",
       " 'is',\n",
       " 'heir',\n",
       " 'to']"
      ]
     },
     "execution_count": 121,
     "metadata": {},
     "output_type": "execute_result"
    }
   ],
   "source": [
    "all_words"
   ]
  },
  {
   "cell_type": "code",
   "execution_count": 122,
   "metadata": {},
   "outputs": [
    {
     "data": {
      "text/plain": [
       "{'Whether',\n",
       " 'against',\n",
       " 'arrows',\n",
       " 'flesh',\n",
       " 'fortune',\n",
       " 'heartache',\n",
       " 'natural',\n",
       " 'nobler',\n",
       " 'opposing',\n",
       " 'outrageous',\n",
       " 'question',\n",
       " 'shocks',\n",
       " 'sleep',\n",
       " 'slings',\n",
       " 'suffer',\n",
       " 'thousand',\n",
       " 'troubles'}"
      ]
     },
     "execution_count": 122,
     "metadata": {},
     "output_type": "execute_result"
    }
   ],
   "source": [
    "words = {word for word in all_words if len(word) > 4}\n",
    "words\n"
   ]
  },
  {
   "cell_type": "code",
   "execution_count": 123,
   "metadata": {},
   "outputs": [],
   "source": [
    "words = {word.lower() for word in all_words if len(word) > 4}"
   ]
  },
  {
   "cell_type": "code",
   "execution_count": 124,
   "metadata": {},
   "outputs": [
    {
     "data": {
      "text/plain": [
       "{'against',\n",
       " 'arrows',\n",
       " 'flesh',\n",
       " 'fortune',\n",
       " 'heartache',\n",
       " 'natural',\n",
       " 'nobler',\n",
       " 'opposing',\n",
       " 'outrageous',\n",
       " 'question',\n",
       " 'shocks',\n",
       " 'sleep',\n",
       " 'slings',\n",
       " 'suffer',\n",
       " 'thousand',\n",
       " 'troubles',\n",
       " 'whether'}"
      ]
     },
     "execution_count": 124,
     "metadata": {},
     "output_type": "execute_result"
    }
   ],
   "source": [
    "words"
   ]
  },
  {
   "cell_type": "code",
   "execution_count": 125,
   "metadata": {},
   "outputs": [],
   "source": [
    "data = ['a', 'a', 'a', 'b', 'b', 'c', 'c', 'c', 'd']"
   ]
  },
  {
   "cell_type": "code",
   "execution_count": 126,
   "metadata": {},
   "outputs": [
    {
     "data": {
      "text/plain": [
       "{'a': 3, 'c': 3, 'd': 1, 'b': 2}"
      ]
     },
     "execution_count": 126,
     "metadata": {},
     "output_type": "execute_result"
    }
   ],
   "source": [
    "freq = {}\n",
    "\n",
    "for element in set(data):\n",
    "    count = len([char for char in data if char == element])\n",
    "    freq[element] = count\n",
    "\n",
    "freq"
   ]
  },
  {
   "cell_type": "code",
   "execution_count": 127,
   "metadata": {},
   "outputs": [
    {
     "ename": "SyntaxError",
     "evalue": "invalid syntax (1632151608.py, line 3)",
     "output_type": "error",
     "traceback": [
      "\u001b[1;36m  File \u001b[1;32m\"C:\\Users\\light\\AppData\\Local\\Temp\\ipykernel_26044\\1632151608.py\"\u001b[1;36m, line \u001b[1;32m3\u001b[0m\n\u001b[1;33m    for element in set(data):\u001b[0m\n\u001b[1;37m                            ^\u001b[0m\n\u001b[1;31mSyntaxError\u001b[0m\u001b[1;31m:\u001b[0m invalid syntax\n"
     ]
    }
   ],
   "source": [
    "freq = {\n",
    "    element: len([char for char in data if char == element])\n",
    "    for element in set(data):\n",
    "    print('Iteration:')\n",
    "}"
   ]
  },
  {
   "cell_type": "code",
   "execution_count": null,
   "metadata": {},
   "outputs": [
    {
     "data": {
      "text/plain": [
       "{'a': 3, 'c': 3, 'd': 1, 'b': 2}"
      ]
     },
     "execution_count": 49,
     "metadata": {},
     "output_type": "execute_result"
    }
   ],
   "source": [
    "freq"
   ]
  },
  {
   "cell_type": "code",
   "execution_count": null,
   "metadata": {},
   "outputs": [],
   "source": [
    "from collections import Counter"
   ]
  },
  {
   "cell_type": "code",
   "execution_count": null,
   "metadata": {},
   "outputs": [],
   "source": [
    "freq = Counter(data)"
   ]
  },
  {
   "cell_type": "code",
   "execution_count": null,
   "metadata": {},
   "outputs": [
    {
     "data": {
      "text/plain": [
       "Counter({'a': 3, 'b': 2, 'c': 3, 'd': 1})"
      ]
     },
     "execution_count": 54,
     "metadata": {},
     "output_type": "execute_result"
    }
   ],
   "source": [
    "freq"
   ]
  },
  {
   "cell_type": "code",
   "execution_count": null,
   "metadata": {},
   "outputs": [
    {
     "data": {
      "text/plain": [
       "{'a': 3, 'b': 2, 'c': 3, 'd': 1}"
      ]
     },
     "execution_count": 55,
     "metadata": {},
     "output_type": "execute_result"
    }
   ],
   "source": [
    "dict(freq)"
   ]
  },
  {
   "cell_type": "code",
   "execution_count": null,
   "metadata": {},
   "outputs": [],
   "source": [
    "paragraph = \"\"\"\n",
    "Lorem ipsum dolor sit amet, consectetur adipiscing elit, sed do eiusmod tempor \n",
    "incididunt ut labore et dolore magna aliqua. Ut enim ad minim veniam, quis nostrud \n",
    "exercitation ullamco laboris nisi ut aliquip ex ea commodo consequat. Duis aute irure \n",
    "dolor in reprehenderit in voluptate velit esse cillum dolore eu fugiat nulla pariatur. \n",
    "Excepteur sint occaecat cupidatat non proident, sunt in culpa qui officia deserunt\n",
    "mollit anim id est laborum.\"\"\""
   ]
  },
  {
   "cell_type": "code",
   "execution_count": null,
   "metadata": {},
   "outputs": [],
   "source": [
    "freq = Counter(paragraph)"
   ]
  },
  {
   "cell_type": "code",
   "execution_count": null,
   "metadata": {},
   "outputs": [
    {
     "data": {
      "text/plain": [
       "Counter({'\\n': 6,\n",
       "         'L': 1,\n",
       "         'o': 29,\n",
       "         'r': 22,\n",
       "         'e': 37,\n",
       "         'm': 17,\n",
       "         ' ': 67,\n",
       "         'i': 42,\n",
       "         'p': 11,\n",
       "         's': 18,\n",
       "         'u': 28,\n",
       "         'd': 18,\n",
       "         'l': 21,\n",
       "         't': 32,\n",
       "         'a': 29,\n",
       "         ',': 4,\n",
       "         'c': 16,\n",
       "         'n': 24,\n",
       "         'g': 3,\n",
       "         'b': 3,\n",
       "         'q': 5,\n",
       "         '.': 4,\n",
       "         'U': 1,\n",
       "         'v': 3,\n",
       "         'x': 3,\n",
       "         'D': 1,\n",
       "         'h': 1,\n",
       "         'f': 3,\n",
       "         'E': 1})"
      ]
     },
     "execution_count": 58,
     "metadata": {},
     "output_type": "execute_result"
    }
   ],
   "source": [
    "freq"
   ]
  },
  {
   "cell_type": "code",
   "execution_count": null,
   "metadata": {},
   "outputs": [],
   "source": [
    "ignored = \",.\\n\""
   ]
  },
  {
   "cell_type": "code",
   "execution_count": null,
   "metadata": {},
   "outputs": [],
   "source": [
    "freq = Counter(paragraph.casefold())"
   ]
  },
  {
   "cell_type": "code",
   "execution_count": null,
   "metadata": {},
   "outputs": [
    {
     "data": {
      "text/plain": [
       "Counter({'\\n': 6,\n",
       "         'l': 22,\n",
       "         'o': 29,\n",
       "         'r': 22,\n",
       "         'e': 38,\n",
       "         'm': 17,\n",
       "         ' ': 67,\n",
       "         'i': 42,\n",
       "         'p': 11,\n",
       "         's': 18,\n",
       "         'u': 29,\n",
       "         'd': 19,\n",
       "         't': 32,\n",
       "         'a': 29,\n",
       "         ',': 4,\n",
       "         'c': 16,\n",
       "         'n': 24,\n",
       "         'g': 3,\n",
       "         'b': 3,\n",
       "         'q': 5,\n",
       "         '.': 4,\n",
       "         'v': 3,\n",
       "         'x': 3,\n",
       "         'h': 1,\n",
       "         'f': 3})"
      ]
     },
     "execution_count": 62,
     "metadata": {},
     "output_type": "execute_result"
    }
   ],
   "source": [
    "freq"
   ]
  },
  {
   "cell_type": "code",
   "execution_count": null,
   "metadata": {},
   "outputs": [],
   "source": [
    "freq = {key: value for key, value in freq.items() if key not in ignored}"
   ]
  },
  {
   "cell_type": "code",
   "execution_count": null,
   "metadata": {},
   "outputs": [
    {
     "data": {
      "text/plain": [
       "{'l': 22,\n",
       " 'o': 29,\n",
       " 'r': 22,\n",
       " 'e': 38,\n",
       " 'm': 17,\n",
       " ' ': 67,\n",
       " 'i': 42,\n",
       " 'p': 11,\n",
       " 's': 18,\n",
       " 'u': 29,\n",
       " 'd': 19,\n",
       " 't': 32,\n",
       " 'a': 29,\n",
       " 'c': 16,\n",
       " 'n': 24,\n",
       " 'g': 3,\n",
       " 'b': 3,\n",
       " 'q': 5,\n",
       " 'v': 3,\n",
       " 'x': 3,\n",
       " 'h': 1,\n",
       " 'f': 3}"
      ]
     },
     "execution_count": 64,
     "metadata": {},
     "output_type": "execute_result"
    }
   ],
   "source": [
    "freq"
   ]
  },
  {
   "cell_type": "code",
   "execution_count": null,
   "metadata": {},
   "outputs": [],
   "source": [
    "freq = {\n",
    "    key: value\n",
    "    for key, value in dict(Counter(paragraph.casefold())).items()\n",
    "    if key not in ignored\n",
    "}"
   ]
  },
  {
   "cell_type": "code",
   "execution_count": null,
   "metadata": {},
   "outputs": [
    {
     "data": {
      "text/plain": [
       "{'l': 22,\n",
       " 'o': 29,\n",
       " 'r': 22,\n",
       " 'e': 38,\n",
       " 'm': 17,\n",
       " ' ': 67,\n",
       " 'i': 42,\n",
       " 'p': 11,\n",
       " 's': 18,\n",
       " 'u': 29,\n",
       " 'd': 19,\n",
       " 't': 32,\n",
       " 'a': 29,\n",
       " 'c': 16,\n",
       " 'n': 24,\n",
       " 'g': 3,\n",
       " 'b': 3,\n",
       " 'q': 5,\n",
       " 'v': 3,\n",
       " 'x': 3,\n",
       " 'h': 1,\n",
       " 'f': 3}"
      ]
     },
     "execution_count": 66,
     "metadata": {},
     "output_type": "execute_result"
    }
   ],
   "source": [
    "freq"
   ]
  },
  {
   "cell_type": "code",
   "execution_count": null,
   "metadata": {},
   "outputs": [],
   "source": []
  }
 ],
 "metadata": {
  "kernelspec": {
   "display_name": "base",
   "language": "python",
   "name": "python3"
  },
  "language_info": {
   "codemirror_mode": {
    "name": "ipython",
    "version": 3
   },
   "file_extension": ".py",
   "mimetype": "text/x-python",
   "name": "python",
   "nbconvert_exporter": "python",
   "pygments_lexer": "ipython3",
   "version": "3.9.13"
  },
  "orig_nbformat": 4,
  "vscode": {
   "interpreter": {
    "hash": "74b8b5550d9a4bd47312fc4925b474308703c02b5070beca2150cc39634b882e"
   }
  }
 },
 "nbformat": 4,
 "nbformat_minor": 2
}
