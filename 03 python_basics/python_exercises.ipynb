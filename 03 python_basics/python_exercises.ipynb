{
 "cells": [
  {
   "attachments": {},
   "cell_type": "markdown",
   "metadata": {},
   "source": [
    "### Section 3 Exercise 1 & 2"
   ]
  },
  {
   "cell_type": "code",
   "execution_count": 32,
   "metadata": {},
   "outputs": [],
   "source": [
    "a = 10.5\n",
    "b = 9.8"
   ]
  },
  {
   "attachments": {},
   "cell_type": "markdown",
   "metadata": {},
   "source": [
    "### Section 5 Exercise 1"
   ]
  },
  {
   "cell_type": "code",
   "execution_count": 29,
   "metadata": {},
   "outputs": [],
   "source": [
    "\n",
    "def reassign(num):\n",
    "    if num is None:\n",
    "        num == 'N/A'\n",
    "        print('Please enter a value, a =', num)\n",
    "    else:\n",
    "        print('The value of a is', num)\n"
   ]
  },
  {
   "cell_type": "code",
   "execution_count": 28,
   "metadata": {},
   "outputs": [
    {
     "name": "stdout",
     "output_type": "stream",
     "text": [
      "The value of a is 10\n",
      "The value of a is 0\n",
      "The value of a is 5\n"
     ]
    }
   ],
   "source": [
    "# reassign()\n",
    "reassign(10)\n",
    "reassign(0)\n",
    "reassign(5)"
   ]
  },
  {
   "cell_type": "code",
   "execution_count": null,
   "metadata": {},
   "outputs": [],
   "source": []
  }
 ],
 "metadata": {
  "kernelspec": {
   "display_name": "base",
   "language": "python",
   "name": "python3"
  },
  "language_info": {
   "codemirror_mode": {
    "name": "ipython",
    "version": 3
   },
   "file_extension": ".py",
   "mimetype": "text/x-python",
   "name": "python",
   "nbconvert_exporter": "python",
   "pygments_lexer": "ipython3",
   "version": "3.9.13"
  },
  "orig_nbformat": 4,
  "vscode": {
   "interpreter": {
    "hash": "74b8b5550d9a4bd47312fc4925b474308703c02b5070beca2150cc39634b882e"
   }
  }
 },
 "nbformat": 4,
 "nbformat_minor": 2
}
