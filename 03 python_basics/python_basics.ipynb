{
 "cells": [
  {
   "cell_type": "markdown",
   "id": "2ac2a3d7-ded6-49a5-8086-a6ba7a6aba4c",
   "metadata": {
    "tags": []
   },
   "source": [
    "# SECTION 03 - PYTHON BASICS"
   ]
  },
  {
   "cell_type": "markdown",
   "id": "b54a9aec-9b0e-48b9-bf79-910e133a7377",
   "metadata": {
    "jp-MarkdownHeadingCollapsed": true,
    "tags": []
   },
   "source": [
    "### Basic Data Types - Coding"
   ]
  },
  {
   "cell_type": "code",
   "execution_count": 13,
   "id": "12fc7a28-772f-47c9-a51a-359926672ccb",
   "metadata": {},
   "outputs": [
    {
     "data": {
      "text/plain": [
       "'0.1000000000000000055511151'"
      ]
     },
     "execution_count": 13,
     "metadata": {},
     "output_type": "execute_result"
    }
   ],
   "source": [
    "format(0.1, '.25f')"
   ]
  },
  {
   "cell_type": "code",
   "execution_count": 15,
   "id": "7173ce4a-4789-496c-be0c-821da7b64274",
   "metadata": {},
   "outputs": [
    {
     "data": {
      "text/plain": [
       "'0.1250000000000000000000000'"
      ]
     },
     "execution_count": 15,
     "metadata": {},
     "output_type": "execute_result"
    }
   ],
   "source": [
    "format(0.125, '.25f')"
   ]
  },
  {
   "cell_type": "code",
   "execution_count": 17,
   "id": "bd69c3ce-647f-4967-b6dc-f2f8767cf0c8",
   "metadata": {},
   "outputs": [
    {
     "data": {
      "text/plain": [
       "True"
      ]
     },
     "execution_count": 17,
     "metadata": {},
     "output_type": "execute_result"
    }
   ],
   "source": [
    "1+1+1==3"
   ]
  },
  {
   "cell_type": "code",
   "execution_count": 18,
   "id": "5598a549-aa8a-4d6d-9d81-28da2d3241b7",
   "metadata": {},
   "outputs": [
    {
     "data": {
      "text/plain": [
       "True"
      ]
     },
     "execution_count": 18,
     "metadata": {},
     "output_type": "execute_result"
    }
   ],
   "source": [
    "0.125+0.125+0.125==0.375"
   ]
  },
  {
   "cell_type": "code",
   "execution_count": 21,
   "id": "57e416b6-99c8-4350-9d64-2a2ff69b7d3e",
   "metadata": {},
   "outputs": [
    {
     "data": {
      "text/plain": [
       "'0.3000000000000000444089210'"
      ]
     },
     "execution_count": 21,
     "metadata": {},
     "output_type": "execute_result"
    }
   ],
   "source": [
    "format(0.1+0.1+0.1, '.25f')"
   ]
  },
  {
   "cell_type": "code",
   "execution_count": 22,
   "id": "baf77c2d-de76-45f3-a581-1720cbf60ca1",
   "metadata": {},
   "outputs": [
    {
     "data": {
      "text/plain": [
       "'0.2999999999999999888977698'"
      ]
     },
     "execution_count": 22,
     "metadata": {},
     "output_type": "execute_result"
    }
   ],
   "source": [
    "format(0.3, '.25f')"
   ]
  },
  {
   "cell_type": "code",
   "execution_count": 24,
   "id": "fb5a3ebf-d529-4561-88c3-889c2a3cdd78",
   "metadata": {},
   "outputs": [
    {
     "data": {
      "text/plain": [
       "True"
      ]
     },
     "execution_count": 24,
     "metadata": {},
     "output_type": "execute_result"
    }
   ],
   "source": [
    "abs((0.1+0.1+0.1) - 0.3) < 0.001"
   ]
  },
  {
   "attachments": {},
   "cell_type": "markdown",
   "id": "65f3ead4-9bfa-477d-b63e-923e019e4ef7",
   "metadata": {
    "tags": []
   },
   "source": [
    "### Objects - Coding"
   ]
  },
  {
   "cell_type": "code",
   "execution_count": 1,
   "id": "eb385abc-3e29-4904-9b86-fbf46e1f8e8b",
   "metadata": {},
   "outputs": [],
   "source": [
    "class Account:\n",
    "    def __init__(self, account_number, account_type, initial_balance):\n",
    "        self.account_number = account_number\n",
    "        self.account_type = account_type\n",
    "        self.balance = initial_balance\n",
    "        \n",
    "    def deposit(self, amount):\n",
    "        # should also check that amount is a numerical value!\n",
    "        if amount > 0:\n",
    "            self.balance = self.balance + amount\n",
    "            print(f'Deposited {amount}')\n",
    "            print(f'New balance is: {self.balance}')\n",
    "        else:\n",
    "            print(f'{amount} is an invalid amount.')\n",
    "\n",
    "    def withdraw(self, amount):\n",
    "        # should also check that amount is a numerical value!\n",
    "        if amount > 0 and amount <= self.balance:\n",
    "            self.balance = self.balance - amount\n",
    "            print(f'Withdrawal: {amount}')\n",
    "            print(f'New balance: {self.balance}')\n",
    "        else:\n",
    "            print('insufficient funds')\n",
    "            print(f'Current balance is {self.balance}')\n",
    "            \n",
    "        "
   ]
  },
  {
   "cell_type": "code",
   "execution_count": 2,
   "id": "790741d9-11fe-450d-8aa1-ca3f2a31efae",
   "metadata": {},
   "outputs": [],
   "source": [
    "my_account = Account('123-456', 'savings', 1_000.00)"
   ]
  },
  {
   "cell_type": "code",
   "execution_count": 36,
   "id": "cb7d18f7-0a59-4c06-a21f-716f770b6f6e",
   "metadata": {},
   "outputs": [
    {
     "data": {
      "text/plain": [
       "'123-456'"
      ]
     },
     "execution_count": 36,
     "metadata": {},
     "output_type": "execute_result"
    }
   ],
   "source": [
    "my_account.account_number"
   ]
  },
  {
   "cell_type": "code",
   "execution_count": 5,
   "id": "3148e5c3-bc92-4a78-8f0e-f595e55b0375",
   "metadata": {},
   "outputs": [
    {
     "data": {
      "text/plain": [
       "'savings'"
      ]
     },
     "execution_count": 5,
     "metadata": {},
     "output_type": "execute_result"
    }
   ],
   "source": [
    "my_account.account_type"
   ]
  },
  {
   "cell_type": "code",
   "execution_count": 6,
   "id": "94cd3222-5364-4432-9853-42f13ea6d87b",
   "metadata": {},
   "outputs": [
    {
     "data": {
      "text/plain": [
       "1000.0"
      ]
     },
     "execution_count": 6,
     "metadata": {},
     "output_type": "execute_result"
    }
   ],
   "source": [
    "my_account.balance"
   ]
  },
  {
   "cell_type": "code",
   "execution_count": 7,
   "id": "8889be4f-1da7-49dd-a268-ce241ba9e20b",
   "metadata": {},
   "outputs": [
    {
     "name": "stdout",
     "output_type": "stream",
     "text": [
      "Deposited 100\n",
      "New balance is: 1100.0\n"
     ]
    }
   ],
   "source": [
    "my_account.deposit(100)"
   ]
  },
  {
   "cell_type": "markdown",
   "id": "4044e1a3-1554-4a12-b2ff-869df266d2d5",
   "metadata": {},
   "source": [
    "my_account.withdraw(600)"
   ]
  },
  {
   "cell_type": "code",
   "execution_count": 9,
   "id": "a8003d9a-523f-41e0-a227-1a3835a718d5",
   "metadata": {},
   "outputs": [
    {
     "name": "stdout",
     "output_type": "stream",
     "text": [
      "Withdrawal: 10.5\n",
      "New balance: 489.5\n"
     ]
    }
   ],
   "source": [
    "my_account.withdraw(10.5)"
   ]
  },
  {
   "cell_type": "code",
   "execution_count": 10,
   "id": "ad0c5117-d5d5-4f66-a275-ec2de20a6579",
   "metadata": {},
   "outputs": [
    {
     "data": {
      "text/plain": [
       "35"
      ]
     },
     "execution_count": 10,
     "metadata": {},
     "output_type": "execute_result"
    }
   ],
   "source": [
    "(10).__add__(25)"
   ]
  },
  {
   "cell_type": "code",
   "execution_count": 11,
   "id": "e714090a-cc09-4f7a-a61b-b91315126f41",
   "metadata": {},
   "outputs": [
    {
     "data": {
      "text/plain": [
       "(1, 8)"
      ]
     },
     "execution_count": 11,
     "metadata": {},
     "output_type": "execute_result"
    }
   ],
   "source": [
    "(0.125).as_integer_ratio()"
   ]
  },
  {
   "cell_type": "code",
   "execution_count": 39,
   "id": "4967d635-aaf1-4194-ba71-0422ba799cc8",
   "metadata": {},
   "outputs": [
    {
     "data": {
      "text/plain": [
       "0.125"
      ]
     },
     "execution_count": 39,
     "metadata": {},
     "output_type": "execute_result"
    }
   ],
   "source": [
    "(1/8)"
   ]
  },
  {
   "cell_type": "code",
   "execution_count": 42,
   "id": "60870afc-deff-4e79-8b18-370e3c980426",
   "metadata": {},
   "outputs": [],
   "source": [
    "import pandas as pd"
   ]
  },
  {
   "cell_type": "code",
   "execution_count": null,
   "id": "808a0e8d-33cf-4d74-8fdb-a47aa5008425",
   "metadata": {},
   "outputs": [],
   "source": [
    "pd."
   ]
  },
  {
   "cell_type": "code",
   "execution_count": null,
   "id": "15f1a83e-a776-4e67-9205-7cc6476b849e",
   "metadata": {},
   "outputs": [],
   "source": []
  },
  {
   "attachments": {},
   "cell_type": "markdown",
   "id": "f36b77eb-27d4-4222-a636-73a5b081bee1",
   "metadata": {
    "tags": []
   },
   "source": [
    "### Variables"
   ]
  },
  {
   "cell_type": "code",
   "execution_count": null,
   "id": "aa082070-6594-4460-ad39-9fd39e766e7f",
   "metadata": {},
   "outputs": [],
   "source": []
  },
  {
   "cell_type": "code",
   "execution_count": 14,
   "id": "4cff5e86-465e-4a92-a84d-0eda5356d947",
   "metadata": {},
   "outputs": [],
   "source": [
    "# Python evaluates Right hand side first\n",
    "a = 100"
   ]
  },
  {
   "cell_type": "code",
   "execution_count": 15,
   "id": "665d5c5e-f392-4510-810f-b112043c752c",
   "metadata": {},
   "outputs": [
    {
     "data": {
      "text/plain": [
       "100"
      ]
     },
     "execution_count": 15,
     "metadata": {},
     "output_type": "execute_result"
    }
   ],
   "source": [
    "a"
   ]
  },
  {
   "cell_type": "code",
   "execution_count": 16,
   "id": "9b9dc0b4-47f1-4638-8896-d3c6429d6041",
   "metadata": {},
   "outputs": [
    {
     "data": {
      "text/plain": [
       "111"
      ]
     },
     "execution_count": 16,
     "metadata": {},
     "output_type": "execute_result"
    }
   ],
   "source": [
    "a + 11"
   ]
  },
  {
   "cell_type": "code",
   "execution_count": 18,
   "id": "3547a445-9be8-4786-84ab-2573905226b1",
   "metadata": {},
   "outputs": [],
   "source": [
    "b = a + 11"
   ]
  },
  {
   "cell_type": "code",
   "execution_count": 19,
   "id": "2ab63d7b-c2f7-4d73-8508-1c8cf8cf1683",
   "metadata": {},
   "outputs": [
    {
     "data": {
      "text/plain": [
       "111"
      ]
     },
     "execution_count": 19,
     "metadata": {},
     "output_type": "execute_result"
    }
   ],
   "source": [
    "b"
   ]
  },
  {
   "cell_type": "code",
   "execution_count": 21,
   "id": "28604864-bb06-4387-9614-7eae78b676ea",
   "metadata": {},
   "outputs": [],
   "source": [
    "test = 100\n",
    "test_1 = 10 \n",
    "_test_1 = 10\n"
   ]
  },
  {
   "cell_type": "code",
   "execution_count": 22,
   "id": "ae434425-74e6-4a1b-a3bb-34389beafe15",
   "metadata": {},
   "outputs": [],
   "source": [
    "a = float(10)"
   ]
  },
  {
   "cell_type": "code",
   "execution_count": 23,
   "id": "94aa0860-9cdf-43c5-b715-c0b18e2b1f2d",
   "metadata": {},
   "outputs": [
    {
     "data": {
      "text/plain": [
       "10.0"
      ]
     },
     "execution_count": 23,
     "metadata": {},
     "output_type": "execute_result"
    }
   ],
   "source": [
    "a"
   ]
  },
  {
   "cell_type": "code",
   "execution_count": 24,
   "id": "20e7edc4-8124-4fe9-81b1-49c0601e6439",
   "metadata": {},
   "outputs": [],
   "source": [
    "float = 100.5"
   ]
  },
  {
   "cell_type": "code",
   "execution_count": 25,
   "id": "33ad159f-5da3-4482-b547-40aac60dc6d1",
   "metadata": {},
   "outputs": [
    {
     "data": {
      "text/plain": [
       "100.5"
      ]
     },
     "execution_count": 25,
     "metadata": {},
     "output_type": "execute_result"
    }
   ],
   "source": [
    "float"
   ]
  },
  {
   "cell_type": "code",
   "execution_count": 27,
   "id": "0b69eedf-a98e-45ff-b868-1fdd207b02d7",
   "metadata": {},
   "outputs": [
    {
     "ename": "TypeError",
     "evalue": "'float' object is not callable",
     "output_type": "error",
     "traceback": [
      "\u001b[1;31m---------------------------------------------------------------------------\u001b[0m",
      "\u001b[1;31mTypeError\u001b[0m                                 Traceback (most recent call last)",
      "\u001b[1;32m~\\AppData\\Local\\Temp\\ipykernel_44416\\440294263.py\u001b[0m in \u001b[0;36m<module>\u001b[1;34m\u001b[0m\n\u001b[1;32m----> 1\u001b[1;33m \u001b[0ma\u001b[0m \u001b[1;33m=\u001b[0m \u001b[0mfloat\u001b[0m\u001b[1;33m(\u001b[0m\u001b[1;36m10\u001b[0m\u001b[1;33m)\u001b[0m\u001b[1;33m\u001b[0m\u001b[1;33m\u001b[0m\u001b[0m\n\u001b[0m",
      "\u001b[1;31mTypeError\u001b[0m: 'float' object is not callable"
     ]
    }
   ],
   "source": [
    "a = float(10)"
   ]
  },
  {
   "cell_type": "code",
   "execution_count": 28,
   "id": "d94179f3-2bbc-418e-9b5b-a9e4a6b3b291",
   "metadata": {},
   "outputs": [],
   "source": [
    "del float"
   ]
  },
  {
   "cell_type": "code",
   "execution_count": 29,
   "id": "9943a162-4100-4112-ab1c-e3765b21a672",
   "metadata": {},
   "outputs": [],
   "source": [
    "a = float(10)"
   ]
  },
  {
   "cell_type": "code",
   "execution_count": 30,
   "id": "8ca11df0-af16-491f-9d90-a09d1a175838",
   "metadata": {},
   "outputs": [
    {
     "data": {
      "text/plain": [
       "10.0"
      ]
     },
     "execution_count": 30,
     "metadata": {},
     "output_type": "execute_result"
    }
   ],
   "source": [
    "a"
   ]
  },
  {
   "cell_type": "code",
   "execution_count": 31,
   "id": "d16b390a-59ac-4d89-8e6b-8b6806ef322c",
   "metadata": {},
   "outputs": [],
   "source": [
    "current_balance = 100.0"
   ]
  },
  {
   "cell_type": "code",
   "execution_count": 32,
   "id": "d562d889-2a98-4e04-b40b-3e2c14e0a459",
   "metadata": {},
   "outputs": [
    {
     "name": "stdout",
     "output_type": "stream",
     "text": [
      "270.70414908622433\n"
     ]
    }
   ],
   "source": [
    "x = 100\n",
    "y = 0.1\n",
    "z = 10\n",
    "\n",
    "r = x * ((1 + y/12) ** (z * 12))\n",
    "\n",
    "print(r)"
   ]
  },
  {
   "cell_type": "code",
   "execution_count": 33,
   "id": "67a99fdf-7e1b-4f08-8a10-b9f31e98dcf6",
   "metadata": {},
   "outputs": [],
   "source": [
    "principal = 100\n",
    "apr = 0.1\n",
    "years = 10\n",
    "\n",
    "future_value = principal * ((1 + apr/12) ** (years * 12))"
   ]
  },
  {
   "cell_type": "code",
   "execution_count": 34,
   "id": "40e88e71-7274-499d-a63e-b51083a3db01",
   "metadata": {},
   "outputs": [
    {
     "data": {
      "text/plain": [
       "270.70414908622433"
      ]
     },
     "execution_count": 34,
     "metadata": {},
     "output_type": "execute_result"
    }
   ],
   "source": [
    "future_value"
   ]
  },
  {
   "cell_type": "code",
   "execution_count": 35,
   "id": "799af6ed-a5a3-4843-b257-1e61e9b1f24b",
   "metadata": {},
   "outputs": [
    {
     "name": "stdout",
     "output_type": "stream",
     "text": [
      "colin\n"
     ]
    }
   ],
   "source": [
    "print('colin')"
   ]
  },
  {
   "cell_type": "code",
   "execution_count": null,
   "id": "a9fb2816-efaf-42f5-82a7-b57114b6d1f6",
   "metadata": {},
   "outputs": [],
   "source": []
  },
  {
   "attachments": {},
   "cell_type": "markdown",
   "id": "c8386913",
   "metadata": {},
   "source": [
    "### Integer and Division Modulus"
   ]
  },
  {
   "cell_type": "code",
   "execution_count": 8,
   "id": "fe607543",
   "metadata": {},
   "outputs": [
    {
     "name": "stdout",
     "output_type": "stream",
     "text": [
      "total = 1\n",
      "total = 3\n",
      "total = 6\n",
      "total = 10\n",
      "total = 15\n",
      "total = 21\n",
      "total = 28\n",
      "total = 36\n",
      "total = 45\n",
      "Final total = 45\n"
     ]
    }
   ],
   "source": [
    "total = 0\n",
    "for i in range(1, 10):\n",
    "    total += i\n",
    "    # if i % 100 == 0:\n",
    "    print(f'total = {total}')\n",
    "print(f'Final total = {total}')"
   ]
  },
  {
   "attachments": {},
   "cell_type": "markdown",
   "id": "e0f3ae28",
   "metadata": {},
   "source": [
    "### Comparison Operators"
   ]
  },
  {
   "cell_type": "code",
   "execution_count": 15,
   "id": "ea4c7dec",
   "metadata": {},
   "outputs": [],
   "source": [
    "a = 10\n",
    "b = 10.0"
   ]
  },
  {
   "cell_type": "code",
   "execution_count": 21,
   "id": "66e4779e",
   "metadata": {},
   "outputs": [
    {
     "data": {
      "text/plain": [
       "True"
      ]
     },
     "execution_count": 21,
     "metadata": {},
     "output_type": "execute_result"
    }
   ],
   "source": [
    "a == b"
   ]
  },
  {
   "cell_type": "code",
   "execution_count": 20,
   "id": "0aa09907",
   "metadata": {},
   "outputs": [],
   "source": [
    "c = 10.0"
   ]
  },
  {
   "cell_type": "code",
   "execution_count": 19,
   "id": "c4b7a59a",
   "metadata": {},
   "outputs": [
    {
     "data": {
      "text/plain": [
       "True"
      ]
     },
     "execution_count": 19,
     "metadata": {},
     "output_type": "execute_result"
    }
   ],
   "source": [
    "c == a"
   ]
  },
  {
   "cell_type": "code",
   "execution_count": 18,
   "id": "93e377c7",
   "metadata": {},
   "outputs": [
    {
     "data": {
      "text/plain": [
       "False"
      ]
     },
     "execution_count": 18,
     "metadata": {},
     "output_type": "execute_result"
    }
   ],
   "source": [
    "a is c"
   ]
  },
  {
   "cell_type": "code",
   "execution_count": 17,
   "id": "ac14be03",
   "metadata": {},
   "outputs": [
    {
     "data": {
      "text/plain": [
       "False"
      ]
     },
     "execution_count": 17,
     "metadata": {},
     "output_type": "execute_result"
    }
   ],
   "source": [
    "a is b"
   ]
  },
  {
   "cell_type": "code",
   "execution_count": 22,
   "id": "5026e452",
   "metadata": {},
   "outputs": [
    {
     "data": {
      "text/plain": [
       "(2239856011856, 2239940032560)"
      ]
     },
     "execution_count": 22,
     "metadata": {},
     "output_type": "execute_result"
    }
   ],
   "source": [
    "id(a), id(b)"
   ]
  },
  {
   "cell_type": "code",
   "execution_count": 23,
   "id": "ec08de2d",
   "metadata": {},
   "outputs": [],
   "source": [
    "a = 10_000\n",
    "b = 10_000"
   ]
  },
  {
   "cell_type": "code",
   "execution_count": 24,
   "id": "968c95b2",
   "metadata": {},
   "outputs": [
    {
     "data": {
      "text/plain": [
       "False"
      ]
     },
     "execution_count": 24,
     "metadata": {},
     "output_type": "execute_result"
    }
   ],
   "source": [
    "a is b"
   ]
  },
  {
   "cell_type": "code",
   "execution_count": 25,
   "id": "5df4d0e7",
   "metadata": {},
   "outputs": [
    {
     "data": {
      "text/plain": [
       "(2239940325744, 2239940326096)"
      ]
     },
     "execution_count": 25,
     "metadata": {},
     "output_type": "execute_result"
    }
   ],
   "source": [
    "id(a), id(b)"
   ]
  },
  {
   "cell_type": "code",
   "execution_count": 1,
   "id": "1b1989f1",
   "metadata": {},
   "outputs": [],
   "source": [
    "class Vector:\n",
    "    def __init__(self, x, y):\n",
    "        self.x = x\n",
    "        self.y = y\n",
    "\n",
    "    def __add__(self, other):\n",
    "        if isinstance(other, Vector):\n",
    "            return Vector(self.x + other.x, self.y + other.y)\n",
    "\n",
    "    def __repr__(self):\n",
    "        return f'Vector({self.x}, {self.y})'\n",
    "\n",
    "    def __eq__(self, other):\n",
    "        if isinstance(other, Vector):\n",
    "            return self.x == other.x and self.y == other.y\n",
    "        return False"
   ]
  },
  {
   "cell_type": "code",
   "execution_count": null,
   "id": "52cbab6d",
   "metadata": {},
   "outputs": [],
   "source": []
  }
 ],
 "metadata": {
  "kernelspec": {
   "display_name": "base",
   "language": "python",
   "name": "python3"
  },
  "language_info": {
   "codemirror_mode": {
    "name": "ipython",
    "version": 3
   },
   "file_extension": ".py",
   "mimetype": "text/x-python",
   "name": "python",
   "nbconvert_exporter": "python",
   "pygments_lexer": "ipython3",
   "version": "3.9.13 (main, Aug 25 2022, 23:51:50) [MSC v.1916 64 bit (AMD64)]"
  },
  "vscode": {
   "interpreter": {
    "hash": "74b8b5550d9a4bd47312fc4925b474308703c02b5070beca2150cc39634b882e"
   }
  }
 },
 "nbformat": 4,
 "nbformat_minor": 5
}
