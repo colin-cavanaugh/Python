{
 "cells": [
  {
   "attachments": {},
   "cell_type": "markdown",
   "metadata": {},
   "source": [
    "### Range_Function"
   ]
  },
  {
   "cell_type": "code",
   "execution_count": 1,
   "metadata": {},
   "outputs": [
    {
     "data": {
      "text/plain": [
       "range(0, 10)"
      ]
     },
     "execution_count": 1,
     "metadata": {},
     "output_type": "execute_result"
    }
   ],
   "source": [
    "range(10)"
   ]
  },
  {
   "cell_type": "code",
   "execution_count": 2,
   "metadata": {},
   "outputs": [
    {
     "name": "stdout",
     "output_type": "stream",
     "text": [
      "range(0, 10)\n"
     ]
    }
   ],
   "source": [
    "print(range(10))"
   ]
  },
  {
   "cell_type": "code",
   "execution_count": 3,
   "metadata": {},
   "outputs": [
    {
     "data": {
      "text/plain": [
       "range"
      ]
     },
     "execution_count": 3,
     "metadata": {},
     "output_type": "execute_result"
    }
   ],
   "source": [
    "type(range(10))"
   ]
  },
  {
   "cell_type": "code",
   "execution_count": 4,
   "metadata": {},
   "outputs": [
    {
     "data": {
      "text/plain": [
       "['a', 'b', 'c']"
      ]
     },
     "execution_count": 4,
     "metadata": {},
     "output_type": "execute_result"
    }
   ],
   "source": [
    "list('abc')"
   ]
  },
  {
   "cell_type": "code",
   "execution_count": 5,
   "metadata": {},
   "outputs": [
    {
     "data": {
      "text/plain": [
       "[0, 1, 2, 3, 4, 5, 6, 7, 8, 9]"
      ]
     },
     "execution_count": 5,
     "metadata": {},
     "output_type": "execute_result"
    }
   ],
   "source": [
    "list(range(10))"
   ]
  },
  {
   "cell_type": "code",
   "execution_count": 9,
   "metadata": {},
   "outputs": [
    {
     "data": {
      "text/plain": [
       "[20, 30, 40, 50, 60, 70, 80, 90, 100]"
      ]
     },
     "execution_count": 9,
     "metadata": {},
     "output_type": "execute_result"
    }
   ],
   "source": [
    "list(range(20,101, 10))"
   ]
  },
  {
   "attachments": {},
   "cell_type": "markdown",
   "metadata": {},
   "source": [
    "### For Loops"
   ]
  },
  {
   "cell_type": "code",
   "execution_count": 1,
   "metadata": {},
   "outputs": [],
   "source": [
    "suits = ['Spades', 'Hearts', 'Diamonds', 'Clubs']"
   ]
  },
  {
   "cell_type": "code",
   "execution_count": 2,
   "metadata": {},
   "outputs": [
    {
     "name": "stdout",
     "output_type": "stream",
     "text": [
      "S = Spades\n",
      "H = Hearts\n",
      "D = Diamonds\n",
      "C = Clubs\n"
     ]
    }
   ],
   "source": [
    "for suit in suits:\n",
    "    print(f'{suit[0].upper()} = {suit}')"
   ]
  },
  {
   "cell_type": "code",
   "execution_count": 3,
   "metadata": {},
   "outputs": [
    {
     "data": {
      "text/plain": [
       "'Clubs'"
      ]
     },
     "execution_count": 3,
     "metadata": {},
     "output_type": "execute_result"
    }
   ],
   "source": [
    "suit"
   ]
  },
  {
   "cell_type": "code",
   "execution_count": 4,
   "metadata": {},
   "outputs": [
    {
     "name": "stdout",
     "output_type": "stream",
     "text": [
      "p\n",
      "y\n",
      "t\n",
      "h\n",
      "o\n",
      "n\n"
     ]
    }
   ],
   "source": [
    "for i in 'python':\n",
    "    print(i)"
   ]
  },
  {
   "cell_type": "code",
   "execution_count": 5,
   "metadata": {},
   "outputs": [
    {
     "name": "stdout",
     "output_type": "stream",
     "text": [
      "2\n",
      "4\n",
      "6\n",
      "8\n",
      "10\n"
     ]
    }
   ],
   "source": [
    "for i in range(2, 11, 2):\n",
    "    print(i)"
   ]
  },
  {
   "cell_type": "code",
   "execution_count": 6,
   "metadata": {},
   "outputs": [
    {
     "data": {
      "text/plain": [
       "[2, 4, 6, 8, 10]"
      ]
     },
     "execution_count": 6,
     "metadata": {},
     "output_type": "execute_result"
    }
   ],
   "source": [
    "list(range(2, 11, 2))"
   ]
  },
  {
   "cell_type": "code",
   "execution_count": 7,
   "metadata": {},
   "outputs": [
    {
     "name": "stdout",
     "output_type": "stream",
     "text": [
      "i=0, j=0\n",
      "i=0, j=1\n",
      "i=0, j=2\n",
      "----------\n",
      "i=1, j=0\n",
      "i=1, j=1\n",
      "i=1, j=2\n",
      "----------\n",
      "i=2, j=0\n",
      "i=2, j=1\n",
      "i=2, j=2\n",
      "----------\n"
     ]
    }
   ],
   "source": [
    "for i in range(3):\n",
    "    for j in range(3):\n",
    "        print(f'i={i}, j={j}')\n",
    "    print('-' * 10)"
   ]
  },
  {
   "cell_type": "code",
   "execution_count": 4,
   "metadata": {},
   "outputs": [],
   "source": [
    "m = [\n",
    "    [1, 2, 3],\n",
    "    [4, 5, 6],\n",
    "    [7, 8, 9]\n",
    "]"
   ]
  },
  {
   "cell_type": "code",
   "execution_count": 5,
   "metadata": {},
   "outputs": [
    {
     "name": "stdout",
     "output_type": "stream",
     "text": [
      "[0, 0] = 1\n",
      "[0, 1] = 2\n",
      "[0, 2] = 3\n",
      "[1, 0] = 4\n",
      "[1, 1] = 5\n",
      "[1, 2] = 6\n",
      "[2, 0] = 7\n",
      "[2, 1] = 8\n",
      "[2, 2] = 9\n"
     ]
    }
   ],
   "source": [
    "for row_index in range(3):\n",
    "    for column_index in range(3):\n",
    "        print(f'[{row_index}, {column_index}] = {m[row_index][column_index]}')"
   ]
  },
  {
   "cell_type": "code",
   "execution_count": 11,
   "metadata": {},
   "outputs": [
    {
     "data": {
      "text/plain": [
       "3"
      ]
     },
     "execution_count": 11,
     "metadata": {},
     "output_type": "execute_result"
    }
   ],
   "source": [
    "len(m)"
   ]
  },
  {
   "cell_type": "code",
   "execution_count": 6,
   "metadata": {},
   "outputs": [
    {
     "data": {
      "text/plain": [
       "3"
      ]
     },
     "execution_count": 6,
     "metadata": {},
     "output_type": "execute_result"
    }
   ],
   "source": [
    "len(m[0])"
   ]
  },
  {
   "cell_type": "code",
   "execution_count": 7,
   "metadata": {},
   "outputs": [
    {
     "data": {
      "text/plain": [
       "3"
      ]
     },
     "execution_count": 7,
     "metadata": {},
     "output_type": "execute_result"
    }
   ],
   "source": [
    "len(m[1])\n",
    "len(m[2])"
   ]
  },
  {
   "cell_type": "code",
   "execution_count": 1,
   "metadata": {},
   "outputs": [],
   "source": [
    "m = [\n",
    "    [0, 1],\n",
    "    [2, 3, 4, 5, 6],\n",
    "    [7, 8, 9], \n",
    "    [10]\n",
    "]"
   ]
  },
  {
   "cell_type": "code",
   "execution_count": 2,
   "metadata": {},
   "outputs": [
    {
     "name": "stdout",
     "output_type": "stream",
     "text": [
      "[0, 0] = 0\n",
      "[0, 1] = 1\n",
      "[1, 0] = 2\n",
      "[1, 1] = 3\n",
      "[1, 2] = 4\n",
      "[1, 3] = 5\n",
      "[1, 4] = 6\n",
      "[2, 0] = 7\n",
      "[2, 1] = 8\n",
      "[2, 2] = 9\n",
      "[3, 0] = 10\n"
     ]
    }
   ],
   "source": [
    "for row_index in range(len(m)):\n",
    "    for column_index in range(len(m[row_index])):\n",
    "        print(f'[{row_index}, {column_index}] = {m[row_index][column_index]}')"
   ]
  },
  {
   "cell_type": "code",
   "execution_count": 4,
   "metadata": {},
   "outputs": [],
   "source": [
    "n = 5\n",
    "\n",
    "matrix = []\n",
    "\n",
    "for row_index in range(n):\n",
    "    row = []\n",
    "    for column_index in range(n):\n",
    "        if row_index == column_index:\n",
    "            row.append(1)\n",
    "        else:\n",
    "            row.append(0)\n",
    "        matrix.append(row)"
   ]
  },
  {
   "cell_type": "code",
   "execution_count": 5,
   "metadata": {},
   "outputs": [
    {
     "data": {
      "text/plain": [
       "[[1, 0, 0, 0, 0],\n",
       " [1, 0, 0, 0, 0],\n",
       " [1, 0, 0, 0, 0],\n",
       " [1, 0, 0, 0, 0],\n",
       " [1, 0, 0, 0, 0],\n",
       " [0, 1, 0, 0, 0],\n",
       " [0, 1, 0, 0, 0],\n",
       " [0, 1, 0, 0, 0],\n",
       " [0, 1, 0, 0, 0],\n",
       " [0, 1, 0, 0, 0],\n",
       " [0, 0, 1, 0, 0],\n",
       " [0, 0, 1, 0, 0],\n",
       " [0, 0, 1, 0, 0],\n",
       " [0, 0, 1, 0, 0],\n",
       " [0, 0, 1, 0, 0],\n",
       " [0, 0, 0, 1, 0],\n",
       " [0, 0, 0, 1, 0],\n",
       " [0, 0, 0, 1, 0],\n",
       " [0, 0, 0, 1, 0],\n",
       " [0, 0, 0, 1, 0],\n",
       " [0, 0, 0, 0, 1],\n",
       " [0, 0, 0, 0, 1],\n",
       " [0, 0, 0, 0, 1],\n",
       " [0, 0, 0, 0, 1],\n",
       " [0, 0, 0, 0, 1]]"
      ]
     },
     "execution_count": 5,
     "metadata": {},
     "output_type": "execute_result"
    }
   ],
   "source": [
    "matrix"
   ]
  },
  {
   "cell_type": "code",
   "execution_count": 6,
   "metadata": {},
   "outputs": [],
   "source": [
    "data = [10, 20, 30]"
   ]
  },
  {
   "cell_type": "code",
   "execution_count": 8,
   "metadata": {},
   "outputs": [
    {
     "data": {
      "text/plain": [
       "[(0, 10), (1, 20), (2, 30)]"
      ]
     },
     "execution_count": 8,
     "metadata": {},
     "output_type": "execute_result"
    }
   ],
   "source": [
    "list(enumerate(data))"
   ]
  },
  {
   "cell_type": "code",
   "execution_count": 9,
   "metadata": {},
   "outputs": [
    {
     "name": "stdout",
     "output_type": "stream",
     "text": [
      "0 10\n",
      "1 20\n",
      "2 30\n"
     ]
    }
   ],
   "source": [
    "for t in enumerate(data):\n",
    "    idx, el = t\n",
    "    print(idx, el)"
   ]
  },
  {
   "cell_type": "code",
   "execution_count": 10,
   "metadata": {},
   "outputs": [
    {
     "name": "stdout",
     "output_type": "stream",
     "text": [
      "0 10\n",
      "1 20\n",
      "2 30\n"
     ]
    }
   ],
   "source": [
    "for idx, el in enumerate(data):\n",
    "    print(idx, el)"
   ]
  },
  {
   "cell_type": "code",
   "execution_count": 11,
   "metadata": {},
   "outputs": [],
   "source": [
    "m = [\n",
    "    [0, 1],\n",
    "    [2, 3, 4, 5, 6],\n",
    "    [7, 8, 9],\n",
    "    [10]\n",
    "]"
   ]
  },
  {
   "cell_type": "code",
   "execution_count": 12,
   "metadata": {},
   "outputs": [
    {
     "name": "stdout",
     "output_type": "stream",
     "text": [
      "[0, 0] = 0\n",
      "[0, 1] = 1\n",
      "[1, 0] = 2\n",
      "[1, 1] = 3\n",
      "[1, 2] = 4\n",
      "[1, 3] = 5\n",
      "[1, 4] = 6\n",
      "[2, 0] = 7\n",
      "[2, 1] = 8\n",
      "[2, 2] = 9\n",
      "[3, 0] = 10\n"
     ]
    }
   ],
   "source": [
    "for row_index in range(len(m)):\n",
    "    for column_index in range(len(m[row_index])):\n",
    "        print(f'[{row_index}, {column_index}] = {m[row_index][column_index]}')"
   ]
  },
  {
   "cell_type": "code",
   "execution_count": 13,
   "metadata": {},
   "outputs": [],
   "source": [
    "data = [10.5, 11.2, 9.8, None, 11.5, None]"
   ]
  },
  {
   "cell_type": "code",
   "execution_count": 14,
   "metadata": {},
   "outputs": [
    {
     "data": {
      "text/plain": [
       "10.75"
      ]
     },
     "execution_count": 14,
     "metadata": {},
     "output_type": "execute_result"
    }
   ],
   "source": [
    "count = 0\n",
    "total = 0\n",
    "for i in range(len(data)):\n",
    "    if data[i] is not None:\n",
    "        count = count + 1\n",
    "        total = total + data[i]\n",
    "\n",
    "average = total / count\n",
    "average"
   ]
  },
  {
   "cell_type": "code",
   "execution_count": 16,
   "metadata": {},
   "outputs": [
    {
     "data": {
      "text/plain": [
       "10.75"
      ]
     },
     "execution_count": 16,
     "metadata": {},
     "output_type": "execute_result"
    }
   ],
   "source": [
    "count = 0\n",
    "total = 0\n",
    "\n",
    "for val in data:\n",
    "    if val is not None:\n",
    "        count += 1 # count = count + 1\n",
    "        total += val\n",
    "average = total / count\n",
    "average"
   ]
  },
  {
   "cell_type": "code",
   "execution_count": 17,
   "metadata": {},
   "outputs": [
    {
     "data": {
      "text/plain": [
       "[10.5, 11.2, 9.8, 10.75, 11.5, 10.75]"
      ]
     },
     "execution_count": 17,
     "metadata": {},
     "output_type": "execute_result"
    }
   ],
   "source": [
    "for i in range(len(data)):\n",
    "    if data[i] is None:\n",
    "        data[i] = average\n",
    "\n",
    "data"
   ]
  },
  {
   "cell_type": "code",
   "execution_count": 18,
   "metadata": {},
   "outputs": [
    {
     "data": {
      "text/plain": [
       "[10.5, 11.2, 9.8, 10.75, 11.5, 10.75]"
      ]
     },
     "execution_count": 18,
     "metadata": {},
     "output_type": "execute_result"
    }
   ],
   "source": [
    "data = [10.5, 11.2, 9.8, 10.75, 11.5, 10.75]\n",
    "\n",
    "for index, val in enumerate(data):\n",
    "    if val is None:\n",
    "        data[index] = average\n",
    "\n",
    "data"
   ]
  },
  {
   "cell_type": "code",
   "execution_count": 1,
   "metadata": {},
   "outputs": [
    {
     "data": {
      "text/plain": [
       "[10.5, 11.2, 9.8, 10.75, 11.5, 10.75]"
      ]
     },
     "execution_count": 1,
     "metadata": {},
     "output_type": "execute_result"
    }
   ],
   "source": [
    "data = [10.5, 11.2, 9.8, None, 11.5, None]\n",
    "\n",
    "count = 0\n",
    "total = 0 \n",
    "\n",
    "for i in range(len(data)):\n",
    "    if data[i] is not None:\n",
    "        count = count + 1\n",
    "        total = total + data[i]\n",
    "\n",
    "average = total / count\n",
    "\n",
    "for i in range(len(data)):\n",
    "    if data[i] is None:\n",
    "        data[i] = average\n",
    "\n",
    "data"
   ]
  },
  {
   "cell_type": "code",
   "execution_count": 13,
   "metadata": {},
   "outputs": [
    {
     "name": "stdout",
     "output_type": "stream",
     "text": [
      "iteration = 0\n",
      "Info: count = 0 data = 10.5 average = 10.75 total = 0\n",
      "data = [10.5, 11.2, 9.8, None, 11.5, None]\n",
      "iteration = 1\n",
      "Info: count = 1 data = 11.2 average = 10.75 total = 10.5\n",
      "data = [10.5, 11.2, 9.8, None, 11.5, None]\n",
      "iteration = 2\n",
      "Info: count = 2 data = 9.8 average = 10.75 total = 21.7\n",
      "data = [10.5, 11.2, 9.8, None, 11.5, None]\n",
      "iteration = 3\n",
      "Info: count = 3 data = None average = 10.75 total = 31.5\n",
      "data = [10.5, 11.2, 9.8, None, 11.5, None]\n",
      "iteration = 4\n",
      "Info: count = 3 data = 11.5 average = 10.75 total = 31.5\n",
      "data = [10.5, 11.2, 9.8, None, 11.5, None]\n",
      "iteration = 5\n",
      "Info: count = 4 data = None average = 10.75 total = 43.0\n",
      "data = [10.5, 11.2, 9.8, None, 11.5, None]\n"
     ]
    },
    {
     "data": {
      "text/plain": [
       "[10.5, 11.2, 9.8, 10.75, 11.5, 10.75]"
      ]
     },
     "execution_count": 13,
     "metadata": {},
     "output_type": "execute_result"
    }
   ],
   "source": [
    "data = [10.5, 11.2, 9.8, None, 11.5, None]\n",
    "\n",
    "count = 0\n",
    "total = 0\n",
    "\n",
    "for i in range(len(data)):\n",
    "    print(f'iteration = {i}')\n",
    "    print(f'Info: count = {count} data = {data[i]} average = {average} total = {total}')\n",
    "    print(f'data = {data}')\n",
    "    if data[i] is not None:\n",
    "        count = count + 1\n",
    "        total = total + data[i]\n",
    "        \n",
    "\n",
    "average = total / count\n",
    "\n",
    "for i in range(len(data)):\n",
    "    if data[i] is None:\n",
    "        data[i] = average\n",
    "        \n",
    "\n",
    "data"
   ]
  },
  {
   "cell_type": "code",
   "execution_count": 22,
   "metadata": {},
   "outputs": [
    {
     "data": {
      "text/plain": [
       "[10.5, 11.2, 9.8, 10.75, 11.5, 10.75]"
      ]
     },
     "execution_count": 22,
     "metadata": {},
     "output_type": "execute_result"
    }
   ],
   "source": [
    "count = 0\n",
    "total = 0\n",
    "\n",
    "for val in data:\n",
    "    if val is not None:\n",
    "        count += 1\n",
    "        total += val\n",
    "average = total / count\n",
    "\n",
    "for index, val in enumerate(data):\n",
    "    if val is None:\n",
    "        data[index] = average\n",
    "\n",
    "data"
   ]
  },
  {
   "cell_type": "code",
   "execution_count": 23,
   "metadata": {},
   "outputs": [
    {
     "name": "stdout",
     "output_type": "stream",
     "text": [
      "[10.5, 11.2, 9.8, 10.75, 11.5, 10.75]\n"
     ]
    }
   ],
   "source": [
    "data = [10.5, 11.2, 9.8, None, 11.5, None]\n",
    "\n",
    "count = sum(1 for val in data if val is not None)\n",
    "total = sum(val for val in data if val is not None)\n",
    "average = total / count\n",
    "data = [val if val is not None else average for val in data]\n",
    "print(data)"
   ]
  },
  {
   "cell_type": "code",
   "execution_count": 24,
   "metadata": {},
   "outputs": [],
   "source": [
    "from statistics import fmean"
   ]
  },
  {
   "cell_type": "code",
   "execution_count": 25,
   "metadata": {},
   "outputs": [
    {
     "data": {
      "text/plain": [
       "[10.5, 11.2, 9.8, 10.75, 11.5, 10.75]"
      ]
     },
     "execution_count": 25,
     "metadata": {},
     "output_type": "execute_result"
    }
   ],
   "source": [
    "data = [10.5, 11.2, 9.8, None, 11.5, None]\n",
    "average = fmean(val for val in data if val is not None)\n",
    "data = [val if val is not None else average for val in data]\n",
    "data"
   ]
  },
  {
   "cell_type": "code",
   "execution_count": 26,
   "metadata": {},
   "outputs": [
    {
     "data": {
      "text/plain": [
       "[10.5, 11.2, 9.8, None, 11.5, None]"
      ]
     },
     "execution_count": 26,
     "metadata": {},
     "output_type": "execute_result"
    }
   ],
   "source": [
    "data = [10.5, 11.2, 9.8, None, 11.5, None]\n",
    "average = fmean(val for val in data if val is not None)\n",
    "data2 = [val if val is not None else average for val in data]\n",
    "data "
   ]
  },
  {
   "cell_type": "code",
   "execution_count": 27,
   "metadata": {},
   "outputs": [
    {
     "data": {
      "text/plain": [
       "[10.5, 11.2, 9.8, 10.75, 11.5, 10.75]"
      ]
     },
     "execution_count": 27,
     "metadata": {},
     "output_type": "execute_result"
    }
   ],
   "source": [
    "data2"
   ]
  },
  {
   "cell_type": "code",
   "execution_count": 28,
   "metadata": {},
   "outputs": [],
   "source": [
    "import pandas as pd"
   ]
  },
  {
   "cell_type": "code",
   "execution_count": 35,
   "metadata": {},
   "outputs": [
    {
     "data": {
      "text/plain": [
       "[10.5, 11.2, 9.8, 10.75, 11.5, 10.75]"
      ]
     },
     "execution_count": 35,
     "metadata": {},
     "output_type": "execute_result"
    }
   ],
   "source": [
    "data = [10.5, 11.2, 9.8, None, 11.5, None]\n",
    "df = pd.DataFrame(data)\n",
    "df.fillna(df.mean(), inplace=True)\n",
    "df[0].tolist()"
   ]
  },
  {
   "cell_type": "code",
   "execution_count": 36,
   "metadata": {},
   "outputs": [
    {
     "data": {
      "text/html": [
       "<div>\n",
       "<style scoped>\n",
       "    .dataframe tbody tr th:only-of-type {\n",
       "        vertical-align: middle;\n",
       "    }\n",
       "\n",
       "    .dataframe tbody tr th {\n",
       "        vertical-align: top;\n",
       "    }\n",
       "\n",
       "    .dataframe thead th {\n",
       "        text-align: right;\n",
       "    }\n",
       "</style>\n",
       "<table border=\"1\" class=\"dataframe\">\n",
       "  <thead>\n",
       "    <tr style=\"text-align: right;\">\n",
       "      <th></th>\n",
       "      <th>0</th>\n",
       "    </tr>\n",
       "  </thead>\n",
       "  <tbody>\n",
       "    <tr>\n",
       "      <th>0</th>\n",
       "      <td>10.50</td>\n",
       "    </tr>\n",
       "    <tr>\n",
       "      <th>1</th>\n",
       "      <td>11.20</td>\n",
       "    </tr>\n",
       "    <tr>\n",
       "      <th>2</th>\n",
       "      <td>9.80</td>\n",
       "    </tr>\n",
       "    <tr>\n",
       "      <th>3</th>\n",
       "      <td>10.75</td>\n",
       "    </tr>\n",
       "    <tr>\n",
       "      <th>4</th>\n",
       "      <td>11.50</td>\n",
       "    </tr>\n",
       "    <tr>\n",
       "      <th>5</th>\n",
       "      <td>10.75</td>\n",
       "    </tr>\n",
       "  </tbody>\n",
       "</table>\n",
       "</div>"
      ],
      "text/plain": [
       "       0\n",
       "0  10.50\n",
       "1  11.20\n",
       "2   9.80\n",
       "3  10.75\n",
       "4  11.50\n",
       "5  10.75"
      ]
     },
     "execution_count": 36,
     "metadata": {},
     "output_type": "execute_result"
    }
   ],
   "source": [
    "df"
   ]
  },
  {
   "attachments": {},
   "cell_type": "markdown",
   "metadata": {},
   "source": [
    "### While Loops"
   ]
  },
  {
   "cell_type": "code",
   "execution_count": 7,
   "metadata": {},
   "outputs": [
    {
     "name": "stdout",
     "output_type": "stream",
     "text": [
      "price = 100 - waiting for price to come down...\n",
      "price = 99 - waiting for price to come down...\n",
      "price = 98 - waiting for price to come down...\n",
      "price = 97 - waiting for price to come down...\n",
      "price = 96 - waiting for price to come down...\n",
      "price = 95 - waiting for price to come down...\n",
      "price = 94 - waiting for price to come down...\n",
      "price = 93 - waiting for price to come down...\n",
      "price = 92 - waiting for price to come down...\n",
      "price = 91 - waiting for price to come down...\n",
      "buying at 90\n"
     ]
    }
   ],
   "source": [
    "price = 100\n",
    "\n",
    "while price > 90:\n",
    "    print(f'price = {price} - waiting for price to come down...')\n",
    "    price -= 1\n",
    "\n",
    "print(f'buying at {price}')"
   ]
  },
  {
   "cell_type": "code",
   "execution_count": 27,
   "metadata": {},
   "outputs": [],
   "source": [
    "while_data = [100, 200, 300, 400, 500]"
   ]
  },
  {
   "cell_type": "code",
   "execution_count": 20,
   "metadata": {},
   "outputs": [
    {
     "data": {
      "text/plain": [
       "[]"
      ]
     },
     "execution_count": 20,
     "metadata": {},
     "output_type": "execute_result"
    }
   ],
   "source": [
    "while_data"
   ]
  },
  {
   "cell_type": "code",
   "execution_count": 28,
   "metadata": {},
   "outputs": [
    {
     "name": "stdout",
     "output_type": "stream",
     "text": [
      "before removing element: data = [100, 200, 300, 400, 500]\n",
      "---------------\n",
      "processing element(element removed): 500\n",
      "after removing element: data = [100, 200, 300, 400]\n",
      "---------------\n",
      "processing element(element removed): 400\n",
      "after removing element: data = [100, 200, 300]\n",
      "---------------\n",
      "processing element(element removed): 300\n",
      "after removing element: data = [100, 200]\n",
      "---------------\n",
      "processing element(element removed): 200\n",
      "after removing element: data = [100]\n",
      "---------------\n",
      "processing element(element removed): 100\n",
      "after removing element: data = []\n"
     ]
    }
   ],
   "source": [
    "print(f'before removing element: data = {while_data}')\n",
    "while len(while_data) > 0:\n",
    "    print(f'-' * 15)\n",
    "    last_element = while_data.pop()\n",
    "    print(f'processing element(element removed): {last_element}')\n",
    "    print(f'after removing element: data = {while_data}')"
   ]
  },
  {
   "cell_type": "code",
   "execution_count": 37,
   "metadata": {},
   "outputs": [],
   "source": [
    "data = [100, 200, 300, 400, 500]"
   ]
  },
  {
   "cell_type": "code",
   "execution_count": 38,
   "metadata": {},
   "outputs": [
    {
     "name": "stdout",
     "output_type": "stream",
     "text": [
      "i = 0\n",
      "before removing element: data = [100, 200, 300, 400, 500]\n",
      "processing element: 100\n",
      "after removing element: data = [200, 300, 400, 500]\n",
      "----------\n",
      "i = 1\n",
      "before removing element: data = [200, 300, 400, 500]\n",
      "processing element: 300\n",
      "after removing element: data = [200, 400, 500]\n",
      "----------\n",
      "i = 2\n",
      "before removing element: data = [200, 400, 500]\n",
      "processing element: 500\n",
      "after removing element: data = [200, 400]\n",
      "----------\n",
      "i = 3\n",
      "before removing element: data = [200, 400]\n"
     ]
    },
    {
     "ename": "IndexError",
     "evalue": "pop index out of range",
     "output_type": "error",
     "traceback": [
      "\u001b[1;31m---------------------------------------------------------------------------\u001b[0m",
      "\u001b[1;31mIndexError\u001b[0m                                Traceback (most recent call last)",
      "\u001b[1;32m~\\AppData\\Local\\Temp\\ipykernel_21496\\1404292520.py\u001b[0m in \u001b[0;36m<module>\u001b[1;34m\u001b[0m\n\u001b[0;32m      2\u001b[0m     \u001b[0mprint\u001b[0m\u001b[1;33m(\u001b[0m\u001b[1;34mf'i = {i}'\u001b[0m\u001b[1;33m)\u001b[0m\u001b[1;33m\u001b[0m\u001b[1;33m\u001b[0m\u001b[0m\n\u001b[0;32m      3\u001b[0m     \u001b[0mprint\u001b[0m\u001b[1;33m(\u001b[0m\u001b[1;34mf'before removing element: data = {data}'\u001b[0m\u001b[1;33m)\u001b[0m\u001b[1;33m\u001b[0m\u001b[1;33m\u001b[0m\u001b[0m\n\u001b[1;32m----> 4\u001b[1;33m     \u001b[0melement\u001b[0m \u001b[1;33m=\u001b[0m \u001b[0mdata\u001b[0m\u001b[1;33m.\u001b[0m\u001b[0mpop\u001b[0m\u001b[1;33m(\u001b[0m\u001b[0mi\u001b[0m\u001b[1;33m)\u001b[0m\u001b[1;33m\u001b[0m\u001b[1;33m\u001b[0m\u001b[0m\n\u001b[0m\u001b[0;32m      5\u001b[0m     \u001b[0mprint\u001b[0m\u001b[1;33m(\u001b[0m\u001b[1;34mf'processing element: {element}'\u001b[0m\u001b[1;33m)\u001b[0m\u001b[1;33m\u001b[0m\u001b[1;33m\u001b[0m\u001b[0m\n\u001b[0;32m      6\u001b[0m     \u001b[0mprint\u001b[0m\u001b[1;33m(\u001b[0m\u001b[1;34mf'after removing element: data = {data}'\u001b[0m\u001b[1;33m)\u001b[0m\u001b[1;33m\u001b[0m\u001b[1;33m\u001b[0m\u001b[0m\n",
      "\u001b[1;31mIndexError\u001b[0m: pop index out of range"
     ]
    }
   ],
   "source": [
    "\n",
    "\n",
    "for i in range(len(data)):\n",
    "    print(f'i = {i}')\n",
    "    print(f'before removing element: data = {data}')\n",
    "    element = data.pop(i)\n",
    "    print(f'processing element: {element}')\n",
    "    print(f'after removing element: data = {data}')\n",
    "    print(f'-' * 10)"
   ]
  },
  {
   "cell_type": "code",
   "execution_count": null,
   "metadata": {},
   "outputs": [],
   "source": []
  },
  {
   "attachments": {},
   "cell_type": "markdown",
   "metadata": {},
   "source": [
    "### Continue, Break and Else"
   ]
  },
  {
   "cell_type": "code",
   "execution_count": 37,
   "metadata": {},
   "outputs": [
    {
     "name": "stdout",
     "output_type": "stream",
     "text": [
      "0\n",
      "1\n",
      "2\n",
      "3\n",
      "4\n",
      "5\n",
      "breaking out of loop\n",
      "done\n"
     ]
    }
   ],
   "source": [
    "for i in range(100):\n",
    "    print(i)\n",
    "    if i >= 5:\n",
    "        print('breaking out of loop')\n",
    "        break\n",
    "print('done')"
   ]
  },
  {
   "cell_type": "code",
   "execution_count": 42,
   "metadata": {},
   "outputs": [
    {
     "name": "stdout",
     "output_type": "stream",
     "text": [
      "2\n",
      "4\n",
      "6\n",
      "8\n",
      "10\n"
     ]
    }
   ],
   "source": [
    "for i in range(1, 11):\n",
    "    if i % 2 == 1:\n",
    "        # odd number\n",
    "        continue\n",
    "    print(i)"
   ]
  },
  {
   "cell_type": "code",
   "execution_count": 43,
   "metadata": {},
   "outputs": [
    {
     "name": "stdout",
     "output_type": "stream",
     "text": [
      "2\n",
      "4\n",
      "6\n",
      "8\n",
      "10\n"
     ]
    }
   ],
   "source": [
    "for i in range(1, 11):\n",
    "    if i % 2 == 0:\n",
    "        # even number\n",
    "        print(i)"
   ]
  },
  {
   "cell_type": "code",
   "execution_count": 106,
   "metadata": {},
   "outputs": [
    {
     "name": "stdout",
     "output_type": "stream",
     "text": [
      "adding numbers: 1 + 1 = 2\n",
      "i = 1 j = 1\n",
      "(APPROVED = 2 / 2 = 1.0)\n",
      "------------------------------\n",
      "1 + 2 is odd, skipping...\n",
      "(REJECTED = 3 / 2 = 1.5)\n",
      "------------------------------\n",
      "adding numbers: 1 + 3 = 4\n",
      "i = 1 j = 3\n",
      "(APPROVED = 4 / 2 = 2.0)\n",
      "------------------------------\n",
      "1 + 4 is odd, skipping...\n",
      "(REJECTED = 5 / 2 = 2.5)\n",
      "------------------------------\n",
      "iteration = 1\n",
      "--------------------\n",
      "2 + 1 is odd, skipping...\n",
      "(REJECTED = 3 / 2 = 1.5)\n",
      "------------------------------\n",
      "adding numbers: 2 + 2 = 4\n",
      "i = 2 j = 2\n",
      "(APPROVED = 4 / 2 = 2.0)\n",
      "------------------------------\n",
      "2 + 3 is odd, skipping...\n",
      "(REJECTED = 5 / 2 = 2.5)\n",
      "------------------------------\n",
      "adding numbers: 2 + 4 = 6\n",
      "i = 2 j = 4\n",
      "(APPROVED = 6 / 2 = 3.0)\n",
      "------------------------------\n",
      "iteration = 2\n",
      "--------------------\n",
      "adding numbers: 3 + 1 = 4\n",
      "i = 3 j = 1\n",
      "(APPROVED = 4 / 2 = 2.0)\n",
      "------------------------------\n",
      "3 + 2 is odd, skipping...\n",
      "(REJECTED = 5 / 2 = 2.5)\n",
      "------------------------------\n",
      "adding numbers: 3 + 3 = 6\n",
      "i = 3 j = 3\n",
      "(APPROVED = 6 / 2 = 3.0)\n",
      "------------------------------\n",
      "3 + 4 is odd, skipping...\n",
      "(REJECTED = 7 / 2 = 3.5)\n",
      "------------------------------\n",
      "iteration = 3\n",
      "--------------------\n",
      "4 + 1 is odd, skipping...\n",
      "(REJECTED = 5 / 2 = 2.5)\n",
      "------------------------------\n",
      "adding numbers: 4 + 2 = 6\n",
      "i = 4 j = 2\n",
      "(APPROVED = 6 / 2 = 3.0)\n",
      "------------------------------\n",
      "4 + 3 is odd, skipping...\n",
      "(REJECTED = 7 / 2 = 3.5)\n",
      "------------------------------\n",
      "adding numbers: 4 + 4 = 8\n",
      "i = 4 j = 4\n",
      "(APPROVED = 8 / 2 = 4.0)\n",
      "------------------------------\n",
      "iteration = 4\n",
      "--------------------\n"
     ]
    }
   ],
   "source": [
    "\n",
    "for i in range(1, 5):\n",
    "    # print(f'(iteration = {i})')\n",
    "    for j in range(1, 5):\n",
    "        # print(f'-' * 15)\n",
    "        # print(f'i = {i} ///////  j = {j}')\n",
    "        # print((i + j) % 2)\n",
    "        if (i + j) % 2 == 1:\n",
    "            print(f'{i} + {j} is odd, skipping...')\n",
    "            print(f'(REJECTED = {i + j} / 2 = {(i + j) / 2})')\n",
    "            print(f'-' * 30)\n",
    "            continue\n",
    "        print(f'adding numbers: {i} + {j} = {i + j}')\n",
    "        print(f'i = {i} j = {j}')\n",
    "        print(f'(APPROVED = {i + j} / 2 = {(i + j) / 2})')\n",
    "        print(f'-' * 30)\n",
    "    print(f'iteration = {i}')\n",
    "    print(f'-' * 20)\n",
    "        \n",
    "        "
   ]
  },
  {
   "cell_type": "code",
   "execution_count": 103,
   "metadata": {},
   "outputs": [
    {
     "name": "stdout",
     "output_type": "stream",
     "text": [
      "1 1\n",
      "1 2\n",
      "----------\n",
      "2 1\n",
      "2 2\n",
      "----------\n",
      "3 1\n",
      "3 2\n",
      "----------\n"
     ]
    }
   ],
   "source": [
    "for i in range(1, 4):\n",
    "    for j in range(1, 4):\n",
    "        if j >= 3:\n",
    "            break\n",
    "        print(i, j)\n",
    "    print('-' * 10)"
   ]
  },
  {
   "cell_type": "code",
   "execution_count": 107,
   "metadata": {},
   "outputs": [
    {
     "name": "stdout",
     "output_type": "stream",
     "text": [
      "1\n",
      "2\n",
      "3\n",
      "4\n",
      "5\n"
     ]
    }
   ],
   "source": [
    "i = 0\n",
    "\n",
    "while True:\n",
    "    i += 1\n",
    "    if i > 5:\n",
    "        break\n",
    "    print(i)"
   ]
  },
  {
   "cell_type": "code",
   "execution_count": 108,
   "metadata": {},
   "outputs": [],
   "source": [
    "data = [1, 2, 3, -4, 5, 6]\n",
    "\n",
    "all_positive = True\n",
    "\n",
    "for element in data:\n",
    "    if element <= 0:\n",
    "        all_positive = False\n",
    "        break\n",
    "\n",
    "if all_positive:\n",
    "    print('processing all positive elements')"
   ]
  },
  {
   "cell_type": "code",
   "execution_count": 109,
   "metadata": {},
   "outputs": [
    {
     "data": {
      "text/plain": [
       "False"
      ]
     },
     "execution_count": 109,
     "metadata": {},
     "output_type": "execute_result"
    }
   ],
   "source": [
    "all_positive"
   ]
  },
  {
   "cell_type": "code",
   "execution_count": 110,
   "metadata": {},
   "outputs": [
    {
     "name": "stdout",
     "output_type": "stream",
     "text": [
      "0\n",
      "1\n",
      "2\n",
      "3\n",
      "4\n"
     ]
    }
   ],
   "source": [
    "for i in range(5):\n",
    "    print(i)\n",
    "    if i > 3:\n",
    "        break\n",
    "else: # no break\n",
    "    print('loop terminated normally (no break)')"
   ]
  },
  {
   "cell_type": "code",
   "execution_count": 111,
   "metadata": {},
   "outputs": [
    {
     "name": "stdout",
     "output_type": "stream",
     "text": [
      "processing all positive elements\n"
     ]
    }
   ],
   "source": [
    "data = [1, 2, 3, -4, 5, 6]\n",
    "\n",
    "all_positive = True\n",
    "\n",
    "for element in data:\n",
    "    if element < 0:\n",
    "        break\n",
    "\n",
    "if all_positive:\n",
    "    print('processing all positive elements')"
   ]
  },
  {
   "cell_type": "code",
   "execution_count": null,
   "metadata": {},
   "outputs": [],
   "source": []
  }
 ],
 "metadata": {
  "kernelspec": {
   "display_name": "base",
   "language": "python",
   "name": "python3"
  },
  "language_info": {
   "codemirror_mode": {
    "name": "ipython",
    "version": 3
   },
   "file_extension": ".py",
   "mimetype": "text/x-python",
   "name": "python",
   "nbconvert_exporter": "python",
   "pygments_lexer": "ipython3",
   "version": "3.9.13 (main, Aug 25 2022, 23:51:50) [MSC v.1916 64 bit (AMD64)]"
  },
  "orig_nbformat": 4,
  "vscode": {
   "interpreter": {
    "hash": "74b8b5550d9a4bd47312fc4925b474308703c02b5070beca2150cc39634b882e"
   }
  }
 },
 "nbformat": 4,
 "nbformat_minor": 2
}
