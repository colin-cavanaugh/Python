{
 "cells": [
  {
   "cell_type": "code",
   "execution_count": 33,
   "metadata": {},
   "outputs": [],
   "source": [
    "data = (\n",
    "    ['2021-01-01', 10, 20],\n",
    "    ['2021-01-02', 20, 18],\n",
    "    ['2021-01-03', -10, 10],\n",
    "    ['2021-01-04', 100, 102],\n",
    "    ['2021-01-05', 20, 45]\n",
    ")"
   ]
  },
  {
   "cell_type": "code",
   "execution_count": 34,
   "metadata": {},
   "outputs": [],
   "source": [
    "for row in data:\n",
    "    row.append(abs(row[1] - row[2]))"
   ]
  },
  {
   "cell_type": "code",
   "execution_count": 35,
   "metadata": {},
   "outputs": [
    {
     "data": {
      "text/plain": [
       "(['2021-01-01', 10, 20, 10],\n",
       " ['2021-01-02', 20, 18, 2],\n",
       " ['2021-01-03', -10, 10, 20],\n",
       " ['2021-01-04', 100, 102, 2],\n",
       " ['2021-01-05', 20, 45, 25])"
      ]
     },
     "execution_count": 35,
     "metadata": {},
     "output_type": "execute_result"
    }
   ],
   "source": [
    "data"
   ]
  },
  {
   "cell_type": "code",
   "execution_count": 36,
   "metadata": {},
   "outputs": [],
   "source": [
    "max_spread = data[0][-1]\n",
    "max_date = data[0][0]"
   ]
  },
  {
   "cell_type": "code",
   "execution_count": 37,
   "metadata": {},
   "outputs": [
    {
     "data": {
      "text/plain": [
       "('2021-01-05', 25)"
      ]
     },
     "execution_count": 37,
     "metadata": {},
     "output_type": "execute_result"
    }
   ],
   "source": [
    "for dt, num_1, num_2, spread in data[1:]:\n",
    "    if spread > max_spread:\n",
    "        max_spread = spread\n",
    "        max_date = dt\n",
    "\n",
    "max_date, max_spread"
   ]
  },
  {
   "cell_type": "code",
   "execution_count": 17,
   "metadata": {},
   "outputs": [],
   "source": [
    "data1 = [\n",
    "    [10, 20],\n",
    "    [20, 30],\n",
    "    [35, 50],\n",
    "    [45, 60]\n",
    "]"
   ]
  },
  {
   "cell_type": "code",
   "execution_count": 18,
   "metadata": {},
   "outputs": [],
   "source": [
    "for idx,(op, cl) in enumerate(data1):\n",
    "    if idx == 0:\n",
    "        data1[idx].append('')\n",
    "    else:\n",
    "        prev_op, prev_cl, trend = data1[idx-1]\n",
    "        if op > prev_cl:\n",
    "            data1[idx].append('up')\n",
    "        elif op < prev_cl:\n",
    "            data1[idx].append('down')\n",
    "        else:\n",
    "            data1[idx].append('same')"
   ]
  },
  {
   "cell_type": "code",
   "execution_count": 19,
   "metadata": {},
   "outputs": [
    {
     "data": {
      "text/plain": [
       "[[10, 20, ''], [20, 30, 'same'], [35, 50, 'up'], [45, 60, 'down']]"
      ]
     },
     "execution_count": 19,
     "metadata": {},
     "output_type": "execute_result"
    }
   ],
   "source": [
    "data1"
   ]
  },
  {
   "cell_type": "code",
   "execution_count": 38,
   "metadata": {},
   "outputs": [
    {
     "name": "stdout",
     "output_type": "stream",
     "text": [
      "current iteration: 1\n",
      "------------------------------\n",
      "---------------\n",
      "current loop: 1\n",
      "(m = 1) (n = 1)\n",
      "1 x 1 = 1\n",
      "---------------\n",
      "current loop: 2\n",
      "(m = 1) (n = 2)\n",
      "1 x 2 = 2\n",
      "---------------\n",
      "current loop: 3\n",
      "(m = 1) (n = 3)\n",
      "1 x 3 = 3\n",
      "---------------\n",
      "current loop: 4\n",
      "(m = 1) (n = 4)\n",
      "1 x 4 = 4\n",
      "---------------\n",
      "current iteration: 2\n",
      "------------------------------\n",
      "---------------\n",
      "current loop: 1\n",
      "(m = 2) (n = 1)\n",
      "2 x 1 = 2\n",
      "---------------\n",
      "current loop: 2\n",
      "(m = 2) (n = 2)\n",
      "2 x 2 = 4\n",
      "---------------\n",
      "current loop: 3\n",
      "(m = 2) (n = 3)\n",
      "2 x 3 = 6\n",
      "---------------\n",
      "current loop: 4\n",
      "(m = 2) (n = 4)\n",
      "2 x 4 = 8\n",
      "---------------\n",
      "current iteration: 3\n",
      "------------------------------\n",
      "---------------\n",
      "current loop: 1\n",
      "(m = 3) (n = 1)\n",
      "3 x 1 = 3\n",
      "---------------\n",
      "current loop: 2\n",
      "(m = 3) (n = 2)\n",
      "3 x 2 = 6\n",
      "---------------\n",
      "current loop: 3\n",
      "(m = 3) (n = 3)\n",
      "3 x 3 = 9\n",
      "---------------\n",
      "current loop: 4\n",
      "(m = 3) (n = 4)\n",
      "3 x 4 = 12\n",
      "---------------\n"
     ]
    }
   ],
   "source": [
    "# m = 3\n",
    "# n = 4\n",
    "\n",
    "# for output1 in m:\n",
    "#     for output2 in n:\n",
    "#       print(f'm={m}, n={n}')\n",
    "for m in range(1, 4):\n",
    "  print(f'current iteration: {m}')\n",
    "  print(f'-' * 30)\n",
    "  for n in range(1, 5):\n",
    "    print(f'-' * 15)\n",
    "    print(f'current loop: {n}')\n",
    "    print(f'(m = {m}) (n = {n})')\n",
    "    print(f'{m} x {n} = {m * n}')\n",
    "  print(f'-' * 15)\n",
    "    "
   ]
  },
  {
   "cell_type": "code",
   "execution_count": null,
   "metadata": {},
   "outputs": [],
   "source": []
  }
 ],
 "metadata": {
  "kernelspec": {
   "display_name": "base",
   "language": "python",
   "name": "python3"
  },
  "language_info": {
   "codemirror_mode": {
    "name": "ipython",
    "version": 3
   },
   "file_extension": ".py",
   "mimetype": "text/x-python",
   "name": "python",
   "nbconvert_exporter": "python",
   "pygments_lexer": "ipython3",
   "version": "3.9.13 (main, Aug 25 2022, 23:51:50) [MSC v.1916 64 bit (AMD64)]"
  },
  "orig_nbformat": 4,
  "vscode": {
   "interpreter": {
    "hash": "74b8b5550d9a4bd47312fc4925b474308703c02b5070beca2150cc39634b882e"
   }
  }
 },
 "nbformat": 4,
 "nbformat_minor": 2
}
