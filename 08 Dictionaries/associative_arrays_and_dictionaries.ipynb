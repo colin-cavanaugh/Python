{
 "cells": [
  {
   "cell_type": "code",
   "execution_count": 1,
   "metadata": {},
   "outputs": [],
   "source": [
    "d = {'a': 1, 'b': 2, 'c': 3}"
   ]
  },
  {
   "cell_type": "code",
   "execution_count": 2,
   "metadata": {},
   "outputs": [
    {
     "data": {
      "text/plain": [
       "{'a': 1, 'b': 2, 'c': 3}"
      ]
     },
     "execution_count": 2,
     "metadata": {},
     "output_type": "execute_result"
    }
   ],
   "source": [
    "d"
   ]
  },
  {
   "cell_type": "code",
   "execution_count": 3,
   "metadata": {},
   "outputs": [],
   "source": [
    "person = {\n",
    "    'first_nanme': 'Eric',\n",
    "    'last_name': 'Idle',\n",
    "    'year_born': 2016,\n",
    "}"
   ]
  },
  {
   "cell_type": "code",
   "execution_count": 5,
   "metadata": {},
   "outputs": [
    {
     "data": {
      "text/plain": [
       "2016"
      ]
     },
     "execution_count": 5,
     "metadata": {},
     "output_type": "execute_result"
    }
   ],
   "source": [
    "person['year_born']"
   ]
  },
  {
   "cell_type": "code",
   "execution_count": 6,
   "metadata": {},
   "outputs": [],
   "source": [
    "t = (1, 2, 3, 4)"
   ]
  },
  {
   "cell_type": "code",
   "execution_count": 11,
   "metadata": {},
   "outputs": [
    {
     "data": {
      "text/plain": [
       "590899387183067792"
      ]
     },
     "execution_count": 11,
     "metadata": {},
     "output_type": "execute_result"
    }
   ],
   "source": [
    "hash(t)"
   ]
  },
  {
   "cell_type": "code",
   "execution_count": 13,
   "metadata": {},
   "outputs": [
    {
     "data": {
      "text/plain": [
       "{'first_nanme': 'Eric', 'last_name': 'Idle', 'year_born': 2016}"
      ]
     },
     "execution_count": 13,
     "metadata": {},
     "output_type": "execute_result"
    }
   ],
   "source": [
    "globals()['person']"
   ]
  },
  {
   "cell_type": "code",
   "execution_count": 14,
   "metadata": {},
   "outputs": [],
   "source": [
    "d = {\n",
    "    'key 1': 1, \n",
    "    'key 2': 2,\n",
    "    3.14: 'pi'\n",
    "}"
   ]
  },
  {
   "cell_type": "code",
   "execution_count": 15,
   "metadata": {},
   "outputs": [
    {
     "name": "stdout",
     "output_type": "stream",
     "text": [
      "key 1\n",
      "key 2\n",
      "3.14\n"
     ]
    }
   ],
   "source": [
    "for k in d:\n",
    "    print(k)"
   ]
  },
  {
   "cell_type": "code",
   "execution_count": 16,
   "metadata": {},
   "outputs": [
    {
     "name": "stdout",
     "output_type": "stream",
     "text": [
      "d[key 1] = 1\n",
      "d[key 2] = 2\n",
      "d[3.14] = pi\n"
     ]
    }
   ],
   "source": [
    "for k in d:\n",
    "    print(f'd[{k}] = {d[k]}')"
   ]
  },
  {
   "cell_type": "code",
   "execution_count": 17,
   "metadata": {},
   "outputs": [
    {
     "name": "stdout",
     "output_type": "stream",
     "text": [
      "1\n",
      "2\n",
      "pi\n"
     ]
    }
   ],
   "source": [
    "for k in d:\n",
    "    print(d[k])"
   ]
  },
  {
   "cell_type": "code",
   "execution_count": 19,
   "metadata": {},
   "outputs": [
    {
     "name": "stdout",
     "output_type": "stream",
     "text": [
      "1\n",
      "2\n",
      "pi\n"
     ]
    }
   ],
   "source": [
    "for v in d.values():\n",
    "    print(v)"
   ]
  },
  {
   "cell_type": "code",
   "execution_count": 25,
   "metadata": {},
   "outputs": [
    {
     "name": "stdout",
     "output_type": "stream",
     "text": [
      "d[key 1] = 1\n",
      "d[key 2] = 2\n",
      "d[3.14] = pi\n"
     ]
    }
   ],
   "source": [
    "for key, value in d.items():\n",
    "    # key, value = t # UNPACKING\n",
    "    print(f'd[{key}] = {value}')"
   ]
  },
  {
   "cell_type": "code",
   "execution_count": 26,
   "metadata": {},
   "outputs": [],
   "source": [
    "d['x'] = 100"
   ]
  },
  {
   "cell_type": "code",
   "execution_count": 27,
   "metadata": {},
   "outputs": [
    {
     "data": {
      "text/plain": [
       "{'key 1': 1, 'key 2': 2, 3.14: 'pi', 'x': 100}"
      ]
     },
     "execution_count": 27,
     "metadata": {},
     "output_type": "execute_result"
    }
   ],
   "source": [
    "d"
   ]
  },
  {
   "cell_type": "code",
   "execution_count": 28,
   "metadata": {},
   "outputs": [
    {
     "name": "stdout",
     "output_type": "stream",
     "text": [
      "key 1\n",
      "key 2\n",
      "3.14\n",
      "x\n"
     ]
    }
   ],
   "source": [
    "for k in d:\n",
    "    print(k)"
   ]
  },
  {
   "cell_type": "code",
   "execution_count": 32,
   "metadata": {},
   "outputs": [],
   "source": [
    "del d['key 1']"
   ]
  },
  {
   "cell_type": "code",
   "execution_count": 33,
   "metadata": {},
   "outputs": [
    {
     "data": {
      "text/plain": [
       "{'key 2': 2, 3.14: 'pi', 'x': 100}"
      ]
     },
     "execution_count": 33,
     "metadata": {},
     "output_type": "execute_result"
    }
   ],
   "source": [
    "d"
   ]
  },
  {
   "cell_type": "code",
   "execution_count": 34,
   "metadata": {},
   "outputs": [],
   "source": [
    "d['key 1'] = 100"
   ]
  },
  {
   "cell_type": "code",
   "execution_count": 35,
   "metadata": {},
   "outputs": [
    {
     "name": "stdout",
     "output_type": "stream",
     "text": [
      "key 2\n",
      "3.14\n",
      "x\n",
      "key 1\n"
     ]
    }
   ],
   "source": [
    "for k in d:\n",
    "    print(k)"
   ]
  },
  {
   "cell_type": "code",
   "execution_count": 45,
   "metadata": {},
   "outputs": [],
   "source": [
    "data = {\n",
    "    'open': 100, \n",
    "    'high': 110,\n",
    "    'low': 95,\n",
    "    'close': 110,\n",
    "    3.14: 'pi'\n",
    "}"
   ]
  },
  {
   "cell_type": "code",
   "execution_count": 46,
   "metadata": {},
   "outputs": [
    {
     "data": {
      "text/plain": [
       "True"
      ]
     },
     "execution_count": 46,
     "metadata": {},
     "output_type": "execute_result"
    }
   ],
   "source": [
    "'open' in data"
   ]
  },
  {
   "cell_type": "code",
   "execution_count": 47,
   "metadata": {},
   "outputs": [
    {
     "data": {
      "text/plain": [
       "True"
      ]
     },
     "execution_count": 47,
     "metadata": {},
     "output_type": "execute_result"
    }
   ],
   "source": [
    "3.14 in data"
   ]
  },
  {
   "cell_type": "code",
   "execution_count": 87,
   "metadata": {},
   "outputs": [],
   "source": [
    "data.clear()"
   ]
  },
  {
   "cell_type": "code",
   "execution_count": 88,
   "metadata": {},
   "outputs": [
    {
     "data": {
      "text/plain": [
       "{}"
      ]
     },
     "execution_count": 88,
     "metadata": {},
     "output_type": "execute_result"
    }
   ],
   "source": [
    "data"
   ]
  },
  {
   "cell_type": "code",
   "execution_count": null,
   "metadata": {},
   "outputs": [],
   "source": []
  },
  {
   "cell_type": "code",
   "execution_count": 89,
   "metadata": {},
   "outputs": [],
   "source": [
    "data = {\n",
    "    'open': 100, \n",
    "    'high': 110,\n",
    "    'low': 95,\n",
    "    'close': 110\n",
    "}"
   ]
  },
  {
   "cell_type": "code",
   "execution_count": 90,
   "metadata": {},
   "outputs": [
    {
     "data": {
      "text/plain": [
       "4"
      ]
     },
     "execution_count": 90,
     "metadata": {},
     "output_type": "execute_result"
    }
   ],
   "source": [
    "len(data)"
   ]
  },
  {
   "cell_type": "code",
   "execution_count": 92,
   "metadata": {},
   "outputs": [
    {
     "data": {
      "text/plain": [
       "{'open': 100, 'high': 110, 'low': 95, 'close': 110}"
      ]
     },
     "execution_count": 92,
     "metadata": {},
     "output_type": "execute_result"
    }
   ],
   "source": [
    "data_copy = data.copy()\n",
    "data"
   ]
  },
  {
   "cell_type": "code",
   "execution_count": 93,
   "metadata": {},
   "outputs": [
    {
     "data": {
      "text/plain": [
       "{'open': 100, 'high': 110, 'low': 95, 'close': 110}"
      ]
     },
     "execution_count": 93,
     "metadata": {},
     "output_type": "execute_result"
    }
   ],
   "source": [
    "data_copy"
   ]
  },
  {
   "cell_type": "code",
   "execution_count": 94,
   "metadata": {},
   "outputs": [
    {
     "data": {
      "text/plain": [
       "False"
      ]
     },
     "execution_count": 94,
     "metadata": {},
     "output_type": "execute_result"
    }
   ],
   "source": [
    "data is data_copy"
   ]
  },
  {
   "cell_type": "code",
   "execution_count": 95,
   "metadata": {},
   "outputs": [],
   "source": [
    "data_copy['x'] = 100"
   ]
  },
  {
   "cell_type": "code",
   "execution_count": 96,
   "metadata": {},
   "outputs": [
    {
     "data": {
      "text/plain": [
       "{'open': 100, 'high': 110, 'low': 95, 'close': 110, 'x': 100}"
      ]
     },
     "execution_count": 96,
     "metadata": {},
     "output_type": "execute_result"
    }
   ],
   "source": [
    "data_copy"
   ]
  },
  {
   "cell_type": "code",
   "execution_count": 97,
   "metadata": {},
   "outputs": [
    {
     "data": {
      "text/plain": [
       "{'open': 100, 'high': 110, 'low': 95, 'close': 110}"
      ]
     },
     "execution_count": 97,
     "metadata": {},
     "output_type": "execute_result"
    }
   ],
   "source": [
    "data"
   ]
  },
  {
   "cell_type": "code",
   "execution_count": 98,
   "metadata": {},
   "outputs": [],
   "source": [
    "from copy import deepcopy"
   ]
  },
  {
   "cell_type": "code",
   "execution_count": 99,
   "metadata": {},
   "outputs": [],
   "source": [
    "data_copy = deepcopy(data)"
   ]
  },
  {
   "cell_type": "code",
   "execution_count": 100,
   "metadata": {},
   "outputs": [
    {
     "data": {
      "text/plain": [
       "False"
      ]
     },
     "execution_count": 100,
     "metadata": {},
     "output_type": "execute_result"
    }
   ],
   "source": [
    "data_copy is data"
   ]
  },
  {
   "cell_type": "code",
   "execution_count": 107,
   "metadata": {},
   "outputs": [],
   "source": [
    "d = {\n",
    "    'a': [1, 2, 3,],\n",
    "    'b': {\n",
    "        'x': 0,\n",
    "        'y': 0\n",
    "    }\n",
    "}"
   ]
  },
  {
   "cell_type": "code",
   "execution_count": 102,
   "metadata": {},
   "outputs": [],
   "source": [
    "d_copy = d.copy()"
   ]
  },
  {
   "cell_type": "code",
   "execution_count": 103,
   "metadata": {},
   "outputs": [
    {
     "data": {
      "text/plain": [
       "False"
      ]
     },
     "execution_count": 103,
     "metadata": {},
     "output_type": "execute_result"
    }
   ],
   "source": [
    "d_copy is d"
   ]
  },
  {
   "cell_type": "code",
   "execution_count": 104,
   "metadata": {},
   "outputs": [],
   "source": [
    "d['b'] = 100"
   ]
  },
  {
   "cell_type": "code",
   "execution_count": 105,
   "metadata": {},
   "outputs": [
    {
     "data": {
      "text/plain": [
       "{'a': [1, 2, 3], 'b': 100}"
      ]
     },
     "execution_count": 105,
     "metadata": {},
     "output_type": "execute_result"
    }
   ],
   "source": [
    "d"
   ]
  },
  {
   "cell_type": "code",
   "execution_count": 106,
   "metadata": {},
   "outputs": [
    {
     "data": {
      "text/plain": [
       "{'a': [1, 2, 3], 'b': {'x': 0, 'y': 0}}"
      ]
     },
     "execution_count": 106,
     "metadata": {},
     "output_type": "execute_result"
    }
   ],
   "source": [
    "d_copy"
   ]
  },
  {
   "cell_type": "code",
   "execution_count": 108,
   "metadata": {},
   "outputs": [
    {
     "data": {
      "text/plain": [
       "({'a': [1, 2, 3], 'b': {'x': 0, 'y': 0}},\n",
       " {'a': [1, 2, 3], 'b': {'x': 0, 'y': 0}})"
      ]
     },
     "execution_count": 108,
     "metadata": {},
     "output_type": "execute_result"
    }
   ],
   "source": [
    "d, d_copy"
   ]
  },
  {
   "cell_type": "code",
   "execution_count": 109,
   "metadata": {},
   "outputs": [],
   "source": [
    "d['a'].append(4)"
   ]
  },
  {
   "cell_type": "code",
   "execution_count": 110,
   "metadata": {},
   "outputs": [
    {
     "data": {
      "text/plain": [
       "{'a': [1, 2, 3, 4], 'b': {'x': 0, 'y': 0}}"
      ]
     },
     "execution_count": 110,
     "metadata": {},
     "output_type": "execute_result"
    }
   ],
   "source": [
    "d"
   ]
  },
  {
   "cell_type": "code",
   "execution_count": 112,
   "metadata": {},
   "outputs": [
    {
     "data": {
      "text/plain": [
       "{'a': [1, 2, 3], 'b': {'x': 0, 'y': 0}}"
      ]
     },
     "execution_count": 112,
     "metadata": {},
     "output_type": "execute_result"
    }
   ],
   "source": [
    "d_copy"
   ]
  },
  {
   "cell_type": "code",
   "execution_count": 113,
   "metadata": {},
   "outputs": [],
   "source": [
    "d_copy = deepcopy(d)"
   ]
  },
  {
   "cell_type": "code",
   "execution_count": 114,
   "metadata": {},
   "outputs": [
    {
     "data": {
      "text/plain": [
       "{'a': [1, 2, 3, 4], 'b': {'x': 0, 'y': 0}}"
      ]
     },
     "execution_count": 114,
     "metadata": {},
     "output_type": "execute_result"
    }
   ],
   "source": [
    "d"
   ]
  },
  {
   "cell_type": "code",
   "execution_count": 115,
   "metadata": {},
   "outputs": [],
   "source": [
    "d_copy['a'].append(5)"
   ]
  },
  {
   "cell_type": "code",
   "execution_count": 116,
   "metadata": {},
   "outputs": [
    {
     "data": {
      "text/plain": [
       "{'a': [1, 2, 3, 4, 5], 'b': {'x': 0, 'y': 0}}"
      ]
     },
     "execution_count": 116,
     "metadata": {},
     "output_type": "execute_result"
    }
   ],
   "source": [
    "d_copy"
   ]
  },
  {
   "cell_type": "code",
   "execution_count": 117,
   "metadata": {},
   "outputs": [
    {
     "data": {
      "text/plain": [
       "{'a': [1, 2, 3, 4], 'b': {'x': 0, 'y': 0}}"
      ]
     },
     "execution_count": 117,
     "metadata": {},
     "output_type": "execute_result"
    }
   ],
   "source": [
    "d"
   ]
  },
  {
   "cell_type": "code",
   "execution_count": 118,
   "metadata": {},
   "outputs": [],
   "source": [
    "d = dict(a=1, b=2)"
   ]
  },
  {
   "cell_type": "code",
   "execution_count": 119,
   "metadata": {},
   "outputs": [
    {
     "data": {
      "text/plain": [
       "{'a': 1, 'b': 2}"
      ]
     },
     "execution_count": 119,
     "metadata": {},
     "output_type": "execute_result"
    }
   ],
   "source": [
    "d"
   ]
  },
  {
   "cell_type": "code",
   "execution_count": 120,
   "metadata": {},
   "outputs": [
    {
     "ename": "SyntaxError",
     "evalue": "expression cannot contain assignment, perhaps you meant \"==\"? (736618522.py, line 1)",
     "output_type": "error",
     "traceback": [
      "\u001b[1;36m  File \u001b[1;32m\"C:\\Users\\light\\AppData\\Local\\Temp\\ipykernel_39248\\736618522.py\"\u001b[1;36m, line \u001b[1;32m1\u001b[0m\n\u001b[1;33m    d = dict(3.14 = 'even')\u001b[0m\n\u001b[1;37m             ^\u001b[0m\n\u001b[1;31mSyntaxError\u001b[0m\u001b[1;31m:\u001b[0m expression cannot contain assignment, perhaps you meant \"==\"?\n"
     ]
    }
   ],
   "source": [
    "d = dict(3.14 = 'even')"
   ]
  },
  {
   "cell_type": "code",
   "execution_count": 126,
   "metadata": {},
   "outputs": [],
   "source": [
    "d = dict.fromkeys(['open','high', 'low', 'close'], 10)"
   ]
  },
  {
   "cell_type": "code",
   "execution_count": 127,
   "metadata": {},
   "outputs": [
    {
     "data": {
      "text/plain": [
       "{'open': 10, 'high': 10, 'low': 10, 'close': 10}"
      ]
     },
     "execution_count": 127,
     "metadata": {},
     "output_type": "execute_result"
    }
   ],
   "source": [
    "d"
   ]
  },
  {
   "cell_type": "code",
   "execution_count": 128,
   "metadata": {},
   "outputs": [],
   "source": [
    "d = dict.fromkeys(['a', 'a'], 100)"
   ]
  },
  {
   "cell_type": "code",
   "execution_count": 129,
   "metadata": {},
   "outputs": [
    {
     "data": {
      "text/plain": [
       "{'a': 100}"
      ]
     },
     "execution_count": 129,
     "metadata": {},
     "output_type": "execute_result"
    }
   ],
   "source": [
    "d"
   ]
  },
  {
   "cell_type": "code",
   "execution_count": 130,
   "metadata": {},
   "outputs": [],
   "source": [
    "symbols = {'AAPL', 'MSFT', 'AAPL', 'MSFT'}"
   ]
  },
  {
   "cell_type": "code",
   "execution_count": 131,
   "metadata": {},
   "outputs": [],
   "source": [
    "d = dict.fromkeys(symbols, 0)"
   ]
  },
  {
   "cell_type": "code",
   "execution_count": 132,
   "metadata": {},
   "outputs": [
    {
     "data": {
      "text/plain": [
       "{'AAPL': 0, 'MSFT': 0}"
      ]
     },
     "execution_count": 132,
     "metadata": {},
     "output_type": "execute_result"
    }
   ],
   "source": [
    "d"
   ]
  },
  {
   "cell_type": "code",
   "execution_count": 133,
   "metadata": {},
   "outputs": [
    {
     "data": {
      "text/plain": [
       "['AAPL', 'MSFT']"
      ]
     },
     "execution_count": 133,
     "metadata": {},
     "output_type": "execute_result"
    }
   ],
   "source": [
    "list(d)"
   ]
  },
  {
   "cell_type": "code",
   "execution_count": 134,
   "metadata": {},
   "outputs": [
    {
     "data": {
      "text/plain": [
       "{'AAPL': 0, 'MSFT': 0}"
      ]
     },
     "execution_count": 134,
     "metadata": {},
     "output_type": "execute_result"
    }
   ],
   "source": [
    "d"
   ]
  },
  {
   "cell_type": "code",
   "execution_count": 135,
   "metadata": {},
   "outputs": [],
   "source": [
    "d = dict.fromkeys('Python is an awesome language!', 0)"
   ]
  },
  {
   "cell_type": "code",
   "execution_count": 136,
   "metadata": {},
   "outputs": [
    {
     "data": {
      "text/plain": [
       "{'P': 0,\n",
       " 'y': 0,\n",
       " 't': 0,\n",
       " 'h': 0,\n",
       " 'o': 0,\n",
       " 'n': 0,\n",
       " ' ': 0,\n",
       " 'i': 0,\n",
       " 's': 0,\n",
       " 'a': 0,\n",
       " 'w': 0,\n",
       " 'e': 0,\n",
       " 'm': 0,\n",
       " 'l': 0,\n",
       " 'g': 0,\n",
       " 'u': 0,\n",
       " '!': 0}"
      ]
     },
     "execution_count": 136,
     "metadata": {},
     "output_type": "execute_result"
    }
   ],
   "source": [
    "d"
   ]
  },
  {
   "cell_type": "code",
   "execution_count": 137,
   "metadata": {},
   "outputs": [],
   "source": [
    "d1 = {}"
   ]
  },
  {
   "cell_type": "code",
   "execution_count": 139,
   "metadata": {},
   "outputs": [],
   "source": [
    "d2 = dict()"
   ]
  },
  {
   "cell_type": "code",
   "execution_count": 140,
   "metadata": {},
   "outputs": [
    {
     "data": {
      "text/plain": [
       "({}, {})"
      ]
     },
     "execution_count": 140,
     "metadata": {},
     "output_type": "execute_result"
    }
   ],
   "source": [
    "d1, d2"
   ]
  },
  {
   "cell_type": "code",
   "execution_count": 141,
   "metadata": {},
   "outputs": [],
   "source": [
    "transactions = [\n",
    "    {'item': 'widget', 'trans_type': 'sale', 'quantity': 10},\n",
    "    {'item': 'widget', 'trans_type': 'sale', 'quantity': 5},\n",
    "    {'item': 'widget', 'trans_type': 'refund', 'quantity': 2},\n",
    "    {'item': 'license', 'trans_type': 'sale', 'quantity': 1},\n",
    "    {'item': 'license', 'trans_type': 'sale', 'quantity': 1},\n",
    "    {'item': 'license', 'trans_type': 'refund', 'quantity': 1},\n",
    "]"
   ]
  },
  {
   "cell_type": "code",
   "execution_count": 146,
   "metadata": {},
   "outputs": [
    {
     "data": {
      "text/plain": [
       "{'widget': 15, 'license': 2}"
      ]
     },
     "execution_count": 146,
     "metadata": {},
     "output_type": "execute_result"
    }
   ],
   "source": [
    "total_sold = {}\n",
    "\n",
    "for transaction in transactions:\n",
    "    item = transaction['item']\n",
    "    is_sale = True if transaction['trans_type'] == 'sale' else False\n",
    "    quantity = transaction['quantity']\n",
    "\n",
    "    if is_sale:\n",
    "        if item in total_sold:\n",
    "            total_sold[item] += quantity\n",
    "        else:\n",
    "            total_sold[item] = quantity\n",
    "\n",
    "total_sold"
   ]
  },
  {
   "cell_type": "code",
   "execution_count": 145,
   "metadata": {},
   "outputs": [
    {
     "data": {
      "text/plain": [
       "{'widget': 13, 'license': 1}"
      ]
     },
     "execution_count": 145,
     "metadata": {},
     "output_type": "execute_result"
    }
   ],
   "source": [
    "net_sales = {}\n",
    "\n",
    "for transaction in transactions:\n",
    "    item = transaction['item']\n",
    "    is_sale = True if transaction['trans_type'] == 'sale' else False\n",
    "    quantity = transaction['quantity']\n",
    "\n",
    "    if not is_sale:\n",
    "        quantity = -quantity\n",
    "\n",
    "    if item in net_sales:\n",
    "        net_sales[item] += quantity\n",
    "    else:\n",
    "        net_sales[item] = quantity\n",
    "\n",
    "net_sales"
   ]
  },
  {
   "cell_type": "code",
   "execution_count": 153,
   "metadata": {},
   "outputs": [
    {
     "data": {
      "text/plain": [
       "{'widget': 15, 'license': 2}"
      ]
     },
     "execution_count": 153,
     "metadata": {},
     "output_type": "execute_result"
    }
   ],
   "source": [
    "total_sold = {}\n",
    "\n",
    "for transaction in transactions:\n",
    "    item = transaction['item']\n",
    "    is_sale = True if transaction['trans_type'] == 'sale' else False\n",
    "    quantity = transaction['quantity']\n",
    "\n",
    "    if is_sale:\n",
    "        if not item in total_sold:\n",
    "            total_sold[item] = 0\n",
    "        total_sold[item] += quantity\n",
    "\n",
    "total_sold"
   ]
  },
  {
   "cell_type": "code",
   "execution_count": 158,
   "metadata": {},
   "outputs": [
    {
     "data": {
      "text/plain": [
       "10"
      ]
     },
     "execution_count": 158,
     "metadata": {},
     "output_type": "execute_result"
    }
   ],
   "source": [
    "total_sold = {'widget': 10}\n",
    "\n",
    "total_sold.get('widget', 0)\n"
   ]
  },
  {
   "cell_type": "code",
   "execution_count": 160,
   "metadata": {},
   "outputs": [
    {
     "data": {
      "text/plain": [
       "{'widget': 15, 'license': 2}"
      ]
     },
     "execution_count": 160,
     "metadata": {},
     "output_type": "execute_result"
    }
   ],
   "source": [
    "total_sold = {}\n",
    "\n",
    "for transaction in transactions:\n",
    "    item = transaction['item']\n",
    "    is_sale = True if transaction['trans_type'] == 'sale' else False\n",
    "    quantity = transaction['quantity']\n",
    "\n",
    "    if is_sale:\n",
    "        total_sold[item] = total_sold.get(item, 0) + quantity\n",
    "\n",
    "total_sold"
   ]
  },
  {
   "cell_type": "code",
   "execution_count": 164,
   "metadata": {},
   "outputs": [],
   "source": [
    "net_sales = {}\n",
    "\n",
    "for transaction in transactions:\n",
    "    item = transaction['item']\n",
    "    is_sale = True if transaction['trans_type'] == 'sale' else False\n",
    "    quantity = transaction['quantity']\n",
    "\n",
    "    if not is_sale:\n",
    "        quantity = -quantity\n",
    "\n",
    "    net_sales[item] = net_sales.get(item, 0) + quantity"
   ]
  },
  {
   "cell_type": "code",
   "execution_count": 165,
   "metadata": {},
   "outputs": [
    {
     "data": {
      "text/plain": [
       "{'widget': 13, 'license': 1}"
      ]
     },
     "execution_count": 165,
     "metadata": {},
     "output_type": "execute_result"
    }
   ],
   "source": [
    "net_sales"
   ]
  },
  {
   "cell_type": "code",
   "execution_count": 166,
   "metadata": {},
   "outputs": [],
   "source": [
    "d1 = {'a': 1, 'b': 2}\n",
    "d2 = {'c': 3, 'd': 4}"
   ]
  },
  {
   "cell_type": "code",
   "execution_count": 167,
   "metadata": {},
   "outputs": [],
   "source": [
    "combined = {'a': 1, 'b': 2, 'c': 3, 'd': 4}"
   ]
  },
  {
   "cell_type": "code",
   "execution_count": 168,
   "metadata": {},
   "outputs": [],
   "source": [
    "d1.update(d2)"
   ]
  },
  {
   "cell_type": "code",
   "execution_count": 169,
   "metadata": {},
   "outputs": [
    {
     "data": {
      "text/plain": [
       "{'a': 1, 'b': 2, 'c': 3, 'd': 4}"
      ]
     },
     "execution_count": 169,
     "metadata": {},
     "output_type": "execute_result"
    }
   ],
   "source": [
    "d1"
   ]
  },
  {
   "cell_type": "code",
   "execution_count": 170,
   "metadata": {},
   "outputs": [],
   "source": [
    "d1 = {'a': 1, 'b': 2}\n",
    "d2 = {'c': 3, 'd': 4}"
   ]
  },
  {
   "cell_type": "code",
   "execution_count": 171,
   "metadata": {},
   "outputs": [],
   "source": [
    "d2.update(d1)"
   ]
  },
  {
   "cell_type": "code",
   "execution_count": 172,
   "metadata": {},
   "outputs": [
    {
     "data": {
      "text/plain": [
       "{'c': 3, 'd': 4, 'a': 1, 'b': 2}"
      ]
     },
     "execution_count": 172,
     "metadata": {},
     "output_type": "execute_result"
    }
   ],
   "source": [
    "d2"
   ]
  },
  {
   "cell_type": "code",
   "execution_count": 31,
   "metadata": {},
   "outputs": [],
   "source": [
    "d1 = 'Hi my name is Colin and I am 35 years old.  I am 5 foot 9 inches tall and weigh 145 pounds'\n"
   ]
  },
  {
   "cell_type": "code",
   "execution_count": 32,
   "metadata": {},
   "outputs": [
    {
     "data": {
      "text/plain": [
       "'Hi my name is Colin and I am 35 years old.  I am 5 foot 9 inches tall and weigh 145 pounds'"
      ]
     },
     "execution_count": 32,
     "metadata": {},
     "output_type": "execute_result"
    }
   ],
   "source": [
    "d1"
   ]
  },
  {
   "cell_type": "code",
   "execution_count": 29,
   "metadata": {},
   "outputs": [
    {
     "data": {
      "text/plain": [
       "(97, 122)"
      ]
     },
     "execution_count": 29,
     "metadata": {},
     "output_type": "execute_result"
    }
   ],
   "source": [
    "ord('a'), ord('z')"
   ]
  },
  {
   "cell_type": "code",
   "execution_count": 41,
   "metadata": {},
   "outputs": [
    {
     "name": "stdout",
     "output_type": "stream",
     "text": [
      "H\n",
      "Iteration:\n",
      "i\n",
      "Iteration:\n",
      " \n",
      "Iteration:\n",
      "m\n",
      "Iteration:\n",
      "y\n",
      "Iteration:\n",
      " \n",
      "Iteration:\n",
      "n\n",
      "Iteration:\n",
      "a\n",
      "Iteration:\n",
      "m\n",
      "Iteration:\n",
      "e\n",
      "Iteration:\n",
      " \n",
      "Iteration:\n",
      "i\n",
      "Iteration:\n",
      "s\n",
      "Iteration:\n",
      " \n",
      "Iteration:\n",
      "C\n",
      "Iteration:\n",
      "o\n",
      "Iteration:\n",
      "l\n",
      "Iteration:\n",
      "i\n",
      "Iteration:\n",
      "n\n",
      "Iteration:\n",
      " \n",
      "Iteration:\n",
      "a\n",
      "Iteration:\n",
      "n\n",
      "Iteration:\n",
      "d\n",
      "Iteration:\n",
      " \n",
      "Iteration:\n",
      "I\n",
      "Iteration:\n",
      " \n",
      "Iteration:\n",
      "a\n",
      "Iteration:\n",
      "m\n",
      "Iteration:\n",
      " \n",
      "Iteration:\n",
      "3\n",
      "Iteration:\n",
      "5\n",
      "Iteration:\n",
      " \n",
      "Iteration:\n",
      "y\n",
      "Iteration:\n",
      "e\n",
      "Iteration:\n",
      "a\n",
      "Iteration:\n",
      "r\n",
      "Iteration:\n",
      "s\n",
      "Iteration:\n",
      " \n",
      "Iteration:\n",
      "o\n",
      "Iteration:\n",
      "l\n",
      "Iteration:\n",
      "d\n",
      "Iteration:\n",
      ".\n",
      "Iteration:\n",
      " \n",
      "Iteration:\n",
      " \n",
      "Iteration:\n",
      "I\n",
      "Iteration:\n",
      " \n",
      "Iteration:\n",
      "a\n",
      "Iteration:\n",
      "m\n",
      "Iteration:\n",
      " \n",
      "Iteration:\n",
      "5\n",
      "Iteration:\n",
      " \n",
      "Iteration:\n",
      "f\n",
      "Iteration:\n",
      "o\n",
      "Iteration:\n",
      "o\n",
      "Iteration:\n",
      "t\n",
      "Iteration:\n",
      " \n",
      "Iteration:\n",
      "9\n",
      "Iteration:\n",
      " \n",
      "Iteration:\n",
      "i\n",
      "Iteration:\n",
      "n\n",
      "Iteration:\n",
      "c\n",
      "Iteration:\n",
      "h\n",
      "Iteration:\n",
      "e\n",
      "Iteration:\n",
      "s\n",
      "Iteration:\n",
      " \n",
      "Iteration:\n",
      "t\n",
      "Iteration:\n",
      "a\n",
      "Iteration:\n",
      "l\n",
      "Iteration:\n",
      "l\n",
      "Iteration:\n",
      " \n",
      "Iteration:\n",
      "a\n",
      "Iteration:\n",
      "n\n",
      "Iteration:\n",
      "d\n",
      "Iteration:\n",
      " \n",
      "Iteration:\n",
      "w\n",
      "Iteration:\n",
      "e\n",
      "Iteration:\n",
      "i\n",
      "Iteration:\n",
      "g\n",
      "Iteration:\n",
      "h\n",
      "Iteration:\n",
      " \n",
      "Iteration:\n",
      "1\n",
      "Iteration:\n",
      "4\n",
      "Iteration:\n",
      "5\n",
      "Iteration:\n",
      " \n",
      "Iteration:\n",
      "p\n",
      "Iteration:\n",
      "o\n",
      "Iteration:\n",
      "u\n",
      "Iteration:\n",
      "n\n",
      "Iteration:\n",
      "d\n",
      "Iteration:\n",
      "s\n",
      "Iteration:\n"
     ]
    },
    {
     "data": {
      "text/plain": [
       "{'H': 1,\n",
       " 'i': 5,\n",
       " 'm': 4,\n",
       " 'y': 2,\n",
       " 'n': 6,\n",
       " 'a': 7,\n",
       " 'e': 4,\n",
       " 's': 4,\n",
       " 'C': 1,\n",
       " 'o': 5,\n",
       " 'l': 4,\n",
       " 'd': 4,\n",
       " 'I': 2,\n",
       " 'r': 1,\n",
       " 'f': 1,\n",
       " 't': 2,\n",
       " 'c': 1,\n",
       " 'h': 2,\n",
       " 'w': 1,\n",
       " 'g': 1,\n",
       " 'p': 1,\n",
       " 'u': 1}"
      ]
     },
     "execution_count": 41,
     "metadata": {},
     "output_type": "execute_result"
    }
   ],
   "source": [
    "count = {}\n",
    "for c in d1:\n",
    "    print(c)\n",
    "    print('Iteration:')\n",
    "    if (ord(c) >= ord('a') and ord(c) <= ord('z')) or (ord(c) >= ord('A') and ord(c) <= ord('Z')):\n",
    "        count[c] = count.get(c, 0) + 1\n",
    "\n",
    "count"
   ]
  },
  {
   "cell_type": "code",
   "execution_count": null,
   "metadata": {},
   "outputs": [],
   "source": []
  }
 ],
 "metadata": {
  "kernelspec": {
   "display_name": "base",
   "language": "python",
   "name": "python3"
  },
  "language_info": {
   "codemirror_mode": {
    "name": "ipython",
    "version": 3
   },
   "file_extension": ".py",
   "mimetype": "text/x-python",
   "name": "python",
   "nbconvert_exporter": "python",
   "pygments_lexer": "ipython3",
   "version": "3.9.13 (main, Aug 25 2022, 23:51:50) [MSC v.1916 64 bit (AMD64)]"
  },
  "orig_nbformat": 4,
  "vscode": {
   "interpreter": {
    "hash": "74b8b5550d9a4bd47312fc4925b474308703c02b5070beca2150cc39634b882e"
   }
  }
 },
 "nbformat": 4,
 "nbformat_minor": 2
}
