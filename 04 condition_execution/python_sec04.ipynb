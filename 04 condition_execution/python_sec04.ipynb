{
 "cells": [
  {
   "attachments": {},
   "cell_type": "markdown",
   "metadata": {},
   "source": [
    "### If... Else..."
   ]
  },
  {
   "cell_type": "code",
   "execution_count": 1,
   "metadata": {},
   "outputs": [],
   "source": [
    "if 1 > 2:\n",
    "    print('1 is less than 2')"
   ]
  },
  {
   "cell_type": "code",
   "execution_count": 2,
   "metadata": {},
   "outputs": [
    {
     "name": "stdout",
     "output_type": "stream",
     "text": [
      "next line\n"
     ]
    }
   ],
   "source": [
    "if 1 > 2:\n",
    "    print('block - line 1')\n",
    "    print('block - line 2')\n",
    "    print('block - line 3')\n",
    "\n",
    "print('next line')"
   ]
  },
  {
   "cell_type": "code",
   "execution_count": 3,
   "metadata": {},
   "outputs": [
    {
     "name": "stdout",
     "output_type": "stream",
     "text": [
      "1 is not less than 2\n"
     ]
    }
   ],
   "source": [
    "if 1 > 2:\n",
    "    print('1 is less than 2')\n",
    "else:\n",
    "    print('1 is not less than 2')"
   ]
  },
  {
   "cell_type": "code",
   "execution_count": 6,
   "metadata": {},
   "outputs": [
    {
     "name": "stdout",
     "output_type": "stream",
     "text": [
      "insufficient funds\n"
     ]
    }
   ],
   "source": [
    "account_enabled = True\n",
    "balance = 1000\n",
    "withdraw = 10000\n",
    "\n",
    "if account_enabled and withdraw <= balance:\n",
    "    print('authorized')\n",
    "else:\n",
    "    if not account_enabled:\n",
    "        print('account disabled')\n",
    "    else:\n",
    "        print('insufficient funds')"
   ]
  },
  {
   "attachments": {},
   "cell_type": "markdown",
   "metadata": {},
   "source": [
    ">= 90       --> A\n",
    ">= 80, < 90 --> B\n",
    ">= 70, < 80 --> C\n",
    ">= 60, < 70 --> D\n",
    "< 60        --> F"
   ]
  },
  {
   "cell_type": "code",
   "execution_count": 2,
   "metadata": {},
   "outputs": [
    {
     "name": "stdout",
     "output_type": "stream",
     "text": [
      "B\n"
     ]
    }
   ],
   "source": [
    "grade = 85\n",
    "if grade >= 90:\n",
    "    letter_grade = 'A'\n",
    "else:\n",
    "    if grade >=80:\n",
    "        letter_grade = 'B'\n",
    "    else: \n",
    "        if grade >= 70:\n",
    "            letter_grade = 'C'\n",
    "        else:\n",
    "            if grade >=60:\n",
    "                letter_grade = 'D'\n",
    "            else:\n",
    "                if grade >=50:\n",
    "                    letter_grade = 'F'\n",
    "        \n",
    "print(letter_grade)\n",
    "\n"
   ]
  },
  {
   "cell_type": "code",
   "execution_count": 5,
   "metadata": {},
   "outputs": [
    {
     "name": "stdout",
     "output_type": "stream",
     "text": [
      "C\n"
     ]
    }
   ],
   "source": [
    "grade = 72\n",
    "if grade >= 90:\n",
    "    letter_grade = 'A'\n",
    "if grade >= 80 and grade < 90:\n",
    "    letter_grade = 'B'\n",
    "if grade >= 70 and grade < 80:\n",
    "    letter_grade = 'C'\n",
    "if grade >= 60 and grade < 70:\n",
    "    letter_grade = 'D'\n",
    "if grade >= 50 and grade < 60:\n",
    "    letter_grade = 'F'\n",
    "\n",
    "print(letter_grade)\n"
   ]
  },
  {
   "cell_type": "code",
   "execution_count": 12,
   "metadata": {},
   "outputs": [
    {
     "name": "stdout",
     "output_type": "stream",
     "text": [
      "C\n"
     ]
    }
   ],
   "source": [
    "grade = 72\n",
    "letter_grade = 'F'\n",
    "if grade >= 60:\n",
    "    letter_grade = 'D'\n",
    "if grade >= 70:\n",
    "    letter_grade = 'C'\n",
    "if grade >= 80:\n",
    "    letter_grade = 'B'\n",
    "if grade >= 90:\n",
    "    letter_grade = 'A'\n",
    "\n",
    "print(letter_grade)"
   ]
  },
  {
   "attachments": {},
   "cell_type": "markdown",
   "metadata": {},
   "source": [
    "### elif Statements"
   ]
  },
  {
   "cell_type": "code",
   "execution_count": 22,
   "metadata": {},
   "outputs": [
    {
     "name": "stdout",
     "output_type": "stream",
     "text": [
      "passed, Grade = 72\n",
      "C\n"
     ]
    }
   ],
   "source": [
    "grade = 72\n",
    "if grade >= 90:\n",
    "    letter_grade = 'A'\n",
    "    print(f'passed with distinction, Grade = {grade}')\n",
    "elif grade >= 80:\n",
    "    letter_grade = 'B'\n",
    "    print(f'passed, Grade = {grade}')\n",
    "elif grade >= 70:\n",
    "    letter_grade = 'C'\n",
    "    print(f'passed, Grade = {grade}')\n",
    "elif grade >= 60:\n",
    "    letter_grade = 'D'\n",
    "    print(f'passed, Grade = {grade}')\n",
    "elif grade >= 50:\n",
    "    letter_grade = 'F'\n",
    "    print(f'failed, Grade = {grade}')\n",
    "\n",
    "print(letter_grade)"
   ]
  },
  {
   "cell_type": "code",
   "execution_count": 23,
   "metadata": {},
   "outputs": [
    {
     "name": "stdout",
     "output_type": "stream",
     "text": [
      "insufficient funds\n"
     ]
    }
   ],
   "source": [
    "account_enabled = True\n",
    "balance = 1000\n",
    "withdraw = 10000\n",
    "\n",
    "if account_enabled and withdraw <= balance:\n",
    "    print('authorized')\n",
    "else:\n",
    "    if not account_enabled:\n",
    "        print('account disabled')\n",
    "    else:\n",
    "        print('insufficient funds')"
   ]
  },
  {
   "cell_type": "code",
   "execution_count": 29,
   "metadata": {},
   "outputs": [
    {
     "name": "stdout",
     "output_type": "stream",
     "text": [
      "withdraw authorized\n"
     ]
    }
   ],
   "source": [
    "account_enabled = True\n",
    "balance = 1000\n",
    "withdraw = 100\n",
    "\n",
    "if not account_enabled:\n",
    "    print('account disabled')\n",
    "else:\n",
    "    if withdraw > balance:\n",
    "        print('insufficient funds')\n",
    "    else:\n",
    "        print('withdraw authorized')"
   ]
  },
  {
   "cell_type": "code",
   "execution_count": 32,
   "metadata": {},
   "outputs": [
    {
     "name": "stdout",
     "output_type": "stream",
     "text": [
      "withdraw authorized\n"
     ]
    }
   ],
   "source": [
    "account_enabled = True\n",
    "balance = 1000\n",
    "withdraw = 100\n",
    "\n",
    "if not account_enabled:\n",
    "    print('account disabled')\n",
    "elif withdraw > balance:\n",
    "    print('insufficient funds')\n",
    "else:\n",
    "    print('withdraw authorized')"
   ]
  },
  {
   "attachments": {},
   "cell_type": "markdown",
   "metadata": {},
   "source": [
    "### Ternary Conditional Operator"
   ]
  },
  {
   "cell_type": "code",
   "execution_count": 1,
   "metadata": {},
   "outputs": [
    {
     "name": "stdout",
     "output_type": "stream",
     "text": [
      "50\n"
     ]
    }
   ],
   "source": [
    "ask_price = 100\n",
    "\n",
    "if ask_price > 50:\n",
    "    volume = 50\n",
    "else:\n",
    "    volume = 80\n",
    "\n",
    "print(volume)"
   ]
  },
  {
   "cell_type": "code",
   "execution_count": 2,
   "metadata": {},
   "outputs": [
    {
     "name": "stdout",
     "output_type": "stream",
     "text": [
      "50\n"
     ]
    }
   ],
   "source": [
    "ask_price = 100\n",
    "\n",
    "volume = 50 if ask_price > 50 else 80\n",
    "\n",
    "print(volume)"
   ]
  },
  {
   "cell_type": "code",
   "execution_count": 5,
   "metadata": {},
   "outputs": [],
   "source": [
    "a = 20\n",
    "b = 10\n",
    "\n",
    "distance = a - b if a >= b else b - a"
   ]
  },
  {
   "cell_type": "code",
   "execution_count": 6,
   "metadata": {},
   "outputs": [
    {
     "data": {
      "text/plain": [
       "10"
      ]
     },
     "execution_count": 6,
     "metadata": {},
     "output_type": "execute_result"
    }
   ],
   "source": [
    "distance"
   ]
  },
  {
   "cell_type": "markdown",
   "metadata": {},
   "source": [
    "Suppose we are looping (iterating) through some data file and for every row we process we have the following data:\n",
    "\n",
    "- `current_value` - the value of some column in our current row. A value of `-999` indicates the value is missing.\n",
    "- `running_total` - running total of that column's values so far, possibly zero\n",
    "- `running_count` - running count of number of rows (not including current one)"
   ]
  },
  {
   "cell_type": "code",
   "execution_count": 27,
   "metadata": {},
   "outputs": [
    {
     "name": "stdout",
     "output_type": "stream",
     "text": [
      "15000 0\n"
     ]
    }
   ],
   "source": [
    "current_value = -999\n",
    "running_total = 15000\n",
    "running_count = 125\n",
    "\n",
    "if current_value == -999:\n",
    "    clean_value = 0\n",
    "else:\n",
    "    clean_value = current_value\n",
    "\n",
    "running_total = running_total + clean_value\n",
    "\n",
    "print(running_total, clean_value)"
   ]
  },
  {
   "cell_type": "code",
   "execution_count": 25,
   "metadata": {},
   "outputs": [
    {
     "name": "stdout",
     "output_type": "stream",
     "text": [
      "15000 -999\n"
     ]
    }
   ],
   "source": [
    "current_value = -999\n",
    "running_total = 15000\n",
    "running_count = 125\n",
    "\n",
    "# clean_value = 0 if current_value == -999 else current_value\n",
    "# # if current_value == -999:\n",
    "# #     clean_value = 0\n",
    "# # else:\n",
    "# #     clean_value = current_value\n",
    "\n",
    "# running_total = running_total + clean_value\n",
    "\n",
    "running_total = running_total + (0 if current_value == -999 else current_value)\n",
    "\n",
    "print(running_total, current_value)"
   ]
  },
  {
   "cell_type": "code",
   "execution_count": null,
   "metadata": {},
   "outputs": [],
   "source": []
  }
 ],
 "metadata": {
  "kernelspec": {
   "display_name": "base",
   "language": "python",
   "name": "python3"
  },
  "language_info": {
   "codemirror_mode": {
    "name": "ipython",
    "version": 3
   },
   "file_extension": ".py",
   "mimetype": "text/x-python",
   "name": "python",
   "nbconvert_exporter": "python",
   "pygments_lexer": "ipython3",
   "version": "3.9.13 (main, Aug 25 2022, 23:51:50) [MSC v.1916 64 bit (AMD64)]"
  },
  "orig_nbformat": 4,
  "vscode": {
   "interpreter": {
    "hash": "74b8b5550d9a4bd47312fc4925b474308703c02b5070beca2150cc39634b882e"
   }
  }
 },
 "nbformat": 4,
 "nbformat_minor": 2
}
