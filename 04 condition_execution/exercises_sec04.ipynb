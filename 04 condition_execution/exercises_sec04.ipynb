{
 "cells": [
  {
   "attachments": {},
   "cell_type": "markdown",
   "metadata": {},
   "source": [
    "### Sec04 Exercise 01"
   ]
  },
  {
   "cell_type": "code",
   "execution_count": 9,
   "metadata": {},
   "outputs": [
    {
     "name": "stdout",
     "output_type": "stream",
     "text": [
      "0\n"
     ]
    }
   ],
   "source": [
    "# a = 0\n",
    "# if a == None:\n",
    "#     a = 'N/A'\n",
    "# else:\n",
    "#     a = a\n",
    "\n",
    "# print(a)\n",
    "\n",
    "a = 'Python'\n",
    "\n",
    "if a is None:\n",
    "    a = 'N/A'\n",
    "\n",
    "print(a)\n"
   ]
  },
  {
   "attachments": {},
   "cell_type": "markdown",
   "metadata": {},
   "source": [
    "### Sec04 Exercise 02"
   ]
  },
  {
   "cell_type": "code",
   "execution_count": 15,
   "metadata": {},
   "outputs": [
    {
     "name": "stdout",
     "output_type": "stream",
     "text": [
      "100\n"
     ]
    }
   ],
   "source": [
    "a = 100\n",
    "a = 'N/A' if a is None else a\n",
    "\n",
    "print(a)\n",
    "\n"
   ]
  },
  {
   "attachments": {},
   "cell_type": "markdown",
   "metadata": {},
   "source": [
    "### Sec04 Exercise 03"
   ]
  },
  {
   "cell_type": "code",
   "execution_count": 22,
   "metadata": {},
   "outputs": [
    {
     "name": "stdout",
     "output_type": "stream",
     "text": [
      "Good\n"
     ]
    }
   ],
   "source": [
    "score = 720\n",
    "\n",
    "if score < 580:\n",
    "    rating = 'Poor'\n",
    "elif score < 670:\n",
    "    rating = 'Fair'\n",
    "elif score < 740:\n",
    "    rating = 'Good'\n",
    "elif score < 800:\n",
    "    rating = 'Very Good'\n",
    "else:\n",
    "    rating = 'Excellent'\n",
    "\n",
    "print(rating)\n",
    "\n",
    "\n"
   ]
  },
  {
   "attachments": {},
   "cell_type": "markdown",
   "metadata": {},
   "source": [
    "### Sec04 Exercise 04"
   ]
  },
  {
   "cell_type": "code",
   "execution_count": 15,
   "metadata": {},
   "outputs": [],
   "source": [
    "elapsed_seconds = 70\n",
    "\n",
    "if elapsed_seconds < 60:\n",
    "    magnitude = 'seconds'\n",
    "    print(abs(elapsed_seconds))\n",
    "if elapsed_seconds < 60:\n",
    "    magnitude = 'seconds'\n",
    "    print(abs(elapsed_seconds))\n",
    "if elapsed_seconds < 60:\n",
    "    magnitude = 'seconds'\n",
    "    print(abs(elapsed_seconds))\n",
    "if elapsed_seconds < 60:\n",
    "    magnitude = 'seconds'\n",
    "    print(abs(elapsed_seconds))\n"
   ]
  },
  {
   "cell_type": "code",
   "execution_count": 1,
   "metadata": {},
   "outputs": [
    {
     "name": "stdout",
     "output_type": "stream",
     "text": [
      "weeks\n",
      "6\n",
      "45\n",
      "1080\n",
      "64800\n",
      "Totals are as follows: Weeks = 6, Days = 45, Hours = 1080, Minutes = 64800, Seconds = 3888000\n"
     ]
    }
   ],
   "source": [
    "elapsed_time = 3_888_000\n",
    "total_minutes = elapsed_time // 60\n",
    "total_hours = elapsed_time // 3_600\n",
    "total_days = elapsed_time // 86_400\n",
    "total_weeks = elapsed_time // 604_800\n",
    "\n",
    "if elapsed_time < 60:\n",
    "    magnitude = 'seconds'\n",
    "elif elapsed_time >= 60 and elapsed_time < 3_600:\n",
    "    magnitude = 'minutes'\n",
    "elif elapsed_time >= 3_600 and elapsed_time < 86_400:\n",
    "    magnitude = 'hours'\n",
    "elif elapsed_time >= 86_400 and elapsed_time < 604_800:\n",
    "    magnitude = 'days'\n",
    "else:\n",
    "    magnitude = 'weeks'\n",
    "\n",
    "print(magnitude)\n",
    "print(total_weeks)\n",
    "print(total_days)\n",
    "print(total_hours)\n",
    "print(total_minutes)\n",
    "print(f'Totals are as follows: Weeks = {total_weeks}, Days = {total_days}, Hours = {total_hours}, Minutes = {total_minutes}, Seconds = {elapsed_time}')\n"
   ]
  },
  {
   "cell_type": "code",
   "execution_count": 6,
   "metadata": {},
   "outputs": [],
   "source": [
    "\n",
    "seconds_in_minute = 60\n",
    "seconds_in_hour = seconds_in_minute * 60\n",
    "seconds_in_day = seconds_in_hour * 24\n",
    "seconds_in_week = seconds_in_day * 7\n",
    "seconds_in_month = seconds_in_week * 4\n",
    "seconds_in_year = seconds_in_month * 12"
   ]
  },
  {
   "cell_type": "code",
   "execution_count": 7,
   "metadata": {},
   "outputs": [
    {
     "name": "stdout",
     "output_type": "stream",
     "text": [
      "1.27189\n",
      "Total months\n"
     ]
    }
   ],
   "source": [
    "elapsed = 39_560_789.924\n",
    "# total_seconds = elapsed\n",
    "total_minutes = elapsed / 60\n",
    "total_hours = elapsed / 3_600\n",
    "total_days = elapsed / 86_400\n",
    "total_weeks = elapsed / 604_800\n",
    "total_months = elapsed / 2_592_000\n",
    "total_years = elapsed / 31_104_000\n",
    "\n",
    "if elapsed < seconds_in_minute:\n",
    "    magnitude = 'seconds'\n",
    "    print('%.5f' % elapsed) \n",
    "    print('Total seconds')\n",
    "elif elapsed < seconds_in_hour:\n",
    "    magnitude = 'minutes'\n",
    "    print('%.5f' % total_minutes) \n",
    "    print('Total minutes')\n",
    "elif elapsed < seconds_in_day:\n",
    "    magnitude = 'hours'\n",
    "    print('%.5f' % total_hours) \n",
    "    print('Total hours')\n",
    "elif elapsed < seconds_in_week:\n",
    "    magnitude = 'days'\n",
    "    print('%.5f' % total_days) \n",
    "    print('Total days')\n",
    "elif elapsed < seconds_in_month:\n",
    "    magnitude = 'weeks'\n",
    "    print('%.5f' % total_weeks) \n",
    "    print('Total weeks')\n",
    "elif elapsed < seconds_in_year:\n",
    "    magnitude = 'months'\n",
    "    print('%.5f' % total_months) \n",
    "    print('Total months')\n",
    "else:\n",
    "    magnitude = 'years'\n",
    "    print('%.5f' % total_years) \n",
    "    print('Total months')\n",
    "\n"
   ]
  },
  {
   "cell_type": "code",
   "execution_count": 8,
   "metadata": {},
   "outputs": [
    {
     "name": "stdout",
     "output_type": "stream",
     "text": [
      "Magnitude = years\n",
      "Total Seconds = 39560789.92400\n",
      "Total Minutes = 659346.49873\n",
      "Total Hours = 10989.10831\n",
      "Total Days = 457.87951\n",
      "Total Weeks = 65.41136\n",
      "Total Months = 15.26265\n",
      "Total Years = 1.27189\n"
     ]
    }
   ],
   "source": [
    "print(f'Magnitude = {magnitude}')\n",
    "print('Total Seconds =', '%.5f' % elapsed) \n",
    "print('Total Minutes =', '%.5f' % total_minutes) \n",
    "print('Total Hours =', '%.5f' % total_hours) \n",
    "print('Total Days =', '%.5f' % total_days) \n",
    "print('Total Weeks =','%.5f' % total_weeks) \n",
    "print('Total Months =', '%.5f' % total_months) \n",
    "print('Total Years =', '%.5f' % total_years) "
   ]
  },
  {
   "cell_type": "code",
   "execution_count": null,
   "metadata": {},
   "outputs": [],
   "source": []
  }
 ],
 "metadata": {
  "kernelspec": {
   "display_name": "base",
   "language": "python",
   "name": "python3"
  },
  "language_info": {
   "codemirror_mode": {
    "name": "ipython",
    "version": 3
   },
   "file_extension": ".py",
   "mimetype": "text/x-python",
   "name": "python",
   "nbconvert_exporter": "python",
   "pygments_lexer": "ipython3",
   "version": "3.9.13 (main, Aug 25 2022, 23:51:50) [MSC v.1916 64 bit (AMD64)]"
  },
  "orig_nbformat": 4,
  "vscode": {
   "interpreter": {
    "hash": "74b8b5550d9a4bd47312fc4925b474308703c02b5070beca2150cc39634b882e"
   }
  }
 },
 "nbformat": 4,
 "nbformat_minor": 2
}
