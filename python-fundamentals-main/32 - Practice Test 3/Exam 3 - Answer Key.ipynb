{
 "cells": [
  {
   "cell_type": "markdown",
   "id": "fixed-intake",
   "metadata": {},
   "source": [
    "### Exam 3 - Answer Key"
   ]
  },
  {
   "cell_type": "markdown",
   "id": "dental-edward",
   "metadata": {},
   "source": [
    "* Q1: `b`\n",
    "* Q2: `c`\n",
    "* Q3: `a`\n",
    "* Q4: `d`\n",
    "* Q5: `c`\n",
    "* Q6: `d`\n",
    "* Q7: `a`\n",
    "* Q8: `c`\n",
    "* Q9: `b`\n",
    "* Q10: `a`"
   ]
  }
 ],
 "metadata": {
  "kernelspec": {
   "display_name": "Python 3",
   "language": "python",
   "name": "python3"
  },
  "language_info": {
   "codemirror_mode": {
    "name": "ipython",
    "version": 3
   },
   "file_extension": ".py",
   "mimetype": "text/x-python",
   "name": "python",
   "nbconvert_exporter": "python",
   "pygments_lexer": "ipython3",
   "version": "3.9.1"
  }
 },
 "nbformat": 4,
 "nbformat_minor": 5
}
